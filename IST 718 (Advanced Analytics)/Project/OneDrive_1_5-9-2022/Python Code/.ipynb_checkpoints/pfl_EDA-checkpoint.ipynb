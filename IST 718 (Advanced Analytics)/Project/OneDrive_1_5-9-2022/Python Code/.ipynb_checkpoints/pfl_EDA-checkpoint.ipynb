{
 "cells": [
  {
   "cell_type": "markdown",
   "metadata": {},
   "source": [
    "## Obtain\n",
    "- PFL data was obtained via web scraping and shared through teams chat\n",
    "- downloaded data file to SU onedrive folder to easily load into jupyter notebook\n"
   ]
  },
  {
   "cell_type": "code",
   "execution_count": 1,
   "metadata": {},
   "outputs": [],
   "source": [
    "#import the necessary libraries\n",
    "import pandas as pd\n",
    "import numpy as np\n",
    "import re\n",
    "\n",
    "#for plotting\n",
    "import matplotlib.pyplot as plt\n",
    "import seaborn as sns\n",
    "\n",
    "#from sklearn\n",
    "from sklearn.ensemble import RandomForestClassifier\n",
    "from sklearn.model_selection import train_test_split\n"
   ]
  },
  {
   "cell_type": "markdown",
   "metadata": {},
   "source": [
    "## Scrub"
   ]
  },
  {
   "cell_type": "code",
   "execution_count": 2,
   "metadata": {},
   "outputs": [
    {
     "data": {
      "text/html": [
       "<div>\n",
       "<style scoped>\n",
       "    .dataframe tbody tr th:only-of-type {\n",
       "        vertical-align: middle;\n",
       "    }\n",
       "\n",
       "    .dataframe tbody tr th {\n",
       "        vertical-align: top;\n",
       "    }\n",
       "\n",
       "    .dataframe thead th {\n",
       "        text-align: right;\n",
       "    }\n",
       "</style>\n",
       "<table border=\"1\" class=\"dataframe\">\n",
       "  <thead>\n",
       "    <tr style=\"text-align: right;\">\n",
       "      <th></th>\n",
       "      <th>Date</th>\n",
       "      <th>Fighter</th>\n",
       "      <th>Sig. Str. Leg</th>\n",
       "      <th>Sig. Str. Leg Attempts</th>\n",
       "      <th>Opp Sig. Str. Leg</th>\n",
       "      <th>Opp Sig. Str. Leg Attempts</th>\n",
       "      <th>Sig. Str. Ground Landed</th>\n",
       "      <th>Sig. Str. Ground Attempts</th>\n",
       "      <th>Opp Sig. Str. Ground Landed</th>\n",
       "      <th>Opp Sig. Str. Ground Attempts</th>\n",
       "      <th>...</th>\n",
       "      <th>Opp Outer Zone</th>\n",
       "      <th>Sig. Str. Per KnockDown</th>\n",
       "      <th>Opp Sig. Str. Per KnockDown</th>\n",
       "      <th>Sig. Str. Punches Diff</th>\n",
       "      <th>Sig. Str. Diff</th>\n",
       "      <th>Sig. Str. Leg Diff</th>\n",
       "      <th>Sig. Str. Ground Diff</th>\n",
       "      <th>Odds</th>\n",
       "      <th>Total Wins</th>\n",
       "      <th>Win</th>\n",
       "    </tr>\n",
       "  </thead>\n",
       "  <tbody>\n",
       "    <tr>\n",
       "      <td>0</td>\n",
       "      <td>6/7/2018 0:00</td>\n",
       "      <td>Francimar Barroso</td>\n",
       "      <td>7</td>\n",
       "      <td>7</td>\n",
       "      <td>0</td>\n",
       "      <td>0</td>\n",
       "      <td>0</td>\n",
       "      <td>0</td>\n",
       "      <td>0</td>\n",
       "      <td>0</td>\n",
       "      <td>...</td>\n",
       "      <td>0.702</td>\n",
       "      <td>0.0</td>\n",
       "      <td>0.0</td>\n",
       "      <td>0.0</td>\n",
       "      <td>0.287093</td>\n",
       "      <td>NaN</td>\n",
       "      <td>0.0</td>\n",
       "      <td>-335</td>\n",
       "      <td>1</td>\n",
       "      <td>1</td>\n",
       "    </tr>\n",
       "    <tr>\n",
       "      <td>1</td>\n",
       "      <td>6/7/2018 0:00</td>\n",
       "      <td>Daniel Gallemore</td>\n",
       "      <td>0</td>\n",
       "      <td>0</td>\n",
       "      <td>7</td>\n",
       "      <td>7</td>\n",
       "      <td>0</td>\n",
       "      <td>0</td>\n",
       "      <td>0</td>\n",
       "      <td>0</td>\n",
       "      <td>...</td>\n",
       "      <td>0.000</td>\n",
       "      <td>0.0</td>\n",
       "      <td>0.0</td>\n",
       "      <td>0.0</td>\n",
       "      <td>-0.287093</td>\n",
       "      <td>NaN</td>\n",
       "      <td>0.0</td>\n",
       "      <td>255</td>\n",
       "      <td>0</td>\n",
       "      <td>0</td>\n",
       "    </tr>\n",
       "    <tr>\n",
       "      <td>2</td>\n",
       "      <td>6/7/2018 0:00</td>\n",
       "      <td>Alexandre Almeida</td>\n",
       "      <td>0</td>\n",
       "      <td>0</td>\n",
       "      <td>2</td>\n",
       "      <td>3</td>\n",
       "      <td>4</td>\n",
       "      <td>4</td>\n",
       "      <td>0</td>\n",
       "      <td>0</td>\n",
       "      <td>...</td>\n",
       "      <td>0.000</td>\n",
       "      <td>0.0</td>\n",
       "      <td>0.0</td>\n",
       "      <td>NaN</td>\n",
       "      <td>0.303571</td>\n",
       "      <td>NaN</td>\n",
       "      <td>NaN</td>\n",
       "      <td>-2000</td>\n",
       "      <td>1</td>\n",
       "      <td>1</td>\n",
       "    </tr>\n",
       "    <tr>\n",
       "      <td>3</td>\n",
       "      <td>6/7/2018 0:00</td>\n",
       "      <td>Lee Coville</td>\n",
       "      <td>2</td>\n",
       "      <td>3</td>\n",
       "      <td>0</td>\n",
       "      <td>0</td>\n",
       "      <td>0</td>\n",
       "      <td>0</td>\n",
       "      <td>4</td>\n",
       "      <td>4</td>\n",
       "      <td>...</td>\n",
       "      <td>0.000</td>\n",
       "      <td>0.0</td>\n",
       "      <td>0.0</td>\n",
       "      <td>0.0</td>\n",
       "      <td>-0.303571</td>\n",
       "      <td>NaN</td>\n",
       "      <td>NaN</td>\n",
       "      <td>1100</td>\n",
       "      <td>0</td>\n",
       "      <td>0</td>\n",
       "    </tr>\n",
       "    <tr>\n",
       "      <td>4</td>\n",
       "      <td>6/7/2018 0:00</td>\n",
       "      <td>Magomed Idrisov</td>\n",
       "      <td>1</td>\n",
       "      <td>2</td>\n",
       "      <td>0</td>\n",
       "      <td>1</td>\n",
       "      <td>13</td>\n",
       "      <td>13</td>\n",
       "      <td>0</td>\n",
       "      <td>1</td>\n",
       "      <td>...</td>\n",
       "      <td>0.000</td>\n",
       "      <td>31.0</td>\n",
       "      <td>0.0</td>\n",
       "      <td>NaN</td>\n",
       "      <td>0.275287</td>\n",
       "      <td>0.5</td>\n",
       "      <td>1.0</td>\n",
       "      <td>-2000</td>\n",
       "      <td>0</td>\n",
       "      <td>0</td>\n",
       "    </tr>\n",
       "  </tbody>\n",
       "</table>\n",
       "<p>5 rows × 57 columns</p>\n",
       "</div>"
      ],
      "text/plain": [
       "            Date            Fighter  Sig. Str. Leg  Sig. Str. Leg Attempts  \\\n",
       "0  6/7/2018 0:00  Francimar Barroso              7                       7   \n",
       "1  6/7/2018 0:00   Daniel Gallemore              0                       0   \n",
       "2  6/7/2018 0:00  Alexandre Almeida              0                       0   \n",
       "3  6/7/2018 0:00        Lee Coville              2                       3   \n",
       "4  6/7/2018 0:00    Magomed Idrisov              1                       2   \n",
       "\n",
       "   Opp Sig. Str. Leg  Opp Sig. Str. Leg Attempts  Sig. Str. Ground Landed  \\\n",
       "0                  0                           0                        0   \n",
       "1                  7                           7                        0   \n",
       "2                  2                           3                        4   \n",
       "3                  0                           0                        0   \n",
       "4                  0                           1                       13   \n",
       "\n",
       "   Sig. Str. Ground Attempts  Opp Sig. Str. Ground Landed  \\\n",
       "0                          0                            0   \n",
       "1                          0                            0   \n",
       "2                          4                            0   \n",
       "3                          0                            4   \n",
       "4                         13                            0   \n",
       "\n",
       "   Opp Sig. Str. Ground Attempts  ...  Opp Outer Zone  \\\n",
       "0                              0  ...           0.702   \n",
       "1                              0  ...           0.000   \n",
       "2                              0  ...           0.000   \n",
       "3                              4  ...           0.000   \n",
       "4                              1  ...           0.000   \n",
       "\n",
       "   Sig. Str. Per KnockDown  Opp Sig. Str. Per KnockDown  \\\n",
       "0                      0.0                          0.0   \n",
       "1                      0.0                          0.0   \n",
       "2                      0.0                          0.0   \n",
       "3                      0.0                          0.0   \n",
       "4                     31.0                          0.0   \n",
       "\n",
       "   Sig. Str. Punches Diff  Sig. Str. Diff  Sig. Str. Leg Diff  \\\n",
       "0                     0.0        0.287093                 NaN   \n",
       "1                     0.0       -0.287093                 NaN   \n",
       "2                     NaN        0.303571                 NaN   \n",
       "3                     0.0       -0.303571                 NaN   \n",
       "4                     NaN        0.275287                 0.5   \n",
       "\n",
       "   Sig. Str. Ground Diff  Odds  Total Wins  Win  \n",
       "0                    0.0  -335           1    1  \n",
       "1                    0.0   255           0    0  \n",
       "2                    NaN -2000           1    1  \n",
       "3                    NaN  1100           0    0  \n",
       "4                    1.0 -2000           0    0  \n",
       "\n",
       "[5 rows x 57 columns]"
      ]
     },
     "execution_count": 2,
     "metadata": {},
     "output_type": "execute_result"
    }
   ],
   "source": [
    "#Load  the dataset from one drive\n",
    "pfl = pd.read_csv(r\"C:\\Users\\Charlie Vanleuvan\\OneDrive - Syracuse University\\IST 718 Big Data Analytics\\Final Project\\PFL_Rolling_DB2.csv\")\n",
    "pfl.head(5)"
   ]
  },
  {
   "cell_type": "code",
   "execution_count": 6,
   "metadata": {},
   "outputs": [
    {
     "name": "stdout",
     "output_type": "stream",
     "text": [
      "57\n",
      "Date                              object\n",
      "Fighter                           object\n",
      "Sig. Str. Leg                      int64\n",
      "Sig. Str. Leg Attempts             int64\n",
      "Opp Sig. Str. Leg                  int64\n",
      "Opp Sig. Str. Leg Attempts         int64\n",
      "Sig. Str. Ground Landed            int64\n",
      "Sig. Str. Ground Attempts          int64\n",
      "Opp Sig. Str. Ground Landed        int64\n",
      "Opp Sig. Str. Ground Attempts      int64\n",
      "Total Strikes Landed               int64\n",
      "Total Strikes Attempts             int64\n",
      "Opp Total Strikes Landed           int64\n",
      "Opp Total Strikes Attempts         int64\n",
      "Total Takedowns Landed             int64\n",
      "Total Takedowns Attempts           int64\n",
      "Opp Total Takedowns Landed         int64\n",
      "Opp Total Takedowns Attempts       int64\n",
      "Submission Total Attempts          int64\n",
      "Opp Submission Total Attempts      int64\n",
      "Takedown %                       float64\n",
      "Opp Takedown %                   float64\n",
      "Sig. Str. Leg %                  float64\n",
      "Opp Sig. Str. Leg %              float64\n",
      "Sig. Str. Ground %               float64\n",
      "Opp Sig. Str. Ground %           float64\n",
      "Total Strikes %                  float64\n",
      "Opp Total Strikes %              float64\n",
      "KnockDown Total                    int64\n",
      "Opp KnockDown Total                int64\n",
      "KnockDown Total Difference         int64\n",
      "Ground Time                      float64\n",
      "Opp Ground Time                  float64\n",
      "Standing Time                    float64\n",
      "Opp Standing Time                float64\n",
      "Dominant Positions                 int64\n",
      "Opp Dominant Positions             int64\n",
      "Top Strike Speed                 float64\n",
      "Opp Top Strike Speed             float64\n",
      "Height                            object\n",
      "Weight                           float64\n",
      "Reach                            float64\n",
      "Leg Reach                        float64\n",
      "Points                             int64\n",
      "Inner Zone                       float64\n",
      "Opp Inner Zone                   float64\n",
      "Outer Zone                       float64\n",
      "Opp Outer Zone                   float64\n",
      "Sig. Str. Per KnockDown          float64\n",
      "Opp Sig. Str. Per KnockDown      float64\n",
      "Sig. Str. Punches Diff           float64\n",
      "Sig. Str. Diff                   float64\n",
      "Sig. Str. Leg Diff               float64\n",
      "Sig. Str. Ground Diff            float64\n",
      "Odds                               int64\n",
      "Total Wins                         int64\n",
      "Win                                int64\n",
      "dtype: object\n"
     ]
    }
   ],
   "source": [
    "#number of columns\n",
    "print(len(pfl.columns))\n",
    "\n",
    "#column data types\n",
    "print(pfl.dtypes)"
   ]
  },
  {
   "cell_type": "code",
   "execution_count": 11,
   "metadata": {},
   "outputs": [
    {
     "name": "stdout",
     "output_type": "stream",
     "text": [
      "Date                               0\n",
      "Fighter                            0\n",
      "Sig. Str. Leg                      0\n",
      "Sig. Str. Leg Attempts             0\n",
      "Opp Sig. Str. Leg                  0\n",
      "Opp Sig. Str. Leg Attempts         0\n",
      "Sig. Str. Ground Landed            0\n",
      "Sig. Str. Ground Attempts          0\n",
      "Opp Sig. Str. Ground Landed        0\n",
      "Opp Sig. Str. Ground Attempts      0\n",
      "Total Strikes Landed               0\n",
      "Total Strikes Attempts             0\n",
      "Opp Total Strikes Landed           0\n",
      "Opp Total Strikes Attempts         0\n",
      "Total Takedowns Landed             0\n",
      "Total Takedowns Attempts           0\n",
      "Opp Total Takedowns Landed         0\n",
      "Opp Total Takedowns Attempts       0\n",
      "Submission Total Attempts          0\n",
      "Opp Submission Total Attempts      0\n",
      "Takedown %                         0\n",
      "Opp Takedown %                     0\n",
      "Sig. Str. Leg %                    0\n",
      "Opp Sig. Str. Leg %                0\n",
      "Sig. Str. Ground %                 0\n",
      "Opp Sig. Str. Ground %             0\n",
      "Total Strikes %                    0\n",
      "Opp Total Strikes %                0\n",
      "KnockDown Total                    0\n",
      "Opp KnockDown Total                0\n",
      "KnockDown Total Difference         0\n",
      "Ground Time                        0\n",
      "Opp Ground Time                    0\n",
      "Standing Time                      0\n",
      "Opp Standing Time                  0\n",
      "Dominant Positions                 0\n",
      "Opp Dominant Positions             0\n",
      "Top Strike Speed                   0\n",
      "Opp Top Strike Speed               0\n",
      "Height                             0\n",
      "Weight                             0\n",
      "Reach                              0\n",
      "Leg Reach                          0\n",
      "Points                             0\n",
      "Inner Zone                         0\n",
      "Opp Inner Zone                     0\n",
      "Outer Zone                         0\n",
      "Opp Outer Zone                     0\n",
      "Sig. Str. Per KnockDown            0\n",
      "Opp Sig. Str. Per KnockDown        0\n",
      "Sig. Str. Punches Diff            80\n",
      "Sig. Str. Diff                     9\n",
      "Sig. Str. Leg Diff                52\n",
      "Sig. Str. Ground Diff            128\n",
      "Odds                               0\n",
      "Total Wins                         0\n",
      "Win                                0\n",
      "dtype: int64\n"
     ]
    }
   ],
   "source": [
    "#any columns have NaN?\n",
    "print(pfl.isna().sum())"
   ]
  },
  {
   "cell_type": "code",
   "execution_count": 18,
   "metadata": {},
   "outputs": [
    {
     "name": "stdout",
     "output_type": "stream",
     "text": [
      "Index(['Sig. Str. Leg', 'Sig. Str. Leg Attempts', 'Opp Sig. Str. Leg',\n",
      "       'Opp Sig. Str. Leg Attempts', 'Sig. Str. Ground Landed',\n",
      "       'Sig. Str. Ground Attempts', 'Opp Sig. Str. Ground Landed',\n",
      "       'Opp Sig. Str. Ground Attempts', 'Total Strikes Landed',\n",
      "       'Total Strikes Attempts', 'Opp Total Strikes Landed',\n",
      "       'Opp Total Strikes Attempts', 'Total Takedowns Landed',\n",
      "       'Total Takedowns Attempts', 'Opp Total Takedowns Landed',\n",
      "       'Opp Total Takedowns Attempts', 'Submission Total Attempts',\n",
      "       'Opp Submission Total Attempts', 'Takedown %', 'Opp Takedown %',\n",
      "       'Sig. Str. Leg %', 'Opp Sig. Str. Leg %', 'Sig. Str. Ground %',\n",
      "       'Opp Sig. Str. Ground %', 'Total Strikes %', 'Opp Total Strikes %',\n",
      "       'KnockDown Total', 'Opp KnockDown Total', 'KnockDown Total Difference',\n",
      "       'Ground Time', 'Opp Ground Time', 'Standing Time', 'Opp Standing Time',\n",
      "       'Dominant Positions', 'Opp Dominant Positions', 'Top Strike Speed',\n",
      "       'Opp Top Strike Speed', 'Height', 'Weight', 'Reach', 'Leg Reach',\n",
      "       'Points', 'Inner Zone', 'Opp Inner Zone', 'Outer Zone',\n",
      "       'Opp Outer Zone', 'Sig. Str. Per KnockDown',\n",
      "       'Opp Sig. Str. Per KnockDown', 'Sig. Str. Punches Diff',\n",
      "       'Sig. Str. Diff', 'Sig. Str. Leg Diff', 'Sig. Str. Ground Diff', 'Odds',\n",
      "       'Total Wins'],\n",
      "      dtype='object')\n",
      "There are 54 attributes.\n"
     ]
    }
   ],
   "source": [
    "#there are 54 factors in this data set, not including fighter name and date\n",
    "print(pfl.columns[2:-1])\n",
    "\n",
    "print(\"There are {} attributes.\".format(len(pfl.columns[2:-1])))"
   ]
  },
  {
   "cell_type": "code",
   "execution_count": 19,
   "metadata": {},
   "outputs": [
    {
     "name": "stdout",
     "output_type": "stream",
     "text": [
      "['Francimar Barroso' 'Daniel Gallemore' 'Alexandre Almeida' 'Lee Coville'\n",
      " 'Magomed Idrisov' 'Steven Siler' 'Caio Alencar' 'Kelvin Tiller'\n",
      " 'Marcos Galvao' 'Nazareno Malegarie' 'Jared Rosholt' 'Valdrin Istrefi'\n",
      " 'Alex Nicholson' 'Jake Heun' 'Timur Valiev' 'Max Coga' 'Lance Palmer'\n",
      " 'Bekbulat Magomedov' 'Andre Harrison' 'Jumabieke Tuerxun' 'Josh Copeland'\n",
      " 'Jack May' 'Dan Spohn' 'Bozigit Ataev' 'Chris Wade' 'Natan Schulte'\n",
      " 'Thiago Tavares' 'Robert Watley' 'Maxim Grishin' 'Jason Butcher'\n",
      " 'Rakim Cleveland' 'Rashid Yusupov' 'Vinny Magalhaes' 'Jamie Abdallah'\n",
      " 'Islam Mamedov' 'Yuki Kawana' 'Smealinho Rama' 'Brandon Halsey'\n",
      " 'Ronny Markes' \"Sean O'Connell\" 'Efrain Escudero' 'Jason High'\n",
      " 'Kayla Harrison' 'Brittney Elkin' 'Brian Foster' 'Ramsey Nijem'\n",
      " 'Luiz Firmino' 'Will Brooks' 'Bojan Velickovic' 'Jonatan Westin'\n",
      " 'Danillo Villefort' 'Abus Magomedov' 'Rex Harris' 'Andre Lobato'\n",
      " 'Louis Taylor' 'Anderson Goncalves' 'Bruno Santos' 'Sadibou Sy'\n",
      " 'Joao Zeferino' 'Paul Bradley' 'Herman Terrado' 'Magomed Magomedkerimov'\n",
      " 'John Howard' 'Gasan Umalatov' 'Shamil Gamzatov' 'Eddie Gordon'\n",
      " 'Rick Story' 'Yuri Villefort' 'Abubakar Nurmagomedov' 'Pavlo Kusch'\n",
      " 'Jake Shields' 'Ray Cooper III' 'Shawn Jordan' 'Philipe Lins'\n",
      " 'Arthur Estrazulas' 'Artur Alibulatov' 'Rashid Magomedov' 'Carlton Minus'\n",
      " 'Jozette Cotton' 'Muhammed Dereese' 'Leroy Johnson'\n",
      " 'Ramazan Kuramagomedov' 'Robert Hale' 'Umar Nurmagomedov'\n",
      " 'Saidyokub Kakharamonov' 'Emiliano Sordi' 'Caio Magalhaes' 'Mike Kyle'\n",
      " 'Handesson Ferreira' 'Alexandre Bezerra' 'Johnny Case' 'Moriel Charneski'\n",
      " 'Roberta Samad' 'Andre Fialho' 'Chris Curtis' 'Gamzat Khiramagomedov'\n",
      " 'Glaico Franca' 'Genah Fabian' 'Bobbi Jo Dalziel' 'David Michaud'\n",
      " 'Sarah Kaufman' 'Morgan Frier' 'Zane Kamaka' 'Larissa Pacheco'\n",
      " 'Gadzhi Rabadanov' 'Damon Jackson' 'Movlid Khaybulaev' 'Jeremy Kennedy'\n",
      " 'Luis Rafael Laurentino' 'Bao Yincang' 'Loik Radzhabov' 'Ylies Djiroun'\n",
      " 'Akhmed Aliev' 'Carlao Silva' 'Peter Petties' 'Nate Andrews'\n",
      " 'Alex Gilpin' 'Ante Delija' 'Carl Seumanutafa' 'Jordan Johnson'\n",
      " 'Mikhail Mokhnatkin' 'Sigi Pesaleli' 'Viktor Nemkov' 'Ali Isaev'\n",
      " 'Denis Goltsov' 'Satoshi Ishii' 'Zeke Tuinei-Wily' 'Jesse Ronson'\n",
      " 'Freddy Assuncao' 'Ben Edwards' 'Sidemar Honorio' 'Brendan Loughnane'\n",
      " 'Matt Wagy' 'Nikolai Aleksakhin' 'Daniel Pineda' 'David Alex Valente'\n",
      " 'Anthony Pettis' 'Clay Collard' 'Marcin Held' 'Lazar Stojadinovic'\n",
      " 'Bubba Jenkins' 'Sheymon Moraes' 'Joilton Lutterbach' 'Raush Manfio'\n",
      " 'Mikhail Odintsov' 'Anthony Dizy' 'Jo Sungbin' 'Tyler Diamond'\n",
      " 'Alexander Martinez' 'Rory MacDonald' 'Curtis Millender' 'Jason Ponet'\n",
      " 'Gleison Tibau' 'Chris Camozzi' 'Antonio Carlos Jr.' 'Tom Lawlor'\n",
      " 'Cezar Ferreira' 'Nick Roehrick' 'Marthin Hamlet' 'Fabricio Werdum'\n",
      " 'Renan Ferreira' 'Mariana Morais' 'Mohammed Usman' 'Brandon Sayles'\n",
      " 'Julija Pajic' 'Bruno Cappelozza' 'Cindy Dandois' 'Kaitlin Young'\n",
      " 'Laura Sanchez' 'Olena Kolesnyk' 'Taylor Guardado' 'Magomed Umalatov'\n",
      " 'Kyron Bowen' 'Claressa Shields' 'Bobby Moffett' 'Olivier Aubin-Mercier'\n",
      " 'Jesse Stirn' 'Arman Ospanov' 'Cory Hendricks' 'Jordan Young'\n",
      " 'Aleksei Kunchenko' 'Muhammed DeReese' 'Chandler Cole' 'Klidson Abreu'\n",
      " 'Jamelle Jones' 'Micah Terrill' 'Darrell Horcher' 'Brett Cooper'\n",
      " 'Tyler Hill' 'Leandro Silva' 'Michael Lombardo' 'Hopeton Stewart'\n",
      " 'Elvin Espinoza' 'Stuart Austin' 'Marina Mokhnatkina' 'Claudia Zamora'\n",
      " 'Miranda Barber' 'Amanda Leve' 'Christian Lohsen' 'Jonas Flok'\n",
      " 'Jason Knight' 'Alejandro Flores' 'Carl Deaton' 'Jacob Kilburn'\n",
      " 'Brandon Jenkins' 'Abigail Montes' 'Omari Akhmedov' 'Julia Budd'\n",
      " 'Don Madge' 'Nate Williams']\n",
      "There are 210 fighters.\n"
     ]
    }
   ],
   "source": [
    "#how many different fighters?\n",
    "print(pfl['Fighter'].unique())\n",
    "\n",
    "print(\"There are {} fighters.\".format(len(pfl['Fighter'].unique())))"
   ]
  },
  {
   "cell_type": "code",
   "execution_count": 3,
   "metadata": {},
   "outputs": [],
   "source": [
    "#fill in the NaN values with the mean of that Series\n",
    "values = {'Sig. Str. Leg Diff':pfl['Sig. Str. Leg Diff'].mean(),\n",
    "            'Sig. Str. Punches Diff':pfl['Sig. Str. Punches Diff'].mean(),\n",
    "            'Sig. Str. Diff':pfl['Sig. Str. Diff'].mean(),\n",
    "            'Sig. Str. Ground Diff':pfl['Sig. Str. Ground Diff'].mean()}\n",
    "\n",
    "pfl.fillna(value = values, inplace = True)"
   ]
  },
  {
   "cell_type": "code",
   "execution_count": 4,
   "metadata": {},
   "outputs": [],
   "source": [
    "#Need to clean the height column. It is in x'y\" format. Needs to be in inches\n",
    "def height_in_inches(x):\n",
    "    x = re.sub(r\"\\\\\",\"\",x)\n",
    "    try:\n",
    "        height = re.findall(pattern = r\"\\d+\", string = x)\n",
    "        feet = int(height[0]) * 12\n",
    "        inches = int(height[1])\n",
    "\n",
    "        new_height = feet + inches\n",
    "        return(new_height)\n",
    "    except IndexError:\n",
    "        x = re.sub('\"',\"\",x)\n",
    "        return(int(x))"
   ]
  },
  {
   "cell_type": "code",
   "execution_count": 5,
   "metadata": {},
   "outputs": [],
   "source": [
    "#apply the function\n",
    "pfl['Height'] = pfl['Height'].apply(height_in_inches)\n"
   ]
  },
  {
   "cell_type": "markdown",
   "metadata": {},
   "source": [
    "## Explore"
   ]
  },
  {
   "cell_type": "code",
   "execution_count": 35,
   "metadata": {},
   "outputs": [
    {
     "data": {
      "text/plain": [
       "Text(0.5, 1.0, 'Odds Distribution For Different Fighter Win Records')"
      ]
     },
     "execution_count": 35,
     "metadata": {},
     "output_type": "execute_result"
    },
    {
     "data": {
      "image/png": "[encoded data removed]",
      "text/plain": [
       "<Figure size 864x720 with 1 Axes>"
      ]
     },
     "metadata": {
      "needs_background": "light"
     },
     "output_type": "display_data"
    }
   ],
   "source": [
    "#Plot the distribution of __ vs. # of wins a fighter has\n",
    "plt.figure(figsize = (12,10))\n",
    "sns.violinplot(x = pfl['Total Wins'], y = pfl['Odds'], linewidth=3, palette=\"Blues\")\n",
    "plt.title(\"Odds Distribution For Different Fighter Win Records\")"
   ]
  },
  {
   "cell_type": "code",
   "execution_count": 107,
   "metadata": {},
   "outputs": [
    {
     "data": {
      "image/png": "[encoded data removed]",
      "text/plain": [
       "<Figure size 864x720 with 2 Axes>"
      ]
     },
     "metadata": {
      "needs_background": "light"
     },
     "output_type": "display_data"
    }
   ],
   "source": [
    "#remove the 0 reach fighters\n",
    "fig, (ax1,ax2) = plt.subplots(1,2, figsize=(12,10))\n",
    "ax1.scatter(pfl[(pfl['Reach'] != 0) & (pfl['Win'] == 1)]['Height'], pfl[(pfl['Reach'] != 0) & (pfl['Win'] == 1)]['Reach'])\n",
    "ax2.scatter(pfl[(pfl['Reach'] != 0) & (pfl['Win'] == 0)]['Height'],pfl[(pfl['Reach'] != 0) & (pfl['Win'] == 0)]['Reach'])\n",
    "\n",
    "ax1.set_title(\"Winning Fights\")\n",
    "ax2.set_title(\"Losing Fights\")\n",
    "plt.show()\n"
   ]
  },
  {
   "cell_type": "markdown",
   "metadata": {},
   "source": [
    "## Model"
   ]
  },
  {
   "cell_type": "code",
   "execution_count": 10,
   "metadata": {},
   "outputs": [],
   "source": [
    "#data set that will be used for creating training and test split\n",
    "# dont need the fighter name, date\n",
    "df = pfl[pfl.columns[2:]]\n",
    "\n",
    "#create predictor and response sets\n",
    "x = df[df.columns[:-1]]\n",
    "y = df['Win']\n",
    "\n",
    "#test and train splits\n",
    "x_train, x_test, y_train, y_test = train_test_split(x, y, test_size = 0.2, random_state = 10)\n"
   ]
  },
  {
   "cell_type": "code",
   "execution_count": 12,
   "metadata": {},
   "outputs": [
    {
     "data": {
      "text/plain": [
       "RandomForestClassifier(bootstrap=True, class_weight=None, criterion='gini',\n",
       "                       max_depth=None, max_features='auto', max_leaf_nodes=None,\n",
       "                       min_impurity_decrease=0.0, min_impurity_split=None,\n",
       "                       min_samples_leaf=1, min_samples_split=2,\n",
       "                       min_weight_fraction_leaf=0.0, n_estimators=100,\n",
       "                       n_jobs=None, oob_score=False, random_state=10, verbose=0,\n",
       "                       warm_start=False)"
      ]
     },
     "execution_count": 12,
     "metadata": {},
     "output_type": "execute_result"
    }
   ],
   "source": [
    "#create the RandomForest Classifier. Start with default model params\n",
    "clf = RandomForestClassifier(n_estimators = 100, max_depth = None, max_features= \"auto\", random_state = 10)\n",
    "\n",
    "#fit the RFC to the training data\n",
    "clf.fit(x_train,y_train)"
   ]
  },
  {
   "cell_type": "code",
   "execution_count": 18,
   "metadata": {},
   "outputs": [
    {
     "name": "stdout",
     "output_type": "stream",
     "text": [
      "Test score\n",
      "0.7307692307692307\n",
      "Training score\n"
     ]
    },
    {
     "data": {
      "text/plain": [
       "0.9980694980694981"
      ]
     },
     "execution_count": 18,
     "metadata": {},
     "output_type": "execute_result"
    }
   ],
   "source": [
    "print(\"Test score\")\n",
    "print(clf.score(x_test,y_test))\n",
    "\n",
    "print(\"Training score\")\n",
    "clf.score(x_train, y_train)"
   ]
  },
  {
   "cell_type": "code",
   "execution_count": 19,
   "metadata": {},
   "outputs": [
    {
     "name": "stdout",
     "output_type": "stream",
     "text": [
      "42 25 10 53\n"
     ]
    }
   ],
   "source": [
    "#Get a confusion matrix\n",
    "from sklearn.metrics import confusion_matrix\n",
    "\n",
    "#get TN, FP, FN, TP\n",
    "tn, fp, fn, tp = confusion_matrix(y_test, clf.predict(x_test)).ravel()\n",
    "\n",
    "print(tn,fp,fn,tp) #more false positives than false negatives"
   ]
  },
  {
   "cell_type": "code",
   "execution_count": 33,
   "metadata": {},
   "outputs": [
    {
     "name": "stdout",
     "output_type": "stream",
     "text": [
      "Testing scores:\n",
      "[0.81481481 0.77777778 0.76923077 0.8        0.88      ]\n",
      "Average accuracy score from k-fold validation is 0.81\n"
     ]
    },
    {
     "data": {
      "image/png": "[encoded data removed]",
      "text/plain": [
       "<Figure size 432x288 with 1 Axes>"
      ]
     },
     "metadata": {
      "needs_background": "light"
     },
     "output_type": "display_data"
    }
   ],
   "source": [
    "#Cross validate\n",
    "from sklearn.model_selection import cross_validate\n",
    "\n",
    "#run 5-fold CV\n",
    "cv_results = cross_validate(clf, x_test, y_test, cv = 5)\n",
    "\n",
    "#print the accuracy scores\n",
    "print(\"Testing scores:\")\n",
    "print(cv_results['test_score'])\n",
    "print(\"Average accuracy score from k-fold validation is {:.2f}\".format(sum(cv_results['test_score'] / len(cv_results['test_score']))))\n",
    "\n",
    "#plot the accuracy change through the rounds of testing\n",
    "plt.plot(cv_results['test_score'])\n",
    "plt.xlabel(\"# of Cross Validation Rounds\")\n",
    "plt.ylabel(\"Accuracy Score in-round\")\n",
    "plt.title(\"K-fold Cross Validation Accuracy Scores for Random Forest Classifiers\")\n",
    "plt.show()"
   ]
  },
  {
   "cell_type": "markdown",
   "metadata": {},
   "source": [
    "## Bring it back into perspective\n",
    " - Fight prediction success rate is quite good for sports. Typically 55-60% is very high \n",
    " - However, profitability is entirely dependent on the average odds\n",
    " - if the model prediction accuracy rate is higher than the average odds break even rate, then we can consider this a valid betting strategy"
   ]
  },
  {
   "cell_type": "code",
   "execution_count": 38,
   "metadata": {},
   "outputs": [
    {
     "name": "stdout",
     "output_type": "stream",
     "text": [
      "Average Decimal Odds are: 1.52\n",
      "Break-even win rate: 65.75\n"
     ]
    }
   ],
   "source": [
    "#Average odds across all fighters in matchups\n",
    "#first need to calculate decimal odds from american odds\n",
    "decimal_odds = [(100/abs(i)) if (i<0) else (i/100) for i in pfl['Odds']]\n",
    "\n",
    "#calculate the average decimal Odds\n",
    "average_decimal_odds = sum(decimal_odds) / len(decimal_odds)\n",
    "print(\"Average Decimal Odds are: {:.2f}\".format(average_decimal_odds))\n",
    "\n",
    "#calculate break even win rate\n",
    "print(\"Break-even win rate: {:.2f}\".format((1/average_decimal_odds) * 100))"
   ]
  },
  {
   "cell_type": "markdown",
   "metadata": {},
   "source": [
    "## Putting this into action\n",
    " - With a prediction success rate of 82%, we can reasonably expect to predict the winner of the fight 82% of the time\n",
    " - The average odds for all fights in our data set is 1.52 (in decimal form), which is roughly an average moneyline odds of -190\n",
    " - The breakeven win percentage for the average odds across the entire data set is 65.75%. This is the number of bets we would need to win to at least break even, given that the average odds remain at -190 and the wagered amount remains the same for all bets\n",
    " - Following this strategy, we can expect to have a 17% edge over the sportsbooks, which is positive expected value, thus giving us a profitable strategy"
   ]
  },
  {
   "cell_type": "code",
   "execution_count": null,
   "metadata": {},
   "outputs": [],
   "source": []
  },
  {
   "cell_type": "code",
   "execution_count": null,
   "metadata": {},
   "outputs": [],
   "source": []
  }
 ],
 "metadata": {
  "interpreter": {
   "hash": "816f2847e7aa62ffab630b357e739946d2809e293c83d43f1b33adf1e6799acf"
  },
  "kernelspec": {
   "display_name": "Python 3.8.0 64-bit",
   "language": "python",
   "name": "python3"
  },
  "language_info": {
   "codemirror_mode": {
    "name": "ipython",
    "version": 3
   },
   "file_extension": ".py",
   "mimetype": "text/x-python",
   "name": "python",
   "nbconvert_exporter": "python",
   "pygments_lexer": "ipython3",
   "version": "3.7.4"
  },
  "orig_nbformat": 4
 },
 "nbformat": 4,
 "nbformat_minor": 2
}
