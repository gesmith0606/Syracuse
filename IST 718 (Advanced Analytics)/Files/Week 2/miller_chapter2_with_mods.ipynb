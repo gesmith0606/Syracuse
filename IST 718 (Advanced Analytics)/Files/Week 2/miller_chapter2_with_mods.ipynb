{
 "cells": [
  {
   "cell_type": "code",
   "execution_count": 5,
   "metadata": {},
   "outputs": [
    {
     "name": "stdout",
     "output_type": "stream",
     "text": [
      "\n",
      "Contents of dodgers data frame ---------------\n",
      "  month  day  attend day_of_week opponent  temp   skies day_night cap shirt  \\\n",
      "0   APR   10   56000     Tuesday  Pirates    67  Clear        Day  NO    NO   \n",
      "1   APR   11   29729   Wednesday  Pirates    58  Cloudy     Night  NO    NO   \n",
      "2   APR   12   28328    Thursday  Pirates    57  Cloudy     Night  NO    NO   \n",
      "3   APR   13   31601      Friday   Padres    54  Cloudy     Night  NO    NO   \n",
      "4   APR   14   46549    Saturday   Padres    57  Cloudy     Night  NO    NO   \n",
      "\n",
      "  fireworks bobblehead  attend_000  \n",
      "0        NO         NO      56.000  \n",
      "1        NO         NO      29.729  \n",
      "2        NO         NO      28.328  \n",
      "3       YES         NO      31.601  \n",
      "4        NO         NO      46.549  \n"
     ]
    }
   ],
   "source": [
    "# Predictive Model for Los Angeles Dodgers Promotion and Attendance (Python)\n",
    "\n",
    "# BASED ON EXHIBIT 2.1 FROM MILLER (2015)\n",
    "\n",
    "# import packages for analysis and modeling\n",
    "import pandas as pd  # data frame operations\n",
    "\n",
    "import numpy as np  # arrays and math functions\n",
    "from scipy.stats import uniform  # for training-and-test split\n",
    "import statsmodels.api as sm  # statistical models (including regression)\n",
    "import statsmodels.formula.api as smf  # R-like model specification\n",
    "import matplotlib.pyplot as plt  # 2D plotting\n",
    "\n",
    "import seaborn as sns  # PROVIDES TRELLIS AND SMALL MULTIPLE PLOTTING\n",
    "\n",
    "# read in Dodgers bobbleheads data and create data frame\n",
    "dodgers = pd.read_csv(\"dodgers.csv\")\n",
    "\n",
    "# examine the structure of the data frame\n",
    "print(\"\\nContents of dodgers data frame ---------------\")\n",
    "\n",
    "# attendance in thousands for plotting \n",
    "dodgers['attend_000'] = dodgers['attend']/1000\n",
    "\n",
    "# print the first five rows of the data frame\n",
    "print(pd.DataFrame.head(dodgers))\n",
    "dodgerDF = pd.DataFrame(dodgers)\n",
    "\n",
    "mondays = dodgers[dodgers['day_of_week'] == 'Monday']\n",
    "tuesdays = dodgers[dodgers['day_of_week'] == 'Tuesday']\n",
    "wednesdays = dodgers[dodgers['day_of_week'] == 'Wednesday']\n",
    "thursdays = dodgers[dodgers['day_of_week'] == 'Thursday']\n",
    "fridays = dodgers[dodgers['day_of_week'] == 'Friday']\n",
    "saturdays = dodgers[dodgers['day_of_week'] == 'Saturday']\n",
    "sundays = dodgers[dodgers['day_of_week'] == 'Sunday']\n",
    "\n",
    "# convert days' attendance into list of vectors for box plot\n",
    "data = [mondays['attend_000'], tuesdays['attend_000'], \n",
    "    wednesdays['attend_000'], thursdays['attend_000'], \n",
    "    fridays['attend_000'], saturdays['attend_000'], \n",
    "    sundays['attend_000']]\n",
    "ordered_day_names = ['Mon', 'Tue', 'Wed', 'Thur', 'Fri', 'Sat', 'Sun']\n",
    "\n",
    "ordered_team_names = (sorted(set(dodgers['opponent']), reverse = True))\n"
   ]
  },
  {
   "cell_type": "code",
   "execution_count": 6,
   "metadata": {},
   "outputs": [
    {
     "ename": "AttributeError",
     "evalue": "module 'seaborn' has no attribute 'plt'",
     "output_type": "error",
     "traceback": [
      "\u001b[1;31m---------------------------------------------------------------------------\u001b[0m",
      "\u001b[1;31mAttributeError\u001b[0m                            Traceback (most recent call last)",
      "\u001b[1;32m<ipython-input-6-3c441f8d97db>\u001b[0m in \u001b[0;36m<module>\u001b[1;34m\u001b[0m\n\u001b[0;32m      6\u001b[0m \u001b[1;33m\u001b[0m\u001b[0m\n\u001b[0;32m      7\u001b[0m \u001b[0msns\u001b[0m\u001b[1;33m.\u001b[0m\u001b[0mboxplot\u001b[0m\u001b[1;33m(\u001b[0m\u001b[0my\u001b[0m\u001b[1;33m=\u001b[0m\u001b[1;34m\"attend\"\u001b[0m\u001b[1;33m,\u001b[0m \u001b[0mdata\u001b[0m\u001b[1;33m=\u001b[0m\u001b[0mdodgers\u001b[0m\u001b[1;33m)\u001b[0m\u001b[1;33m\u001b[0m\u001b[1;33m\u001b[0m\u001b[0m\n\u001b[1;32m----> 8\u001b[1;33m \u001b[0msns\u001b[0m\u001b[1;33m.\u001b[0m\u001b[0mplt\u001b[0m\u001b[1;33m.\u001b[0m\u001b[0mshow\u001b[0m\u001b[1;33m(\u001b[0m\u001b[1;33m)\u001b[0m\u001b[1;33m\u001b[0m\u001b[1;33m\u001b[0m\u001b[0m\n\u001b[0m\u001b[0;32m      9\u001b[0m \u001b[1;33m\u001b[0m\u001b[0m\n\u001b[0;32m     10\u001b[0m \u001b[0msns\u001b[0m\u001b[1;33m.\u001b[0m\u001b[0mboxplot\u001b[0m\u001b[1;33m(\u001b[0m\u001b[0mx\u001b[0m\u001b[1;33m=\u001b[0m\u001b[1;34m\"day_of_week\"\u001b[0m\u001b[1;33m,\u001b[0m \u001b[0my\u001b[0m\u001b[1;33m=\u001b[0m\u001b[1;34m\"attend\"\u001b[0m\u001b[1;33m,\u001b[0m \u001b[0mdata\u001b[0m\u001b[1;33m=\u001b[0m\u001b[0mdodgers\u001b[0m\u001b[1;33m,\u001b[0m \u001b[0mcolor\u001b[0m \u001b[1;33m=\u001b[0m \u001b[1;34m\"gray\"\u001b[0m\u001b[1;33m)\u001b[0m\u001b[1;33m;\u001b[0m\u001b[1;33m\u001b[0m\u001b[1;33m\u001b[0m\u001b[0m\n",
      "\u001b[1;31mAttributeError\u001b[0m: module 'seaborn' has no attribute 'plt'"
     ]
    },
    {
     "data": {
      "image/png": "[encoded data removed]",
      "text/plain": [
       "<Figure size 432x288 with 1 Axes>"
      ]
     },
     "metadata": {
      "needs_background": "light"
     },
     "output_type": "display_data"
    }
   ],
   "source": [
    "## SUMMARY STATISTICS\n",
    "\n",
    "np.mean(dodgers['attend'])\n",
    "# np.min(dodgers['attend'])\n",
    "# np.max(dodgers['attend'])\n",
    "\n",
    "sns.boxplot(y=\"attend\", data=dodgers)\n",
    "sns.plt.show()\n",
    "\n",
    "sns.boxplot(x=\"day_of_week\", y=\"attend\", data=dodgers, color = \"gray\");\n",
    "g.add_legend();\n",
    "sns.plt.show()\n",
    "\n",
    "# NUMBER OF PROMOTIONS - ONLY WORKS WITH BINARY VARIABLES\n",
    "\n",
    "#cap = np.count_nonzero(dodgers['cap'])\n",
    "#print(cap)\n",
    "#shirt = np.count_nonzero(dodgers['shirt'])\n",
    "#print(shirt)\n",
    "#fire = np.count_nonzero(dodgers['fireworks'])\n",
    "#print(fire)\n",
    "#bob = np.count_nonzero(dodgers['bobblehead'])\n",
    "#print(bob)\n",
    "\n",
    "#print(cap + shirt + fire + bob)\n",
    "\n",
    "sns.boxplot(x=\"month\", y=\"attend\", data=dodgers, color = \"gray\")\n",
    "g.add_legend();\n",
    "sns.plt.show()\n"
   ]
  },
  {
   "cell_type": "code",
   "execution_count": 7,
   "metadata": {},
   "outputs": [
    {
     "data": {
      "image/png": "[encoded data removed]",
      "text/plain": [
       "<Figure size 432x288 with 1 Axes>"
      ]
     },
     "metadata": {
      "needs_background": "light"
     },
     "output_type": "display_data"
    },
    {
     "name": "stderr",
     "output_type": "stream",
     "text": [
      "<ipython-input-7-9dae045c3a02>:12: MatplotlibDeprecationWarning: savefig() got unexpected keyword argument \"papertype\" which is no longer supported as of 3.3 and will become an error two minor releases later\n",
      "  plt.savefig('fig_advert_promo_dodgers_eda_day_of_week_Python.pdf',\n",
      "<ipython-input-7-9dae045c3a02>:12: MatplotlibDeprecationWarning: savefig() got unexpected keyword argument \"frameon\" which is no longer supported as of 3.3 and will become an error two minor releases later\n",
      "  plt.savefig('fig_advert_promo_dodgers_eda_day_of_week_Python.pdf',\n"
     ]
    },
    {
     "data": {
      "text/plain": [
       "<Figure size 432x288 with 0 Axes>"
      ]
     },
     "metadata": {},
     "output_type": "display_data"
    }
   ],
   "source": [
    "# exploratory data analysis: box plot for day of the week\n",
    "# FROM MILLER (2015)\n",
    "fig, axis = plt.subplots()\n",
    "axis.set_xlabel('Day of Week')\n",
    "axis.set_ylabel('Attendance (thousands)')\n",
    "day_plot = plt.boxplot(data, sym='o', vert=1, whis=1.5)\n",
    "plt.setp(day_plot['boxes'], color = 'black')    \n",
    "plt.setp(day_plot['whiskers'], color = 'black')    \n",
    "plt.setp(day_plot['fliers'], color = 'black', marker = 'o')\n",
    "axis.set_xticklabels(ordered_day_names)\n",
    "plt.show()\n",
    "plt.savefig('fig_advert_promo_dodgers_eda_day_of_week_Python.pdf', \n",
    "    bbox_inches = 'tight', dpi=None, facecolor='w', edgecolor='b', \n",
    "    orientation='portrait', papertype=None, format=None, \n",
    "    transparent=True, pad_inches=0.25, frameon=None) \n",
    "\n"
   ]
  },
  {
   "cell_type": "code",
   "execution_count": 8,
   "metadata": {},
   "outputs": [
    {
     "data": {
      "image/png": "[encoded data removed]",
      "text/plain": [
       "<Figure size 432x288 with 1 Axes>"
      ]
     },
     "metadata": {
      "needs_background": "light"
     },
     "output_type": "display_data"
    }
   ],
   "source": [
    "# exploratory data analysis: box plot for day of the week\n",
    "\n",
    "april = dodgers[dodgers['month'] == 'APR']\n",
    "may = dodgers[dodgers['month'] == 'MAY']\n",
    "june = dodgers[dodgers['month'] == 'JUN']\n",
    "july = dodgers[dodgers['month'] == 'JUL']\n",
    "august = dodgers[dodgers['month'] == 'AUG']\n",
    "september = dodgers[dodgers['month'] == 'SEP']\n",
    "october = dodgers[dodgers['month'] == 'OCT']\n",
    "\n",
    "data = [april['attend_000'], may['attend_000'], \n",
    "    june['attend_000'], july['attend_000'], \n",
    "    august['attend_000'], september['attend_000'], \n",
    "    october['attend_000']]\n",
    "ordered_month_names = ['April', 'May', 'June', 'July', 'Aug', 'Sept', 'Oct']\n",
    "\n",
    "fig, axis = plt.subplots()\n",
    "axis.set_xlabel('Month')\n",
    "axis.set_ylabel('Attendance (thousands)')\n",
    "day_plot = plt.boxplot(data, sym='o', vert=1, whis=1.5)\n",
    "plt.setp(day_plot['boxes'], color = 'black')    \n",
    "plt.setp(day_plot['whiskers'], color = 'black')    \n",
    "plt.setp(day_plot['fliers'], color = 'black', marker = 'o')\n",
    "axis.set_xticklabels(ordered_month_names)\n",
    "plt.show()\n",
    "\n",
    "## CODE TO SAVE IMAGE FILE\n",
    "# plt.savefig('fig_advert_promo_dodgers_eda_month_Python.pdf', \n",
    "#    bbox_inches = 'tight', dpi=None, facecolor='w', edgecolor='b', \n",
    "#    orientation='portrait', papertype=None, format=None, \n",
    "#    transparent=True, pad_inches=0.25, frameon=None)  \n",
    "\n",
    "\n"
   ]
  },
  {
   "cell_type": "code",
   "execution_count": 9,
   "metadata": {},
   "outputs": [
    {
     "ename": "AttributeError",
     "evalue": "module 'seaborn' has no attribute 'plt'",
     "output_type": "error",
     "traceback": [
      "\u001b[1;31m---------------------------------------------------------------------------\u001b[0m",
      "\u001b[1;31mAttributeError\u001b[0m                            Traceback (most recent call last)",
      "\u001b[1;32m<ipython-input-9-64d7c445bc15>\u001b[0m in \u001b[0;36m<module>\u001b[1;34m\u001b[0m\n\u001b[0;32m     10\u001b[0m \u001b[0mg\u001b[0m\u001b[1;33m.\u001b[0m\u001b[0mmap\u001b[0m\u001b[1;33m(\u001b[0m\u001b[0mplt\u001b[0m\u001b[1;33m.\u001b[0m\u001b[0mscatter\u001b[0m\u001b[1;33m,\u001b[0m \u001b[1;34m\"temp\"\u001b[0m\u001b[1;33m,\u001b[0m \u001b[1;34m\"attend\"\u001b[0m\u001b[1;33m,\u001b[0m \u001b[0malpha\u001b[0m\u001b[1;33m=\u001b[0m\u001b[1;36m.7\u001b[0m\u001b[1;33m)\u001b[0m\u001b[1;33m\u001b[0m\u001b[1;33m\u001b[0m\u001b[0m\n\u001b[0;32m     11\u001b[0m \u001b[0mg\u001b[0m\u001b[1;33m.\u001b[0m\u001b[0madd_legend\u001b[0m\u001b[1;33m(\u001b[0m\u001b[1;33m)\u001b[0m\u001b[1;33m;\u001b[0m\u001b[1;33m\u001b[0m\u001b[1;33m\u001b[0m\u001b[0m\n\u001b[1;32m---> 12\u001b[1;33m \u001b[0msns\u001b[0m\u001b[1;33m.\u001b[0m\u001b[0mplt\u001b[0m\u001b[1;33m.\u001b[0m\u001b[0mshow\u001b[0m\u001b[1;33m(\u001b[0m\u001b[1;33m)\u001b[0m\u001b[1;33m\u001b[0m\u001b[1;33m\u001b[0m\u001b[0m\n\u001b[0m\u001b[0;32m     13\u001b[0m \u001b[1;33m\u001b[0m\u001b[0m\n\u001b[0;32m     14\u001b[0m g = sns.FacetGrid(dodgers, col=\"day_night\", hue=\"fireworks\",\n",
      "\u001b[1;31mAttributeError\u001b[0m: module 'seaborn' has no attribute 'plt'"
     ]
    },
    {
     "data": {
      "image/png": "[encoded data removed]",
      "text/plain": [
       "<Figure size 493.6x216 with 2 Axes>"
      ]
     },
     "metadata": {},
     "output_type": "display_data"
    }
   ],
   "source": [
    "# trellis/lattice plot attendance by temp, conditioning on skies \n",
    "# and day_night with bobblehead NO/YES shown in distinct colors\n",
    "import seaborn as sns\n",
    "\n",
    "sns.set(style=\"darkgrid\")\n",
    "\n",
    "g = sns.FacetGrid(dodgers, col=\"skies\", hue=\"fireworks\", \n",
    "                  hue_order=[\"YES\", \"NO\"],\n",
    "                  hue_kws=dict(marker=[\"^\", \"v\"]))\n",
    "g.map(plt.scatter, \"temp\", \"attend\", alpha=.7)\n",
    "g.add_legend();\n",
    "sns.plt.show()\n",
    "\n",
    "g = sns.FacetGrid(dodgers, col=\"day_night\", hue=\"fireworks\",\n",
    "                hue_order=[\"YES\", \"NO\"],)\n",
    "g.map(plt.scatter, \"temp\", \"attend\", alpha=.7)\n",
    "g.add_legend();\n",
    "sns.plt.show()\n",
    "\n",
    "g = sns.FacetGrid(dodgers, col=\"day_night\", hue=\"bobblehead\",\n",
    "                hue_order=[\"YES\", \"NO\"],)\n",
    "g.map(plt.scatter, \"temp\", \"attend\", alpha=.7)\n",
    "g.add_legend();\n",
    "sns.plt.show()"
   ]
  },
  {
   "cell_type": "code",
   "execution_count": 10,
   "metadata": {},
   "outputs": [
    {
     "ename": "AttributeError",
     "evalue": "module 'seaborn' has no attribute 'plt'",
     "output_type": "error",
     "traceback": [
      "\u001b[1;31m---------------------------------------------------------------------------\u001b[0m",
      "\u001b[1;31mAttributeError\u001b[0m                            Traceback (most recent call last)",
      "\u001b[1;32m<ipython-input-10-8966c021a689>\u001b[0m in \u001b[0;36m<module>\u001b[1;34m\u001b[0m\n\u001b[0;32m      4\u001b[0m              order=[\"YES\", \"NO\"])\n\u001b[0;32m      5\u001b[0m \u001b[0mg\u001b[0m\u001b[1;33m.\u001b[0m\u001b[0madd_legend\u001b[0m\u001b[1;33m(\u001b[0m\u001b[1;33m)\u001b[0m\u001b[1;33m;\u001b[0m\u001b[1;33m\u001b[0m\u001b[1;33m\u001b[0m\u001b[0m\n\u001b[1;32m----> 6\u001b[1;33m \u001b[0msns\u001b[0m\u001b[1;33m.\u001b[0m\u001b[0mplt\u001b[0m\u001b[1;33m.\u001b[0m\u001b[0mshow\u001b[0m\u001b[1;33m(\u001b[0m\u001b[1;33m)\u001b[0m\u001b[1;33m\u001b[0m\u001b[1;33m\u001b[0m\u001b[0m\n\u001b[0m\u001b[0;32m      7\u001b[0m \u001b[1;33m\u001b[0m\u001b[0m\n\u001b[0;32m      8\u001b[0m sns.countplot(y=\"bobblehead\", hue=\"day_night\",\n",
      "\u001b[1;31mAttributeError\u001b[0m: module 'seaborn' has no attribute 'plt'"
     ]
    },
    {
     "data": {
      "image/png": "[encoded data removed]",
      "text/plain": [
       "<Figure size 432x288 with 1 Axes>"
      ]
     },
     "metadata": {},
     "output_type": "display_data"
    }
   ],
   "source": [
    "# DODGER PROMOTIONS BY TYPE\n",
    "\n",
    "sns.countplot(y=\"fireworks\", data=dodgers, palette=\"Blues_d\",\n",
    "             order=[\"YES\", \"NO\"])\n",
    "g.add_legend();\n",
    "sns.plt.show()\n",
    "\n",
    "sns.countplot(y=\"bobblehead\", hue=\"day_night\",\n",
    "                data=dodgers, palette=\"Blues_d\",\n",
    "                order=[\"YES\", \"NO\"])\n",
    "g.add_legend();\n",
    "sns.plt.show()"
   ]
  },
  {
   "cell_type": "code",
   "execution_count": 11,
   "metadata": {},
   "outputs": [
    {
     "name": "stderr",
     "output_type": "stream",
     "text": [
      "C:\\Users\\GeorgeSmith\\anaconda3\\lib\\site-packages\\seaborn\\categorical.py:1296: UserWarning: 22.2% of the points cannot be placed; you may want to decrease the size of the markers or use stripplot.\n",
      "  warnings.warn(msg, UserWarning)\n",
      "C:\\Users\\GeorgeSmith\\anaconda3\\lib\\site-packages\\seaborn\\categorical.py:1296: UserWarning: 33.3% of the points cannot be placed; you may want to decrease the size of the markers or use stripplot.\n",
      "  warnings.warn(msg, UserWarning)\n"
     ]
    },
    {
     "ename": "AttributeError",
     "evalue": "module 'seaborn' has no attribute 'plt'",
     "output_type": "error",
     "traceback": [
      "\u001b[1;31m---------------------------------------------------------------------------\u001b[0m",
      "\u001b[1;31mAttributeError\u001b[0m                            Traceback (most recent call last)",
      "\u001b[1;32m<ipython-input-11-19a59a93088f>\u001b[0m in \u001b[0;36m<module>\u001b[1;34m\u001b[0m\n\u001b[0;32m      6\u001b[0m               data=dodgers, order =ordered_team_names)\n\u001b[0;32m      7\u001b[0m \u001b[0mg\u001b[0m\u001b[1;33m.\u001b[0m\u001b[0madd_legend\u001b[0m\u001b[1;33m(\u001b[0m\u001b[1;33m)\u001b[0m\u001b[1;33m;\u001b[0m\u001b[1;33m\u001b[0m\u001b[1;33m\u001b[0m\u001b[0m\n\u001b[1;32m----> 8\u001b[1;33m \u001b[0msns\u001b[0m\u001b[1;33m.\u001b[0m\u001b[0mplt\u001b[0m\u001b[1;33m.\u001b[0m\u001b[0mshow\u001b[0m\u001b[1;33m(\u001b[0m\u001b[1;33m)\u001b[0m\u001b[1;33m\u001b[0m\u001b[1;33m\u001b[0m\u001b[0m\n\u001b[0m",
      "\u001b[1;31mAttributeError\u001b[0m: module 'seaborn' has no attribute 'plt'"
     ]
    },
    {
     "data": {
      "image/png": "[encoded data removed]",
      "text/plain": [
       "<Figure size 432x288 with 1 Axes>"
      ]
     },
     "metadata": {},
     "output_type": "display_data"
    }
   ],
   "source": [
    "# Dodgers attendance by Visiting Team\n",
    "# Figure 2.4 from Miller\n",
    "\n",
    "# teams = sorted([\"opponent\"], reverse=True)\n",
    "sns.swarmplot(x=\"attend\", y=\"opponent\", hue=\"day_night\", \n",
    "              data=dodgers, order =ordered_team_names)\n",
    "g.add_legend();\n",
    "sns.plt.show()"
   ]
  },
  {
   "cell_type": "code",
   "execution_count": 12,
   "metadata": {},
   "outputs": [
    {
     "ename": "AttributeError",
     "evalue": "'Rectangle' object has no property 'normed'",
     "output_type": "error",
     "traceback": [
      "\u001b[1;31m---------------------------------------------------------------------------\u001b[0m",
      "\u001b[1;31mAttributeError\u001b[0m                            Traceback (most recent call last)",
      "\u001b[1;32m<ipython-input-12-a90f1083ca38>\u001b[0m in \u001b[0;36m<module>\u001b[1;34m\u001b[0m\n\u001b[0;32m      3\u001b[0m \u001b[1;31m# CREATE BINS\u001b[0m\u001b[1;33m\u001b[0m\u001b[1;33m\u001b[0m\u001b[1;33m\u001b[0m\u001b[0m\n\u001b[0;32m      4\u001b[0m \u001b[1;33m\u001b[0m\u001b[0m\n\u001b[1;32m----> 5\u001b[1;33m \u001b[0mplt\u001b[0m\u001b[1;33m.\u001b[0m\u001b[0mhist\u001b[0m\u001b[1;33m(\u001b[0m\u001b[0mdodgers\u001b[0m\u001b[1;33m[\u001b[0m\u001b[1;34m'attend'\u001b[0m\u001b[1;33m]\u001b[0m\u001b[1;33m,\u001b[0m \u001b[0mnormed\u001b[0m \u001b[1;33m=\u001b[0m \u001b[1;32mFalse\u001b[0m\u001b[1;33m,\u001b[0m \u001b[0mstacked\u001b[0m \u001b[1;33m=\u001b[0m \u001b[1;32mFalse\u001b[0m\u001b[1;33m,\u001b[0m \u001b[0mrwidth\u001b[0m \u001b[1;33m=\u001b[0m \u001b[1;36m.9\u001b[0m\u001b[1;33m)\u001b[0m\u001b[1;33m\u001b[0m\u001b[1;33m\u001b[0m\u001b[0m\n\u001b[0m\u001b[0;32m      6\u001b[0m \u001b[0mplt\u001b[0m\u001b[1;33m.\u001b[0m\u001b[0mtitle\u001b[0m\u001b[1;33m(\u001b[0m\u001b[1;34m\"Attendance Histogram\"\u001b[0m\u001b[1;33m)\u001b[0m\u001b[1;33m\u001b[0m\u001b[1;33m\u001b[0m\u001b[0m\n\u001b[0;32m      7\u001b[0m \u001b[0mplt\u001b[0m\u001b[1;33m.\u001b[0m\u001b[0mxlabel\u001b[0m\u001b[1;33m(\u001b[0m\u001b[1;34m'Attendance'\u001b[0m\u001b[1;33m)\u001b[0m\u001b[1;33m\u001b[0m\u001b[1;33m\u001b[0m\u001b[0m\n",
      "\u001b[1;32m~\\anaconda3\\lib\\site-packages\\matplotlib\\pyplot.py\u001b[0m in \u001b[0;36mhist\u001b[1;34m(x, bins, range, density, weights, cumulative, bottom, histtype, align, orientation, rwidth, log, color, label, stacked, data, **kwargs)\u001b[0m\n\u001b[0;32m   2683\u001b[0m         \u001b[0morientation\u001b[0m\u001b[1;33m=\u001b[0m\u001b[1;34m'vertical'\u001b[0m\u001b[1;33m,\u001b[0m \u001b[0mrwidth\u001b[0m\u001b[1;33m=\u001b[0m\u001b[1;32mNone\u001b[0m\u001b[1;33m,\u001b[0m \u001b[0mlog\u001b[0m\u001b[1;33m=\u001b[0m\u001b[1;32mFalse\u001b[0m\u001b[1;33m,\u001b[0m \u001b[0mcolor\u001b[0m\u001b[1;33m=\u001b[0m\u001b[1;32mNone\u001b[0m\u001b[1;33m,\u001b[0m\u001b[1;33m\u001b[0m\u001b[1;33m\u001b[0m\u001b[0m\n\u001b[0;32m   2684\u001b[0m         label=None, stacked=False, *, data=None, **kwargs):\n\u001b[1;32m-> 2685\u001b[1;33m     return gca().hist(\n\u001b[0m\u001b[0;32m   2686\u001b[0m         \u001b[0mx\u001b[0m\u001b[1;33m,\u001b[0m \u001b[0mbins\u001b[0m\u001b[1;33m=\u001b[0m\u001b[0mbins\u001b[0m\u001b[1;33m,\u001b[0m \u001b[0mrange\u001b[0m\u001b[1;33m=\u001b[0m\u001b[0mrange\u001b[0m\u001b[1;33m,\u001b[0m \u001b[0mdensity\u001b[0m\u001b[1;33m=\u001b[0m\u001b[0mdensity\u001b[0m\u001b[1;33m,\u001b[0m \u001b[0mweights\u001b[0m\u001b[1;33m=\u001b[0m\u001b[0mweights\u001b[0m\u001b[1;33m,\u001b[0m\u001b[1;33m\u001b[0m\u001b[1;33m\u001b[0m\u001b[0m\n\u001b[0;32m   2687\u001b[0m         \u001b[0mcumulative\u001b[0m\u001b[1;33m=\u001b[0m\u001b[0mcumulative\u001b[0m\u001b[1;33m,\u001b[0m \u001b[0mbottom\u001b[0m\u001b[1;33m=\u001b[0m\u001b[0mbottom\u001b[0m\u001b[1;33m,\u001b[0m \u001b[0mhisttype\u001b[0m\u001b[1;33m=\u001b[0m\u001b[0mhisttype\u001b[0m\u001b[1;33m,\u001b[0m\u001b[1;33m\u001b[0m\u001b[1;33m\u001b[0m\u001b[0m\n",
      "\u001b[1;32m~\\anaconda3\\lib\\site-packages\\matplotlib\\__init__.py\u001b[0m in \u001b[0;36minner\u001b[1;34m(ax, data, *args, **kwargs)\u001b[0m\n\u001b[0;32m   1445\u001b[0m     \u001b[1;32mdef\u001b[0m \u001b[0minner\u001b[0m\u001b[1;33m(\u001b[0m\u001b[0max\u001b[0m\u001b[1;33m,\u001b[0m \u001b[1;33m*\u001b[0m\u001b[0margs\u001b[0m\u001b[1;33m,\u001b[0m \u001b[0mdata\u001b[0m\u001b[1;33m=\u001b[0m\u001b[1;32mNone\u001b[0m\u001b[1;33m,\u001b[0m \u001b[1;33m**\u001b[0m\u001b[0mkwargs\u001b[0m\u001b[1;33m)\u001b[0m\u001b[1;33m:\u001b[0m\u001b[1;33m\u001b[0m\u001b[1;33m\u001b[0m\u001b[0m\n\u001b[0;32m   1446\u001b[0m         \u001b[1;32mif\u001b[0m \u001b[0mdata\u001b[0m \u001b[1;32mis\u001b[0m \u001b[1;32mNone\u001b[0m\u001b[1;33m:\u001b[0m\u001b[1;33m\u001b[0m\u001b[1;33m\u001b[0m\u001b[0m\n\u001b[1;32m-> 1447\u001b[1;33m             \u001b[1;32mreturn\u001b[0m \u001b[0mfunc\u001b[0m\u001b[1;33m(\u001b[0m\u001b[0max\u001b[0m\u001b[1;33m,\u001b[0m \u001b[1;33m*\u001b[0m\u001b[0mmap\u001b[0m\u001b[1;33m(\u001b[0m\u001b[0msanitize_sequence\u001b[0m\u001b[1;33m,\u001b[0m \u001b[0margs\u001b[0m\u001b[1;33m)\u001b[0m\u001b[1;33m,\u001b[0m \u001b[1;33m**\u001b[0m\u001b[0mkwargs\u001b[0m\u001b[1;33m)\u001b[0m\u001b[1;33m\u001b[0m\u001b[1;33m\u001b[0m\u001b[0m\n\u001b[0m\u001b[0;32m   1448\u001b[0m \u001b[1;33m\u001b[0m\u001b[0m\n\u001b[0;32m   1449\u001b[0m         \u001b[0mbound\u001b[0m \u001b[1;33m=\u001b[0m \u001b[0mnew_sig\u001b[0m\u001b[1;33m.\u001b[0m\u001b[0mbind\u001b[0m\u001b[1;33m(\u001b[0m\u001b[0max\u001b[0m\u001b[1;33m,\u001b[0m \u001b[1;33m*\u001b[0m\u001b[0margs\u001b[0m\u001b[1;33m,\u001b[0m \u001b[1;33m**\u001b[0m\u001b[0mkwargs\u001b[0m\u001b[1;33m)\u001b[0m\u001b[1;33m\u001b[0m\u001b[1;33m\u001b[0m\u001b[0m\n",
      "\u001b[1;32m~\\anaconda3\\lib\\site-packages\\matplotlib\\axes\\_axes.py\u001b[0m in \u001b[0;36mhist\u001b[1;34m(self, x, bins, range, density, weights, cumulative, bottom, histtype, align, orientation, rwidth, log, color, label, stacked, **kwargs)\u001b[0m\n\u001b[0;32m   6813\u001b[0m             \u001b[1;32mif\u001b[0m \u001b[0mpatch\u001b[0m\u001b[1;33m:\u001b[0m\u001b[1;33m\u001b[0m\u001b[1;33m\u001b[0m\u001b[0m\n\u001b[0;32m   6814\u001b[0m                 \u001b[0mp\u001b[0m \u001b[1;33m=\u001b[0m \u001b[0mpatch\u001b[0m\u001b[1;33m[\u001b[0m\u001b[1;36m0\u001b[0m\u001b[1;33m]\u001b[0m\u001b[1;33m\u001b[0m\u001b[1;33m\u001b[0m\u001b[0m\n\u001b[1;32m-> 6815\u001b[1;33m                 \u001b[0mp\u001b[0m\u001b[1;33m.\u001b[0m\u001b[0mupdate\u001b[0m\u001b[1;33m(\u001b[0m\u001b[0mkwargs\u001b[0m\u001b[1;33m)\u001b[0m\u001b[1;33m\u001b[0m\u001b[1;33m\u001b[0m\u001b[0m\n\u001b[0m\u001b[0;32m   6816\u001b[0m                 \u001b[1;32mif\u001b[0m \u001b[0mlbl\u001b[0m \u001b[1;32mis\u001b[0m \u001b[1;32mnot\u001b[0m \u001b[1;32mNone\u001b[0m\u001b[1;33m:\u001b[0m\u001b[1;33m\u001b[0m\u001b[1;33m\u001b[0m\u001b[0m\n\u001b[0;32m   6817\u001b[0m                     \u001b[0mp\u001b[0m\u001b[1;33m.\u001b[0m\u001b[0mset_label\u001b[0m\u001b[1;33m(\u001b[0m\u001b[0mlbl\u001b[0m\u001b[1;33m)\u001b[0m\u001b[1;33m\u001b[0m\u001b[1;33m\u001b[0m\u001b[0m\n",
      "\u001b[1;32m~\\anaconda3\\lib\\site-packages\\matplotlib\\artist.py\u001b[0m in \u001b[0;36mupdate\u001b[1;34m(self, props)\u001b[0m\n\u001b[0;32m    994\u001b[0m                     \u001b[0mfunc\u001b[0m \u001b[1;33m=\u001b[0m \u001b[0mgetattr\u001b[0m\u001b[1;33m(\u001b[0m\u001b[0mself\u001b[0m\u001b[1;33m,\u001b[0m \u001b[1;34mf\"set_{k}\"\u001b[0m\u001b[1;33m,\u001b[0m \u001b[1;32mNone\u001b[0m\u001b[1;33m)\u001b[0m\u001b[1;33m\u001b[0m\u001b[1;33m\u001b[0m\u001b[0m\n\u001b[0;32m    995\u001b[0m                     \u001b[1;32mif\u001b[0m \u001b[1;32mnot\u001b[0m \u001b[0mcallable\u001b[0m\u001b[1;33m(\u001b[0m\u001b[0mfunc\u001b[0m\u001b[1;33m)\u001b[0m\u001b[1;33m:\u001b[0m\u001b[1;33m\u001b[0m\u001b[1;33m\u001b[0m\u001b[0m\n\u001b[1;32m--> 996\u001b[1;33m                         raise AttributeError(f\"{type(self).__name__!r} object \"\n\u001b[0m\u001b[0;32m    997\u001b[0m                                              f\"has no property {k!r}\")\n\u001b[0;32m    998\u001b[0m                     \u001b[0mret\u001b[0m\u001b[1;33m.\u001b[0m\u001b[0mappend\u001b[0m\u001b[1;33m(\u001b[0m\u001b[0mfunc\u001b[0m\u001b[1;33m(\u001b[0m\u001b[0mv\u001b[0m\u001b[1;33m)\u001b[0m\u001b[1;33m)\u001b[0m\u001b[1;33m\u001b[0m\u001b[1;33m\u001b[0m\u001b[0m\n",
      "\u001b[1;31mAttributeError\u001b[0m: 'Rectangle' object has no property 'normed'"
     ]
    },
    {
     "data": {
      "image/png": "[encoded data removed]",
      "text/plain": [
       "<Figure size 432x288 with 1 Axes>"
      ]
     },
     "metadata": {},
     "output_type": "display_data"
    }
   ],
   "source": [
    "# CREATE A HISTOGRAM OF ATTENDANCE\n",
    "\n",
    "# CREATE BINS\n",
    "\n",
    "plt.hist(dodgers['attend'], normed = False, stacked = False, rwidth = .9)\n",
    "plt.title(\"Attendance Histogram\")\n",
    "plt.xlabel('Attendance')\n",
    "plt.ylabel('Frequency')\n",
    "\n",
    "plt.show()"
   ]
  },
  {
   "cell_type": "code",
   "execution_count": 16,
   "metadata": {},
   "outputs": [],
   "source": [
    "# BLOCK FOR ORDERING DATA\n",
    "\n",
    "# map day_of_week to ordered_day_of_week \n",
    "day_to_ordered_day = {'Monday' : '1Monday', \n",
    "    'Tuesday' : '2Tuesday', \n",
    "    'Wednesday' : '3Wednesday', \n",
    "    'Thursday' : '4Thursday', \n",
    "    'Friday' : '5Friday',\n",
    "    'Saturday' : '6Saturday',\n",
    "    'Sunday' : '7Sunday'}\n",
    "dodgers['ordered_day_of_week'] = dodgers['day_of_week'].map(day_to_ordered_day)   \n",
    "\n",
    "# map month to ordered_month\n",
    "month_to_ordered_month = {'APR' : '1April', \n",
    "     'MAY' : '2May', \n",
    "     'JUN' : '3June', \n",
    "     'JUL' : '4July', \n",
    "     'AUG' : '5Aug',\n",
    "     'SEP' : '6Sept',\n",
    "     'OCT' : '7Oct'}\n",
    "dodgers['ordered_month'] = dodgers['month'].map(month_to_ordered_month)    \n",
    "\n"
   ]
  },
  {
   "cell_type": "code",
   "execution_count": 17,
   "metadata": {},
   "outputs": [
    {
     "name": "stdout",
     "output_type": "stream",
     "text": [
      "\n",
      "dodgers_train data frame (rows, columns):  (57, 16)\n",
      "  month  day  attend day_of_week opponent  temp   skies day_night cap shirt  \\\n",
      "1   APR   11   29729   Wednesday  Pirates    58  Cloudy     Night  NO    NO   \n",
      "2   APR   12   28328    Thursday  Pirates    57  Cloudy     Night  NO    NO   \n",
      "3   APR   13   31601      Friday   Padres    54  Cloudy     Night  NO    NO   \n",
      "4   APR   14   46549    Saturday   Padres    57  Cloudy     Night  NO    NO   \n",
      "7   APR   24   44014     Tuesday   Braves    63  Cloudy     Night  NO    NO   \n",
      "\n",
      "  fireworks bobblehead  attend_000 ordered_day_of_week ordered_month  runiform  \n",
      "1        NO         NO      29.729          3Wednesday        1April  0.622109  \n",
      "2        NO         NO      28.328           4Thursday        1April  0.437728  \n",
      "3       YES         NO      31.601             5Friday        1April  0.785359  \n",
      "4        NO         NO      46.549           6Saturday        1April  0.779976  \n",
      "7        NO         NO      44.014            2Tuesday        1April  0.801872  \n",
      "\n",
      "dodgers_test data frame (rows, columns):  (24, 16)\n",
      "   month  day  attend day_of_week   opponent  temp   skies day_night cap  \\\n",
      "0    APR   10   56000     Tuesday    Pirates    67  Clear        Day  NO   \n",
      "5    APR   15   38359      Sunday     Padres    65  Clear        Day  NO   \n",
      "6    APR   23   26376      Monday     Braves    60  Cloudy     Night  NO   \n",
      "17   MAY   13   49124      Sunday    Rockies    70  Clear        Day  NO   \n",
      "22   MAY   20   44005      Sunday  Cardinals    77  Clear      Night  NO   \n",
      "\n",
      "   shirt fireworks bobblehead  attend_000 ordered_day_of_week ordered_month  \\\n",
      "0     NO        NO         NO      56.000            2Tuesday        1April   \n",
      "5     NO        NO         NO      38.359             7Sunday        1April   \n",
      "6     NO        NO         NO      26.376             1Monday        1April   \n",
      "17    NO        NO         NO      49.124             7Sunday          2May   \n",
      "22    NO        NO         NO      44.005             7Sunday          2May   \n",
      "\n",
      "    runiform  \n",
      "0   0.191519  \n",
      "5   0.272593  \n",
      "6   0.276464  \n",
      "17  0.013768  \n",
      "22  0.075381  \n",
      "                            OLS Regression Results                            \n",
      "==============================================================================\n",
      "Dep. Variable:                 attend   R-squared:                       0.639\n",
      "Model:                            OLS   Adj. R-squared:                  0.530\n",
      "Method:                 Least Squares   F-statistic:                     5.864\n",
      "Date:                Sun, 17 Oct 2021   Prob (F-statistic):           4.70e-06\n",
      "Time:                        07:20:54   Log-Likelihood:                -566.87\n",
      "No. Observations:                  57   AIC:                             1162.\n",
      "Df Residuals:                      43   BIC:                             1190.\n",
      "Df Model:                          13                                         \n",
      "Covariance Type:            nonrobust                                         \n",
      "=====================================================================================================\n",
      "                                        coef    std err          t      P>|t|      [0.025      0.975]\n",
      "-----------------------------------------------------------------------------------------------------\n",
      "Intercept                          3.599e+04   3133.268     11.486      0.000    2.97e+04    4.23e+04\n",
      "ordered_month[T.2May]             -3049.4581   2532.400     -1.204      0.235   -8156.529    2057.613\n",
      "ordered_month[T.3June]             8776.8177   2979.201      2.946      0.005    2768.686    1.48e+04\n",
      "ordered_month[T.4July]             3705.6266   3237.723      1.145      0.259   -2823.865    1.02e+04\n",
      "ordered_month[T.5Aug]              2027.5628   2698.095      0.751      0.456   -3413.664    7468.789\n",
      "ordered_month[T.6Sept]             1280.8090   2863.529      0.447      0.657   -4494.048    7055.666\n",
      "ordered_month[T.7Oct]             -1234.2437   6407.369     -0.193      0.848   -1.42e+04    1.17e+04\n",
      "ordered_day_of_week[T.2Tuesday]    4734.3477   3466.721      1.366      0.179   -2256.961    1.17e+04\n",
      "ordered_day_of_week[T.3Wednesday]  -741.4427   3228.255     -0.230      0.819   -7251.839    5768.954\n",
      "ordered_day_of_week[T.4Thursday]   -878.9914   3849.182     -0.228      0.820   -8641.606    6883.624\n",
      "ordered_day_of_week[T.5Friday]     3420.7852   2885.730      1.185      0.242   -2398.844    9240.414\n",
      "ordered_day_of_week[T.6Saturday]   3060.5245   2965.589      1.032      0.308   -2920.156    9041.205\n",
      "ordered_day_of_week[T.7Sunday]     2796.4262   3153.300      0.887      0.380   -3562.810    9155.662\n",
      "bobblehead[T.YES]                  1.233e+04   2683.012      4.595      0.000    6918.497    1.77e+04\n",
      "==============================================================================\n",
      "Omnibus:                        2.353   Durbin-Watson:                   2.084\n",
      "Prob(Omnibus):                  0.308   Jarque-Bera (JB):                1.932\n",
      "Skew:                           0.451   Prob(JB):                        0.381\n",
      "Kurtosis:                       2.993   Cond. No.                         10.7\n",
      "==============================================================================\n",
      "\n",
      "Notes:\n",
      "[1] Standard Errors assume that the covariance matrix of the errors is correctly specified.\n"
     ]
    },
    {
     "name": "stderr",
     "output_type": "stream",
     "text": [
      "<ipython-input-17-57e2ed03c088>:21: SettingWithCopyWarning: \n",
      "A value is trying to be set on a copy of a slice from a DataFrame.\n",
      "Try using .loc[row_indexer,col_indexer] = value instead\n",
      "\n",
      "See the caveats in the documentation: https://pandas.pydata.org/pandas-docs/stable/user_guide/indexing.html#returning-a-view-versus-a-copy\n",
      "  dodgers_train['predict_attend'] = train_model_fit.fittedvalues\n",
      "<ipython-input-17-57e2ed03c088>:24: SettingWithCopyWarning: \n",
      "A value is trying to be set on a copy of a slice from a DataFrame.\n",
      "Try using .loc[row_indexer,col_indexer] = value instead\n",
      "\n",
      "See the caveats in the documentation: https://pandas.pydata.org/pandas-docs/stable/user_guide/indexing.html#returning-a-view-versus-a-copy\n",
      "  dodgers_test['predict_attend'] = train_model_fit.predict(dodgers_test)\n"
     ]
    }
   ],
   "source": [
    "# employ training-and-test regimen for model validation\n",
    "np.random.seed(1234)\n",
    "dodgers['runiform'] = uniform.rvs(loc = 0, scale = 1, size = len(dodgers))\n",
    "dodgers_train = dodgers[dodgers['runiform'] >= 0.33]\n",
    "dodgers_test = dodgers[dodgers['runiform'] < 0.33]\n",
    "# check training data frame\n",
    "print('\\ndodgers_train data frame (rows, columns): ',dodgers_train.shape)\n",
    "print(dodgers_train.head())\n",
    "# check test data frame\n",
    "print('\\ndodgers_test data frame (rows, columns): ',dodgers_test.shape)\n",
    "print(dodgers_test.head())\n",
    "\n",
    "# specify a simple model with bobblehead entered last\n",
    "my_model = str('attend ~ ordered_month + ordered_day_of_week + bobblehead')\n",
    "\n",
    "# fit the model to the training set\n",
    "train_model_fit = smf.ols(my_model, data = dodgers_train).fit()\n",
    "# summary of model fit to the training set\n",
    "print(train_model_fit.summary())\n",
    "# training set predictions from the model fit to the training set\n",
    "dodgers_train['predict_attend'] = train_model_fit.fittedvalues\n",
    "\n",
    "# test set predictions from the model fit to the training set\n",
    "dodgers_test['predict_attend'] = train_model_fit.predict(dodgers_test)\n",
    "\n",
    "  "
   ]
  },
  {
   "cell_type": "code",
   "execution_count": 18,
   "metadata": {},
   "outputs": [
    {
     "name": "stdout",
     "output_type": "stream",
     "text": [
      "\n",
      "Proportion of Test Set Variance Accounted for:  0.217\n",
      "                            OLS Regression Results                            \n",
      "==============================================================================\n",
      "Dep. Variable:                 attend   R-squared:                       0.544\n",
      "Model:                            OLS   Adj. R-squared:                  0.456\n",
      "Method:                 Least Squares   F-statistic:                     6.158\n",
      "Date:                Sun, 17 Oct 2021   Prob (F-statistic):           2.08e-07\n",
      "Time:                        07:20:59   Log-Likelihood:                -813.52\n",
      "No. Observations:                  81   AIC:                             1655.\n",
      "Df Residuals:                      67   BIC:                             1689.\n",
      "Df Model:                          13                                         \n",
      "Covariance Type:            nonrobust                                         \n",
      "=====================================================================================================\n",
      "                                        coef    std err          t      P>|t|      [0.025      0.975]\n",
      "-----------------------------------------------------------------------------------------------------\n",
      "Intercept                          3.391e+04   2521.806     13.446      0.000    2.89e+04    3.89e+04\n",
      "ordered_month[T.2May]             -2385.6248   2291.216     -1.041      0.302   -6958.912    2187.662\n",
      "ordered_month[T.3June]             7163.2336   2732.721      2.621      0.011    1708.699    1.26e+04\n",
      "ordered_month[T.4July]             2849.8281   2578.600      1.105      0.273   -2297.079    7996.735\n",
      "ordered_month[T.5Aug]              2377.9243   2402.915      0.990      0.326   -2418.314    7174.162\n",
      "ordered_month[T.6Sept]               29.0302   2521.249      0.012      0.991   -5003.404    5061.464\n",
      "ordered_month[T.7Oct]              -662.6677   4046.452     -0.164      0.870   -8739.419    7414.083\n",
      "ordered_day_of_week[T.2Tuesday]    7911.4936   2702.208      2.928      0.005    2517.864    1.33e+04\n",
      "ordered_day_of_week[T.3Wednesday]  2460.0232   2514.029      0.979      0.331   -2558.000    7478.046\n",
      "ordered_day_of_week[T.4Thursday]    775.3638   3486.154      0.222      0.825   -6183.029    7733.757\n",
      "ordered_day_of_week[T.5Friday]     4883.8183   2504.653      1.950      0.055    -115.490    9883.127\n",
      "ordered_day_of_week[T.6Saturday]   6372.0558   2552.084      2.497      0.015    1278.075    1.15e+04\n",
      "ordered_day_of_week[T.7Sunday]     6724.0027   2506.721      2.682      0.009    1720.567    1.17e+04\n",
      "bobblehead[T.YES]                  1.071e+04   2419.520      4.429      0.000    5885.521    1.55e+04\n",
      "==============================================================================\n",
      "Omnibus:                        6.343   Durbin-Watson:                   2.130\n",
      "Prob(Omnibus):                  0.042   Jarque-Bera (JB):                5.908\n",
      "Skew:                           0.654   Prob(JB):                       0.0521\n",
      "Kurtosis:                       3.205   Cond. No.                         9.76\n",
      "==============================================================================\n",
      "\n",
      "Notes:\n",
      "[1] Standard Errors assume that the covariance matrix of the errors is correctly specified.\n",
      "\n",
      "Estimated Effect of Bobblehead Promotion on Attendance:  10715.0\n"
     ]
    }
   ],
   "source": [
    "# compute the proportion of response variance\n",
    "# accounted for when predicting out-of-sample\n",
    "print('\\nProportion of Test Set Variance Accounted for: ',\\\n",
    "    round(np.power(dodgers_test['attend'].corr(dodgers_test['predict_attend']),2),3))\n",
    "\n",
    "# use the full data set to obtain an estimate of the increase in\n",
    "# attendance due to bobbleheads, controlling for other factors \n",
    "my_model_fit = smf.ols(my_model, data = dodgers).fit()\n",
    "print(my_model_fit.summary())\n",
    "\n",
    "print('\\nEstimated Effect of Bobblehead Promotion on Attendance: ',\\\n",
    "    round(my_model_fit.params[13],0))\n",
    "    \n",
    "# Suggestions for the student: Reproduce the figures in this chapter\n",
    "# using matplotlib, ggplot, and/or rpy2 calls to R graphics. \n",
    "# Examine regression diagnostics for the fitted model.\n",
    "# Examine other linear predictors and other explanatory variables.\n",
    "# See if you can improve upon the model with variable transformations. "
   ]
  },
  {
   "cell_type": "code",
   "execution_count": 20,
   "metadata": {},
   "outputs": [
    {
     "name": "stderr",
     "output_type": "stream",
     "text": [
      "<ipython-input-20-dc37a803f9e9>:4: DeprecationWarning: `np.bool` is a deprecated alias for the builtin `bool`. To silence this warning, use `bool` by itself. Doing this will not modify any behavior and is safe. If you specifically wanted the numpy scalar type, use `np.bool_` here.\n",
      "Deprecated in NumPy 1.20; for more details and guidance: https://numpy.org/devdocs/release/1.20.0-notes.html#deprecations\n",
      "  mask = np.zeros_like(corr, dtype=np.bool)\n"
     ]
    },
    {
     "ename": "AttributeError",
     "evalue": "module 'seaborn' has no attribute 'plt'",
     "output_type": "error",
     "traceback": [
      "\u001b[1;31m---------------------------------------------------------------------------\u001b[0m",
      "\u001b[1;31mAttributeError\u001b[0m                            Traceback (most recent call last)",
      "\u001b[1;32m<ipython-input-20-dc37a803f9e9>\u001b[0m in \u001b[0;36m<module>\u001b[1;34m\u001b[0m\n\u001b[0;32m     14\u001b[0m sns.heatmap(corr, mask=mask, cmap=cmap, vmax=.3, center=0,\n\u001b[0;32m     15\u001b[0m             square=True, linewidths=.5, cbar_kws={\"shrink\": .5})\n\u001b[1;32m---> 16\u001b[1;33m \u001b[0msns\u001b[0m\u001b[1;33m.\u001b[0m\u001b[0mplt\u001b[0m\u001b[1;33m.\u001b[0m\u001b[0mshow\u001b[0m\u001b[1;33m(\u001b[0m\u001b[1;33m)\u001b[0m\u001b[1;33m\u001b[0m\u001b[1;33m\u001b[0m\u001b[0m\n\u001b[0m",
      "\u001b[1;31mAttributeError\u001b[0m: module 'seaborn' has no attribute 'plt'"
     ]
    },
    {
     "data": {
      "image/png": "[encoded data removed]",
      "text/plain": [
       "<Figure size 432x288 with 2 Axes>"
      ]
     },
     "metadata": {},
     "output_type": "display_data"
    }
   ],
   "source": [
    "corr = dodgerDF.corr()\n",
    "\n",
    "# Generate a mask for the upper triangle\n",
    "mask = np.zeros_like(corr, dtype=np.bool)\n",
    "mask[np.triu_indices_from(mask)] = True\n",
    "\n",
    "# Set up the matplotlib figure\n",
    "#f, ax = plt.subplots(figsize=(11, 9))\n",
    "\n",
    "# Generate a custom diverging colormap\n",
    "cmap = sns.diverging_palette(220, 10, as_cmap=True)\n",
    "\n",
    "# Draw the heatmap with the mask and correct aspect ratio\n",
    "sns.heatmap(corr, mask=mask, cmap=cmap, vmax=.3, center=0,\n",
    "            square=True, linewidths=.5, cbar_kws={\"shrink\": .5})\n",
    "sns.plt.show()"
   ]
  },
  {
   "cell_type": "code",
   "execution_count": null,
   "metadata": {
    "collapsed": true,
    "jupyter": {
     "outputs_hidden": true
    }
   },
   "outputs": [],
   "source": []
  }
 ],
 "metadata": {
  "kernelspec": {
   "display_name": "Python 3",
   "language": "python",
   "name": "python3"
  },
  "language_info": {
   "codemirror_mode": {
    "name": "ipython",
    "version": 3
   },
   "file_extension": ".py",
   "mimetype": "text/x-python",
   "name": "python",
   "nbconvert_exporter": "python",
   "pygments_lexer": "ipython3",
   "version": "3.8.8"
  }
 },
 "nbformat": 4,
 "nbformat_minor": 4
}
