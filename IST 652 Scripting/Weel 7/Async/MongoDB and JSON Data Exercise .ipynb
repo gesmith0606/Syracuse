{
 "cells": [
  {
   "cell_type": "code",
   "execution_count": 40,
   "id": "3aae1589",
   "metadata": {},
   "outputs": [],
   "source": [
    "import urllib.request\n",
    "import json\n",
    "import pymongo"
   ]
  },
  {
   "cell_type": "code",
   "execution_count": 41,
   "id": "7208219c",
   "metadata": {},
   "outputs": [],
   "source": [
    "earthquake_url = \"http://earthquake.usgs.gov/earthquakes/feed/v1.0/summary/significant_month.geojson\""
   ]
  },
  {
   "cell_type": "code",
   "execution_count": 42,
   "id": "f6a0d65d",
   "metadata": {},
   "outputs": [
    {
     "name": "stdout",
     "output_type": "stream",
     "text": [
      "Collected data from USGS Significant Earthquakes, Past Month\n"
     ]
    }
   ],
   "source": [
    "try:\n",
    "\tresponse = urllib.request.urlopen(earthquake_url)\n",
    "except urllib.error.URLError as e:\n",
    "    if hasattr(e, 'reason'):\n",
    "        print('We failed to reach a server.')\n",
    "        print('Reason: ', e.reason)\n",
    "    elif hasattr(e, 'code'):\n",
    "        print('The server couldn\\'t fulfill the request.')\n",
    "        print('Error code: ', e.code)\n",
    "else:\n",
    "\t# the url request was successful - convert the response to a string\n",
    "\tjson_string = response.read().decode('utf-8')\n",
    "\n",
    "\t# the json package loads() converts the string to python dictionaries and lists\n",
    "\teq_json = json.loads(json_string)\n",
    "\t\n",
    "\t# from the json dictionary we get the title to print\n",
    "\ttitle = eq_json['metadata']['title']\n",
    "\tprint('Collected 1data from', title)\n",
    "\t#  and we get the list of earthquakes\n",
    "\tquakelist = eq_json['features']"
   ]
  },
  {
   "cell_type": "code",
   "execution_count": 43,
   "id": "ded0d7e2",
   "metadata": {},
   "outputs": [
    {
     "name": "stdout",
     "output_type": "stream",
     "text": [
      "Connected successfully!!!\n",
      "Added 11 to earthquakes collection in usgs database\n"
     ]
    }
   ],
   "source": [
    "# Connection to Mongo DB\n",
    "try:\n",
    "    client=pymongo.MongoClient('localhost', 27017)\n",
    "    print (\"Connected successfully!!!\")\n",
    "except pymongo.errors.ConnectionFailure as e:\n",
    "   print (\"Could not connect to MongoDB: %s\" % e )\n",
    "else:\n",
    "\n",
    "# use database named usgs or create it if not there already\n",
    "    eqdb = client.usgs\n",
    "# create collection named earthquakes or create it if not there already\n",
    "    quakecoll = eqdb.earthquakes\n",
    "# add all the earthquakes to the list\n",
    "    quakecoll.insert_many(quakelist)\n",
    "    print(\"Added\", len(quakelist), \"to earthquakes collection in usgs database\")\n",
    "# close the database connection\n",
    "    client.close()\n",
    "\n"
   ]
  },
  {
   "cell_type": "code",
   "execution_count": 51,
   "id": "bacc71ac",
   "metadata": {},
   "outputs": [],
   "source": [
    "#result = quakecoll.find_one({'time'})\n",
    "#print(result)"
   ]
  },
  {
   "cell_type": "code",
   "execution_count": 52,
   "id": "b41f189b",
   "metadata": {},
   "outputs": [
    {
     "name": "stdout",
     "output_type": "stream",
     "text": [
      "<pymongo.cursor.Cursor object at 0x7fee58fa2d60>\n"
     ]
    }
   ],
   "source": [
    "PlaceTime = quakecoll.find({'place':'time'})\n",
    "print(PlaceTime)"
   ]
  },
  {
   "cell_type": "code",
   "execution_count": 53,
   "id": "7c8a4f28",
   "metadata": {},
   "outputs": [
    {
     "data": {
      "text/plain": [
       "11"
      ]
     },
     "execution_count": 53,
     "metadata": {},
     "output_type": "execute_result"
    }
   ],
   "source": [
    "len(quakelist)"
   ]
  },
  {
   "cell_type": "code",
   "execution_count": null,
   "id": "ba9c6d64",
   "metadata": {},
   "outputs": [],
   "source": []
  }
 ],
 "metadata": {
  "kernelspec": {
   "display_name": "Python 3 (ipykernel)",
   "language": "python",
   "name": "python3"
  },
  "language_info": {
   "codemirror_mode": {
    "name": "ipython",
    "version": 3
   },
   "file_extension": ".py",
   "mimetype": "text/x-python",
   "name": "python",
   "nbconvert_exporter": "python",
   "pygments_lexer": "ipython3",
   "version": "3.9.7"
  }
 },
 "nbformat": 4,
 "nbformat_minor": 5
}
