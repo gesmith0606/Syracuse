{
 "cells": [
  {
   "cell_type": "code",
   "execution_count": 1,
   "id": "12a7bb4c",
   "metadata": {},
   "outputs": [],
   "source": [
    "import pymongo"
   ]
  },
  {
   "cell_type": "code",
   "execution_count": 2,
   "id": "14f08f88",
   "metadata": {},
   "outputs": [],
   "source": [
    "from pymongo import MongoClient \n",
    "client = MongoClient('localhost',27017)"
   ]
  },
  {
   "cell_type": "code",
   "execution_count": 5,
   "id": "0bfabc4a",
   "metadata": {},
   "outputs": [
    {
     "data": {
      "text/plain": [
       "['admin', 'config', 'local']"
      ]
     },
     "execution_count": 5,
     "metadata": {},
     "output_type": "execute_result"
    }
   ],
   "source": [
    "client.list_database_names()"
   ]
  },
  {
   "cell_type": "code",
   "execution_count": 6,
   "id": "d9e0e2d2",
   "metadata": {},
   "outputs": [],
   "source": [
    "db = client.peopledb"
   ]
  },
  {
   "cell_type": "code",
   "execution_count": 7,
   "id": "31041812",
   "metadata": {},
   "outputs": [
    {
     "data": {
      "text/plain": [
       "[]"
      ]
     },
     "execution_count": 7,
     "metadata": {},
     "output_type": "execute_result"
    }
   ],
   "source": [
    "db.list_collection_names()"
   ]
  },
  {
   "cell_type": "code",
   "execution_count": 8,
   "id": "50b33c0c",
   "metadata": {},
   "outputs": [],
   "source": [
    "peoplecoll = db.people"
   ]
  },
  {
   "cell_type": "code",
   "execution_count": 9,
   "id": "58adad8c",
   "metadata": {},
   "outputs": [
    {
     "data": {
      "text/plain": [
       "pymongo.collection.Collection"
      ]
     },
     "execution_count": 9,
     "metadata": {},
     "output_type": "execute_result"
    }
   ],
   "source": [
    "type(peoplecoll)"
   ]
  },
  {
   "cell_type": "code",
   "execution_count": 10,
   "id": "33c58d79",
   "metadata": {},
   "outputs": [],
   "source": [
    "peoplelist = [{ \"name\": \"John Smith\", \"age\": 30 }, { \"name\": \"Bo Bennett\", \"age\": 23 }, { \"name\": \"Anna Jones\", \"age\": 25 }]"
   ]
  },
  {
   "cell_type": "code",
   "execution_count": 17,
   "id": "0219cb4d",
   "metadata": {},
   "outputs": [
    {
     "ename": "TypeError",
     "evalue": "'Collection' object is not callable. If you meant to call the 'insert' method on a 'Collection' object it is failing because no such method exists.",
     "output_type": "error",
     "traceback": [
      "\u001b[0;31m---------------------------------------------------------------------------\u001b[0m",
      "\u001b[0;31mTypeError\u001b[0m                                 Traceback (most recent call last)",
      "\u001b[0;32m/var/folders/t6/r78__dnn0sjgvvll0tn49gn80000gn/T/ipykernel_11727/1970216860.py\u001b[0m in \u001b[0;36m<module>\u001b[0;34m\u001b[0m\n\u001b[0;32m----> 1\u001b[0;31m \u001b[0mpeoplecoll\u001b[0m\u001b[0;34m.\u001b[0m\u001b[0minsert\u001b[0m\u001b[0;34m(\u001b[0m\u001b[0;34m{\u001b[0m \u001b[0;34m\"name\"\u001b[0m\u001b[0;34m:\u001b[0m \u001b[0;34m\"John Smith\"\u001b[0m\u001b[0;34m,\u001b[0m \u001b[0;34m\"age\"\u001b[0m\u001b[0;34m:\u001b[0m \u001b[0;36m30\u001b[0m \u001b[0;34m}\u001b[0m\u001b[0;34m)\u001b[0m\u001b[0;34m\u001b[0m\u001b[0;34m\u001b[0m\u001b[0m\n\u001b[0m",
      "\u001b[0;32m~/opt/anaconda3/lib/python3.9/site-packages/pymongo/collection.py\u001b[0m in \u001b[0;36m__call__\u001b[0;34m(self, *args, **kwargs)\u001b[0m\n\u001b[1;32m   2582\u001b[0m                             \u001b[0;34m\"exists.\"\u001b[0m \u001b[0;34m%\u001b[0m\u001b[0;34m\u001b[0m\u001b[0;34m\u001b[0m\u001b[0m\n\u001b[1;32m   2583\u001b[0m                             self.__name)\n\u001b[0;32m-> 2584\u001b[0;31m         raise TypeError(\"'Collection' object is not callable. If you meant to \"\n\u001b[0m\u001b[1;32m   2585\u001b[0m                         \u001b[0;34m\"call the '%s' method on a 'Collection' object it is \"\u001b[0m\u001b[0;34m\u001b[0m\u001b[0;34m\u001b[0m\u001b[0m\n\u001b[1;32m   2586\u001b[0m                         \u001b[0;34m\"failing because no such method exists.\"\u001b[0m \u001b[0;34m%\u001b[0m\u001b[0;34m\u001b[0m\u001b[0;34m\u001b[0m\u001b[0m\n",
      "\u001b[0;31mTypeError\u001b[0m: 'Collection' object is not callable. If you meant to call the 'insert' method on a 'Collection' object it is failing because no such method exists."
     ]
    }
   ],
   "source": [
    "peoplecoll.insert({ \"name\": \"John Smith\", \"age\": 30 })"
   ]
  },
  {
   "cell_type": "code",
   "execution_count": 18,
   "id": "80df552f",
   "metadata": {},
   "outputs": [
    {
     "data": {
      "text/plain": [
       "<pymongo.results.InsertManyResult at 0x7ff01008c700>"
      ]
     },
     "execution_count": 18,
     "metadata": {},
     "output_type": "execute_result"
    }
   ],
   "source": [
    "peoplecoll.insert_many(peoplelist[1: ])"
   ]
  },
  {
   "cell_type": "code",
   "execution_count": 19,
   "id": "d98be6b2",
   "metadata": {},
   "outputs": [],
   "source": [
    "docs = peoplecoll.find()"
   ]
  },
  {
   "cell_type": "code",
   "execution_count": 20,
   "id": "ee245460",
   "metadata": {},
   "outputs": [
    {
     "data": {
      "text/plain": [
       "pymongo.cursor.Cursor"
      ]
     },
     "execution_count": 20,
     "metadata": {},
     "output_type": "execute_result"
    }
   ],
   "source": [
    "type(docs)"
   ]
  },
  {
   "cell_type": "code",
   "execution_count": 22,
   "id": "6b46b198",
   "metadata": {},
   "outputs": [
    {
     "name": "stdout",
     "output_type": "stream",
     "text": [
      "{'_id': ObjectId('6213c2acbab95d31ec41adb9'), 'name': 'Bo Bennett', 'age': 23}\n",
      "{'_id': ObjectId('6213c2acbab95d31ec41adba'), 'name': 'Anna Jones', 'age': 25}\n"
     ]
    }
   ],
   "source": [
    "for doc in docs:\n",
    "    print(doc)"
   ]
  },
  {
   "cell_type": "code",
   "execution_count": 24,
   "id": "b28d2a63",
   "metadata": {},
   "outputs": [],
   "source": [
    "morepeoplelist = [{ \"name\": \"Britney Sykes\", \"age\": 21 , 'position':'Guard'}, { \"name\": \"Briana Day\", \"age\": 21, 'position':'Center'}, { \"name\": \"Alexis Peterson\", \"age\": 21, 'position':'Guard' }, { \"name\": \"Gabby Cooper\", \"age\": 18, 'position':'Guard'}]"
   ]
  },
  {
   "cell_type": "code",
   "execution_count": 25,
   "id": "3769cc87",
   "metadata": {},
   "outputs": [
    {
     "ename": "TypeError",
     "evalue": "'Collection' object is not callable. If you meant to call the 'insert' method on a 'Collection' object it is failing because no such method exists.",
     "output_type": "error",
     "traceback": [
      "\u001b[0;31m---------------------------------------------------------------------------\u001b[0m",
      "\u001b[0;31mTypeError\u001b[0m                                 Traceback (most recent call last)",
      "\u001b[0;32m/var/folders/t6/r78__dnn0sjgvvll0tn49gn80000gn/T/ipykernel_11727/3388985774.py\u001b[0m in \u001b[0;36m<module>\u001b[0;34m\u001b[0m\n\u001b[0;32m----> 1\u001b[0;31m \u001b[0mpeoplecoll\u001b[0m\u001b[0;34m.\u001b[0m\u001b[0minsert\u001b[0m\u001b[0;34m(\u001b[0m\u001b[0mmorepeoplelist\u001b[0m\u001b[0;34m)\u001b[0m\u001b[0;34m\u001b[0m\u001b[0;34m\u001b[0m\u001b[0m\n\u001b[0m",
      "\u001b[0;32m~/opt/anaconda3/lib/python3.9/site-packages/pymongo/collection.py\u001b[0m in \u001b[0;36m__call__\u001b[0;34m(self, *args, **kwargs)\u001b[0m\n\u001b[1;32m   2582\u001b[0m                             \u001b[0;34m\"exists.\"\u001b[0m \u001b[0;34m%\u001b[0m\u001b[0;34m\u001b[0m\u001b[0;34m\u001b[0m\u001b[0m\n\u001b[1;32m   2583\u001b[0m                             self.__name)\n\u001b[0;32m-> 2584\u001b[0;31m         raise TypeError(\"'Collection' object is not callable. If you meant to \"\n\u001b[0m\u001b[1;32m   2585\u001b[0m                         \u001b[0;34m\"call the '%s' method on a 'Collection' object it is \"\u001b[0m\u001b[0;34m\u001b[0m\u001b[0;34m\u001b[0m\u001b[0m\n\u001b[1;32m   2586\u001b[0m                         \u001b[0;34m\"failing because no such method exists.\"\u001b[0m \u001b[0;34m%\u001b[0m\u001b[0;34m\u001b[0m\u001b[0;34m\u001b[0m\u001b[0m\n",
      "\u001b[0;31mTypeError\u001b[0m: 'Collection' object is not callable. If you meant to call the 'insert' method on a 'Collection' object it is failing because no such method exists."
     ]
    }
   ],
   "source": [
    "peoplecoll.insert(morepeoplelist)"
   ]
  },
  {
   "cell_type": "code",
   "execution_count": 26,
   "id": "c3984cb5",
   "metadata": {},
   "outputs": [],
   "source": [
    "docs = peoplecoll.find()"
   ]
  },
  {
   "cell_type": "code",
   "execution_count": 27,
   "id": "f83243af",
   "metadata": {},
   "outputs": [
    {
     "name": "stdout",
     "output_type": "stream",
     "text": [
      "{'_id': ObjectId('6213c2acbab95d31ec41adb9'), 'name': 'Bo Bennett', 'age': 23}\n",
      "{'_id': ObjectId('6213c2acbab95d31ec41adba'), 'name': 'Anna Jones', 'age': 25}\n"
     ]
    }
   ],
   "source": [
    "for doc in docs:\n",
    "    print(doc)"
   ]
  },
  {
   "cell_type": "code",
   "execution_count": 28,
   "id": "74731c72",
   "metadata": {},
   "outputs": [
    {
     "data": {
      "text/plain": [
       "{'_id': ObjectId('6213c2acbab95d31ec41adb9'), 'name': 'Bo Bennett', 'age': 23}"
      ]
     },
     "execution_count": 28,
     "metadata": {},
     "output_type": "execute_result"
    }
   ],
   "source": [
    "peoplecoll.find_one()"
   ]
  },
  {
   "cell_type": "code",
   "execution_count": 29,
   "id": "70e098de",
   "metadata": {},
   "outputs": [
    {
     "name": "stdout",
     "output_type": "stream",
     "text": [
      "{'_id': ObjectId('6213c2acbab95d31ec41adba'), 'name': 'Anna Jones', 'age': 25}\n"
     ]
    }
   ],
   "source": [
    "result = peoplecoll.find_one({'name':'Anna Jones'})\n",
    "print(result)\n"
   ]
  },
  {
   "cell_type": "code",
   "execution_count": 31,
   "id": "4ff26b30",
   "metadata": {},
   "outputs": [],
   "source": [
    "results = peoplecoll.find({'position':'Guard'})\n",
    "for result in results:\n",
    "    print(result)"
   ]
  },
  {
   "cell_type": "code",
   "execution_count": null,
   "id": "cbdf302d",
   "metadata": {},
   "outputs": [],
   "source": []
  }
 ],
 "metadata": {
  "kernelspec": {
   "display_name": "Python 3 (ipykernel)",
   "language": "python",
   "name": "python3"
  },
  "language_info": {
   "codemirror_mode": {
    "name": "ipython",
    "version": 3
   },
   "file_extension": ".py",
   "mimetype": "text/x-python",
   "name": "python",
   "nbconvert_exporter": "python",
   "pygments_lexer": "ipython3",
   "version": "3.9.7"
  }
 },
 "nbformat": 4,
 "nbformat_minor": 5
}
