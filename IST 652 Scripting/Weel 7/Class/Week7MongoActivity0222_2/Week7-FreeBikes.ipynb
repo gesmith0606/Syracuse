{
 "cells": [
  {
   "cell_type": "code",
   "execution_count": null,
   "metadata": {},
   "outputs": [],
   "source": [
    "# import pymongo\n",
    "import json\n",
    "import pymongo\n",
    "\n",
    "# Connecting to the database\n",
    "from pymongo import MongoClient\n",
    "client = MongoClient('localhost', 27017)\n",
    "\n",
    "# show existing databases\n",
    "client.list_database_names()\n"
   ]
  },
  {
   "cell_type": "code",
   "execution_count": null,
   "metadata": {},
   "outputs": [],
   "source": [
    "db = client.bikes\n",
    "ddcoll = db.freebikes\n",
    "\n",
    "with open('free-bike-status-1.json') as f:\n",
    "    file_data = json.load(f)\n",
    "print(len(file_data))\n",
    "if isinstance(file_data, list):\n",
    "    ddcoll.insert_many(file_data)  \n",
    "else:\n",
    "    ddcoll.insert_one(file_data)\n",
    "\n",
    "#client.close()"
   ]
  },
  {
   "cell_type": "code",
   "execution_count": null,
   "metadata": {},
   "outputs": [],
   "source": [
    "print(file_data[\"data\"])"
   ]
  },
  {
   "cell_type": "code",
   "execution_count": null,
   "metadata": {},
   "outputs": [],
   "source": [
    "#content = json.loads(response.content)\n",
    "newJson = {\"data\": []}\n",
    "\n",
    "for entry in file_data[\"data\"][\"bikes\"]:\n",
    "    print(entry)\n",
    "    newentry = entry\n",
    "    newJson[\"data\"].append(entry)"
   ]
  },
  {
   "cell_type": "raw",
   "metadata": {},
   "source": [
    "print(newJson)"
   ]
  }
 ],
 "metadata": {
  "kernelspec": {
   "display_name": "Python 3",
   "language": "python",
   "name": "python3"
  },
  "language_info": {
   "codemirror_mode": {
    "name": "ipython",
    "version": 3
   },
   "file_extension": ".py",
   "mimetype": "text/x-python",
   "name": "python",
   "nbconvert_exporter": "python",
   "pygments_lexer": "ipython3",
   "version": "3.6.10"
  }
 },
 "nbformat": 4,
 "nbformat_minor": 4
}
