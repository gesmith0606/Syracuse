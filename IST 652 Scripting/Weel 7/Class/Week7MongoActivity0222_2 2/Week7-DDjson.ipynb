{
 "cells": [
  {
   "cell_type": "code",
   "execution_count": null,
   "metadata": {},
   "outputs": [],
   "source": [
    "import requests\n",
    "import json\n",
    "\n",
    "url = 'https://www.dunkindonuts.com/bin/servlet/dsl'\n",
    "response = requests.post(url, allow_redirects=False, data={\n",
    "    'service': \"DSL\",\n",
    "    'origin': '37.7749, -122.4194',\n",
    "    'radius': \"100000\",\n",
    "    'maxMatches': \"100000\"\n",
    "})\n",
    "\n",
    "content = json.loads(response.content)\n",
    "newJson = {\"data\": []}\n",
    "\n",
    "for entry in content[\"data\"][\"storeAttributes\"]:\n",
    "    entry[\"geoJson\"] = json.loads(entry[\"geoJson\"])\n",
    "    newJson[\"data\"].append(entry)\n",
    "\n",
    "with open('dunkinDonuts.json', 'w') as jsonFile:\n",
    "    json.dump(newJson, jsonFile)"
   ]
  },
  {
   "cell_type": "code",
   "execution_count": null,
   "metadata": {},
   "outputs": [],
   "source": [
    "print(content[\"data\"][\"storeAttributes\"][:10])"
   ]
  },
  {
   "cell_type": "code",
   "execution_count": null,
   "metadata": {},
   "outputs": [],
   "source": [
    "newJson\n"
   ]
  },
  {
   "cell_type": "code",
   "execution_count": null,
   "metadata": {},
   "outputs": [],
   "source": []
  }
 ],
 "metadata": {
  "kernelspec": {
   "display_name": "Python 3",
   "language": "python",
   "name": "python3"
  },
  "language_info": {
   "codemirror_mode": {
    "name": "ipython",
    "version": 3
   },
   "file_extension": ".py",
   "mimetype": "text/x-python",
   "name": "python",
   "nbconvert_exporter": "python",
   "pygments_lexer": "ipython3",
   "version": "3.6.10"
  }
 },
 "nbformat": 4,
 "nbformat_minor": 4
}
