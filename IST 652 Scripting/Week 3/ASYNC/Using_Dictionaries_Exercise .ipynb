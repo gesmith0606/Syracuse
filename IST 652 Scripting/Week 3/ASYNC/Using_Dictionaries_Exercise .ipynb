{
 "cells": [
  {
   "cell_type": "code",
   "execution_count": 2,
   "id": "2e877b20",
   "metadata": {},
   "outputs": [
    {
     "data": {
      "text/plain": [
       "{}"
      ]
     },
     "execution_count": 2,
     "metadata": {},
     "output_type": "execute_result"
    }
   ],
   "source": [
    "emptydict = dict ()\n",
    "emptydict"
   ]
  },
  {
   "cell_type": "code",
   "execution_count": 6,
   "id": "a0eddfb0",
   "metadata": {},
   "outputs": [],
   "source": [
    "phonedict = {\"eric\": \"454-5555\", \"john\": \"454-5195\",\n",
    "\"michael\": \"454-9999\", \"gerard\": \"999-0000\", \"justin\":\"333-4444\"}"
   ]
  },
  {
   "cell_type": "code",
   "execution_count": 14,
   "id": "386ca921",
   "metadata": {},
   "outputs": [
    {
     "data": {
      "text/plain": [
       "['eric', 'gerard', 'john', 'justin', 'michael']"
      ]
     },
     "execution_count": 14,
     "metadata": {},
     "output_type": "execute_result"
    }
   ],
   "source": [
    "sorted(phonedict)"
   ]
  },
  {
   "cell_type": "code",
   "execution_count": 15,
   "id": "36c31aaf",
   "metadata": {},
   "outputs": [
    {
     "name": "stdout",
     "output_type": "stream",
     "text": [
      "eric 454-5555\n",
      "gerard 999-0000\n",
      "john 454-5195\n",
      "justin 333-4444\n",
      "michael 454-9999\n"
     ]
    }
   ],
   "source": [
    "for key in sorted (phonedict):\n",
    "    print(key, phonedict[key])"
   ]
  },
  {
   "cell_type": "code",
   "execution_count": null,
   "id": "84bb8425",
   "metadata": {},
   "outputs": [],
   "source": []
  }
 ],
 "metadata": {
  "kernelspec": {
   "display_name": "Python 3 (ipykernel)",
   "language": "python",
   "name": "python3"
  },
  "language_info": {
   "codemirror_mode": {
    "name": "ipython",
    "version": 3
   },
   "file_extension": ".py",
   "mimetype": "text/x-python",
   "name": "python",
   "nbconvert_exporter": "python",
   "pygments_lexer": "ipython3",
   "version": "3.9.7"
  }
 },
 "nbformat": 4,
 "nbformat_minor": 5
}
