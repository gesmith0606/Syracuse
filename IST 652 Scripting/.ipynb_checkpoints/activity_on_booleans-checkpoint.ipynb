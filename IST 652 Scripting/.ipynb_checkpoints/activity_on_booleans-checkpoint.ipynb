{
 "cells": [
  {
   "cell_type": "code",
   "execution_count": 16,
   "id": "e53f93ff",
   "metadata": {},
   "outputs": [
    {
     "ename": "SyntaxError",
     "evalue": "invalid syntax (3497499124.py, line 3)",
     "output_type": "error",
     "traceback": [
      "\u001b[0;36m  File \u001b[0;32m\"/var/folders/t6/r78__dnn0sjgvvll0tn49gn80000gn/T/ipykernel_13225/3497499124.py\"\u001b[0;36m, line \u001b[0;32m3\u001b[0m\n\u001b[0;31m    else:\u001b[0m\n\u001b[0m    ^\u001b[0m\n\u001b[0;31mSyntaxError\u001b[0m\u001b[0;31m:\u001b[0m invalid syntax\n"
     ]
    }
   ],
   "source": [
    "if num1 < .6:\n",
    "    print(\"Grade:F\")\n",
    "else:\n",
    "    if num1 >=.6 and num1 <=.69:\n",
    "        print(\"Grade D\")\n",
    "else:\n",
    "    if num1 >= .7 and num1<= .79:\n",
    "        print(\"Grade C\")\n",
    "else:\n",
    "    if num1 >= .8 and num1<= .89:\n",
    "        print(\"Grade B\")\n",
    "else:\n",
    "    if num1 >= .9 and num1 <=.99:\n",
    "        print(\"Grade A\")\n",
    "else: \n",
    "    print(\"Bad Score\")\n",
    "\n",
    "        "
   ]
  },
  {
   "cell_type": "code",
   "execution_count": null,
   "id": "ea873d61",
   "metadata": {},
   "outputs": [],
   "source": []
  }
 ],
 "metadata": {
  "kernelspec": {
   "display_name": "Python 3 (ipykernel)",
   "language": "python",
   "name": "python3"
  },
  "language_info": {
   "codemirror_mode": {
    "name": "ipython",
    "version": 3
   },
   "file_extension": ".py",
   "mimetype": "text/x-python",
   "name": "python",
   "nbconvert_exporter": "python",
   "pygments_lexer": "ipython3",
   "version": "3.9.7"
  }
 },
 "nbformat": 4,
 "nbformat_minor": 5
}
