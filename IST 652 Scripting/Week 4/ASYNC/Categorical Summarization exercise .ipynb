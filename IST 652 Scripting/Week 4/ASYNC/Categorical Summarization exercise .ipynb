{
 "cells": [
  {
   "cell_type": "code",
   "execution_count": 2,
   "id": "e7084909",
   "metadata": {},
   "outputs": [
    {
     "name": "stdout",
     "output_type": "stream",
     "text": [
      "Enter a number1\n",
      "Enter a number1\n",
      "Enter a number1\n",
      "Enter a number1\n",
      "Enter a numberdone\n",
      "all done\n",
      "4.0 4 1.0\n"
     ]
    }
   ],
   "source": [
    "num = 0\n",
    "tot = 0.0\n",
    "while True:\n",
    "    number = input(\"Enter a number\")\n",
    "    if number == 'done':\n",
    "        break\n",
    "    try :\n",
    "        num1 = float(number)\n",
    "    except:\n",
    "        print('Invailed Input')\n",
    "        continue\n",
    "    num = num+1\n",
    "    tot = tot + num1\n",
    "print ('all done')\n",
    "print (tot,num,tot/num)"
   ]
  },
  {
   "cell_type": "code",
   "execution_count": 3,
   "id": "ea24e582",
   "metadata": {},
   "outputs": [
    {
     "name": "stdout",
     "output_type": "stream",
     "text": [
      "Enter an Integer: 1\n",
      "Enter an Integer: 1\n",
      "Enter an Integer: 1\n",
      "Enter an Integer: 1\n",
      "Enter an Integer: done \n"
     ]
    },
    {
     "ename": "ValueError",
     "evalue": "invalid literal for int() with base 10: 'done '",
     "output_type": "error",
     "traceback": [
      "\u001b[0;31m---------------------------------------------------------------------------\u001b[0m",
      "\u001b[0;31mValueError\u001b[0m                                Traceback (most recent call last)",
      "\u001b[0;32m/var/folders/t6/r78__dnn0sjgvvll0tn49gn80000gn/T/ipykernel_3308/181347720.py\u001b[0m in \u001b[0;36m<module>\u001b[0;34m\u001b[0m\n\u001b[1;32m     11\u001b[0m         \u001b[0;32mcontinue\u001b[0m\u001b[0;34m\u001b[0m\u001b[0;34m\u001b[0m\u001b[0m\n\u001b[1;32m     12\u001b[0m     \u001b[0;32melse\u001b[0m\u001b[0;34m:\u001b[0m\u001b[0;34m\u001b[0m\u001b[0;34m\u001b[0m\u001b[0m\n\u001b[0;32m---> 13\u001b[0;31m         \u001b[0mnumtot\u001b[0m \u001b[0;34m=\u001b[0m \u001b[0mnumtot\u001b[0m \u001b[0;34m+\u001b[0m \u001b[0mint\u001b[0m\u001b[0;34m(\u001b[0m\u001b[0mnum\u001b[0m\u001b[0;34m)\u001b[0m\u001b[0;34m\u001b[0m\u001b[0;34m\u001b[0m\u001b[0m\n\u001b[0m\u001b[1;32m     14\u001b[0m         \u001b[0mnumcount\u001b[0m \u001b[0;34m=\u001b[0m \u001b[0mnumcount\u001b[0m \u001b[0;34m+\u001b[0m \u001b[0;36m1\u001b[0m\u001b[0;34m\u001b[0m\u001b[0;34m\u001b[0m\u001b[0m\n\u001b[1;32m     15\u001b[0m         \u001b[0mn\u001b[0m \u001b[0;34m=\u001b[0m \u001b[0mn\u001b[0m\u001b[0;34m-\u001b[0m\u001b[0;36m1\u001b[0m\u001b[0;34m\u001b[0m\u001b[0;34m\u001b[0m\u001b[0m\n",
      "\u001b[0;31mValueError\u001b[0m: invalid literal for int() with base 10: 'done '"
     ]
    }
   ],
   "source": [
    "# provided solution \n",
    "\n",
    "n = 10\n",
    "n3 = 'go'\n",
    "numtot = 0\n",
    "numcount = 0\n",
    "while n3 == 'go':\n",
    "    num = input('Enter an Integer: ')\n",
    "    if num == 'done':\n",
    "        n3 = 'done'\n",
    "        continue\n",
    "    else:\n",
    "        numtot = numtot + int(num)\n",
    "        numcount = numcount + 1\n",
    "        n = n-1\n",
    "print ('Total: ', numtot, 'Count: ', numcount, 'Average: ', numtot/numcount)"
   ]
  },
  {
   "cell_type": "code",
   "execution_count": null,
   "id": "26503d73",
   "metadata": {},
   "outputs": [],
   "source": []
  },
  {
   "cell_type": "code",
   "execution_count": null,
   "id": "044bd12a",
   "metadata": {},
   "outputs": [],
   "source": []
  }
 ],
 "metadata": {
  "kernelspec": {
   "display_name": "Python 3 (ipykernel)",
   "language": "python",
   "name": "python3"
  },
  "language_info": {
   "codemirror_mode": {
    "name": "ipython",
    "version": 3
   },
   "file_extension": ".py",
   "mimetype": "text/x-python",
   "name": "python",
   "nbconvert_exporter": "python",
   "pygments_lexer": "ipython3",
   "version": "3.9.7"
  }
 },
 "nbformat": 4,
 "nbformat_minor": 5
}
