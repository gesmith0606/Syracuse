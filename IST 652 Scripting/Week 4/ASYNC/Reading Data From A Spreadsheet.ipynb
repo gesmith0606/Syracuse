{
 "cells": [
  {
   "cell_type": "code",
   "execution_count": 10,
   "id": "443b0a5a",
   "metadata": {},
   "outputs": [],
   "source": [
    "import csv\n",
    "import numpy as np"
   ]
  },
  {
   "cell_type": "code",
   "execution_count": 11,
   "id": "e7449734",
   "metadata": {},
   "outputs": [],
   "source": [
    "infile = 'Price_of_Gasoline.XL.csv'"
   ]
  },
  {
   "cell_type": "code",
   "execution_count": 12,
   "id": "4989355e",
   "metadata": {},
   "outputs": [],
   "source": [
    "# create new empty lists:  years and prices come from data\n",
    "yearsList = []\n",
    "pricesList = []\n",
    "# names of months for labeling results\n",
    "monthList = ['Jan','Feb','Mar','Apr','May','Jun','Jul','Aug','Sep','Oct','Nov','Dec']"
   ]
  },
  {
   "cell_type": "code",
   "execution_count": 13,
   "id": "e2442202",
   "metadata": {},
   "outputs": [
    {
     "name": "stdout",
     "output_type": "stream",
     "text": [
      "Read 29 years of prices\n"
     ]
    },
    {
     "name": "stderr",
     "output_type": "stream",
     "text": [
      "/var/folders/t6/r78__dnn0sjgvvll0tn49gn80000gn/T/ipykernel_3751/1219454318.py:2: DeprecationWarning: 'U' mode is deprecated\n",
      "  with open(infile, 'rU') as csvfile:\n"
     ]
    }
   ],
   "source": [
    "# read the data\n",
    "with open(infile, 'rU') as csvfile:\n",
    "    # the csv file reader returns a list of the csv items on each line - note delimiter is comma\n",
    "    priceReader = csv.reader(csvfile,  dialect='excel', delimiter=',')\n",
    "\n",
    "    # from each line, a list of row items, make separate lists for years and for the prices\n",
    "    for line in priceReader:\n",
    "      # skip lines without data\n",
    "      if line[0] == '' or line[0].startswith('Price') or line[0].startswith('Year'):\n",
    "          continue\n",
    "      else:\n",
    "          try:\n",
    "            # add the year to list\n",
    "            yearsList.append(line[0])\n",
    "            # append the prices (as strings) to the list\n",
    "            pricesList.append(line[1:])\n",
    "          except IndexError:\n",
    "            print ('Error: ', line)\n",
    "csvfile.close()\n",
    "\n",
    "print (\"Read\", len(yearsList), \"years of prices\")\n"
   ]
  },
  {
   "cell_type": "code",
   "execution_count": 14,
   "id": "c6f43935",
   "metadata": {},
   "outputs": [
    {
     "name": "stdout",
     "output_type": "stream",
     "text": [
      "Shape of Prices data (29, 12)\n"
     ]
    }
   ],
   "source": [
    "# make a numpy array for the strings\n",
    "data = np.array(pricesList)\n",
    "print('Shape of Prices data', data.shape)"
   ]
  },
  {
   "cell_type": "code",
   "execution_count": 15,
   "id": "21d4cebc",
   "metadata": {},
   "outputs": [],
   "source": [
    "\n",
    "# convert the empty strings to strings of zeros, using a Boolean mask to find empty strings\n",
    "data[data == ''] = '0'"
   ]
  },
  {
   "cell_type": "code",
   "execution_count": 16,
   "id": "f7dba039",
   "metadata": {},
   "outputs": [
    {
     "name": "stderr",
     "output_type": "stream",
     "text": [
      "/var/folders/t6/r78__dnn0sjgvvll0tn49gn80000gn/T/ipykernel_3751/2335793324.py:2: DeprecationWarning: `np.float` is a deprecated alias for the builtin `float`. To silence this warning, use `float` by itself. Doing this will not modify any behavior and is safe. If you specifically wanted the numpy scalar type, use `np.float64` here.\n",
      "Deprecated in NumPy 1.20; for more details and guidance: https://numpy.org/devdocs/release/1.20.0-notes.html#deprecations\n",
      "  prices = data.astype(np.float)\n"
     ]
    }
   ],
   "source": [
    "# now we can convert the whole thing to float without getting conversion errors for the empty strings\n",
    "prices = data.astype(np.float)"
   ]
  },
  {
   "cell_type": "code",
   "execution_count": 17,
   "id": "4471af89",
   "metadata": {},
   "outputs": [],
   "source": [
    "# compute the average price for each month (or use mean)\n",
    "# sum along the columns\n",
    "monthTotalPrices = np.sum(prices, axis = 0)\n",
    "# divide by number of years to get average\n",
    "monthAveragePrices = monthTotalPrices / len(yearsList)"
   ]
  },
  {
   "cell_type": "code",
   "execution_count": 18,
   "id": "8348a0ce",
   "metadata": {},
   "outputs": [
    {
     "ename": "SyntaxError",
     "evalue": "unexpected EOF while parsing (2315669058.py, line 2)",
     "output_type": "error",
     "traceback": [
      "\u001b[0;36m  File \u001b[0;32m\"/var/folders/t6/r78__dnn0sjgvvll0tn49gn80000gn/T/ipykernel_3751/2315669058.py\"\u001b[0;36m, line \u001b[0;32m2\u001b[0m\n\u001b[0;31m    print (\"\\nAverage gas price for each month\\n\"\u001b[0m\n\u001b[0m                                                 ^\u001b[0m\n\u001b[0;31mSyntaxError\u001b[0m\u001b[0;31m:\u001b[0m unexpected EOF while parsing\n"
     ]
    }
   ],
   "source": [
    "#print(monthAveragePrices)\n",
    "print (\"\\nAverage gas price for each month\\n\""
   ]
  },
  {
   "cell_type": "code",
   "execution_count": 19,
   "id": "78851a6f",
   "metadata": {},
   "outputs": [
    {
     "name": "stdout",
     "output_type": "stream",
     "text": [
      "Jan : 1.1036206896551726\n",
      "Feb : 1.1087241379310342\n",
      "Mar : 1.1187241379310344\n",
      "Apr : 1.1476551724137933\n",
      "May : 1.1760344827586207\n",
      "Jun : 1.1868275862068964\n",
      "Jul : 1.1751379310344825\n",
      "Aug : 1.177241379310345\n",
      "Sep : 1.1887241379310345\n",
      "Oct : 1.1105172413793105\n",
      "Nov : 1.1011724137931032\n",
      "Dec : 1.0836551724137933\n"
     ]
    }
   ],
   "source": [
    "# print the average price for each month\n",
    "for i, mon in enumerate(monthList):\n",
    "\tprint (mon, ':', monthAveragePrices[i])"
   ]
  },
  {
   "cell_type": "code",
   "execution_count": 20,
   "id": "d9ee0f8d",
   "metadata": {},
   "outputs": [],
   "source": [
    "# compute the average price for each year up to the last one with missing data\n",
    "# sum along the rows\n",
    "yearTotalPrices = np.sum(prices, axis = 1)\n",
    "# divide by number of months to get average\n",
    "yearAveragePrices = yearTotalPrices / 12"
   ]
  },
  {
   "cell_type": "code",
   "execution_count": 21,
   "id": "dd7fbff5",
   "metadata": {},
   "outputs": [
    {
     "name": "stdout",
     "output_type": "stream",
     "text": [
      "\n",
      "Average gas price for each year\n",
      "\n"
     ]
    }
   ],
   "source": [
    "\n",
    "#print(monthAveragePrices)\n",
    "print (\"\\nAverage gas price for each year\\n\")"
   ]
  },
  {
   "cell_type": "code",
   "execution_count": 22,
   "id": "09005ecf",
   "metadata": {},
   "outputs": [
    {
     "name": "stdout",
     "output_type": "stream",
     "text": [
      "1976 : 0.6143333333333333\n",
      "1977 : 0.6563333333333333\n",
      "1978 : 0.6702500000000001\n",
      "1979 : 0.90325\n",
      "1980 : 1.2451666666666668\n",
      "1981 : 1.3782499999999998\n",
      "1982 : 1.2954999999999999\n",
      "1983 : 1.2411666666666668\n",
      "1984 : 1.2122499999999998\n",
      "1985 : 1.20175\n",
      "1986 : 0.9274166666666667\n",
      "1987 : 0.9484166666666666\n",
      "1988 : 0.9461666666666667\n",
      "1989 : 1.0221666666666667\n",
      "1990 : 1.1643333333333334\n",
      "1991 : 1.1400833333333333\n",
      "1992 : 1.1264999999999998\n",
      "1993 : 1.1079166666666667\n",
      "1994 : 1.1118333333333332\n",
      "1995 : 1.1471666666666664\n",
      "1996 : 1.2309166666666667\n",
      "1997 : 1.2336666666666665\n",
      "1998 : 1.0593333333333335\n",
      "1999 : 1.1650833333333332\n",
      "2000 : 1.51\n",
      "2001 : 1.4610000000000003\n",
      "2002 : 1.3575\n",
      "2003 : 1.5907499999999999\n"
     ]
    }
   ],
   "source": [
    "# print the \n",
    "for i, year in enumerate(yearsList[ :-1]):\n",
    "  print (year ,':', yearAveragePrices[i])\n",
    "\n"
   ]
  },
  {
   "cell_type": "code",
   "execution_count": 23,
   "id": "74890513",
   "metadata": {},
   "outputs": [
    {
     "data": {
      "image/png": "[encoded data removed]",
      "text/plain": [
       "<Figure size 432x288 with 1 Axes>"
      ]
     },
     "metadata": {
      "needs_background": "light"
     },
     "output_type": "display_data"
    }
   ],
   "source": [
    "# or display the monthly averages as a simple plot\n",
    "\n",
    "import matplotlib.pyplot as pp\n",
    "\n",
    "x = np.arange(12)\n",
    "pp.xticks(x,monthList)\n",
    "pp.plot(x, monthAveragePrices)\n",
    "pp.show()\n",
    "\n"
   ]
  },
  {
   "cell_type": "code",
   "execution_count": 24,
   "id": "1bfe4d7f",
   "metadata": {},
   "outputs": [
    {
     "ename": "ValueError",
     "evalue": "The number of FixedLocator locations (28), usually from a call to set_ticks, does not match the number of ticklabels (29).",
     "output_type": "error",
     "traceback": [
      "\u001b[0;31m---------------------------------------------------------------------------\u001b[0m",
      "\u001b[0;31mValueError\u001b[0m                                Traceback (most recent call last)",
      "\u001b[0;32m/var/folders/t6/r78__dnn0sjgvvll0tn49gn80000gn/T/ipykernel_3751/2808402074.py\u001b[0m in \u001b[0;36m<module>\u001b[0;34m\u001b[0m\n\u001b[1;32m      1\u001b[0m \u001b[0;31m# or we can also display the years with a simple plot\u001b[0m\u001b[0;34m\u001b[0m\u001b[0;34m\u001b[0m\u001b[0m\n\u001b[1;32m      2\u001b[0m \u001b[0mx\u001b[0m \u001b[0;34m=\u001b[0m \u001b[0mnp\u001b[0m\u001b[0;34m.\u001b[0m\u001b[0marange\u001b[0m\u001b[0;34m(\u001b[0m\u001b[0mlen\u001b[0m\u001b[0;34m(\u001b[0m\u001b[0myearsList\u001b[0m\u001b[0;34m)\u001b[0m\u001b[0;34m-\u001b[0m\u001b[0;36m1\u001b[0m\u001b[0;34m)\u001b[0m\u001b[0;34m\u001b[0m\u001b[0;34m\u001b[0m\u001b[0m\n\u001b[0;32m----> 3\u001b[0;31m \u001b[0mpp\u001b[0m\u001b[0;34m.\u001b[0m\u001b[0mxticks\u001b[0m\u001b[0;34m(\u001b[0m\u001b[0mx\u001b[0m\u001b[0;34m,\u001b[0m\u001b[0myearsList\u001b[0m\u001b[0;34m)\u001b[0m\u001b[0;34m\u001b[0m\u001b[0;34m\u001b[0m\u001b[0m\n\u001b[0m\u001b[1;32m      4\u001b[0m \u001b[0mpp\u001b[0m\u001b[0;34m.\u001b[0m\u001b[0mplot\u001b[0m\u001b[0;34m(\u001b[0m\u001b[0mx\u001b[0m\u001b[0;34m,\u001b[0m \u001b[0myearAveragePrices\u001b[0m\u001b[0;34m[\u001b[0m\u001b[0;34m:\u001b[0m\u001b[0;34m-\u001b[0m\u001b[0;36m1\u001b[0m\u001b[0;34m]\u001b[0m\u001b[0;34m)\u001b[0m\u001b[0;34m\u001b[0m\u001b[0;34m\u001b[0m\u001b[0m\n\u001b[1;32m      5\u001b[0m \u001b[0mpp\u001b[0m\u001b[0;34m.\u001b[0m\u001b[0mshow\u001b[0m\u001b[0;34m(\u001b[0m\u001b[0;34m)\u001b[0m\u001b[0;34m\u001b[0m\u001b[0;34m\u001b[0m\u001b[0m\n",
      "\u001b[0;32m~/opt/anaconda3/lib/python3.9/site-packages/matplotlib/pyplot.py\u001b[0m in \u001b[0;36mxticks\u001b[0;34m(ticks, labels, **kwargs)\u001b[0m\n\u001b[1;32m   1812\u001b[0m         \u001b[0mlabels\u001b[0m \u001b[0;34m=\u001b[0m \u001b[0max\u001b[0m\u001b[0;34m.\u001b[0m\u001b[0mget_xticklabels\u001b[0m\u001b[0;34m(\u001b[0m\u001b[0;34m)\u001b[0m\u001b[0;34m\u001b[0m\u001b[0;34m\u001b[0m\u001b[0m\n\u001b[1;32m   1813\u001b[0m     \u001b[0;32melse\u001b[0m\u001b[0;34m:\u001b[0m\u001b[0;34m\u001b[0m\u001b[0;34m\u001b[0m\u001b[0m\n\u001b[0;32m-> 1814\u001b[0;31m         \u001b[0mlabels\u001b[0m \u001b[0;34m=\u001b[0m \u001b[0max\u001b[0m\u001b[0;34m.\u001b[0m\u001b[0mset_xticklabels\u001b[0m\u001b[0;34m(\u001b[0m\u001b[0mlabels\u001b[0m\u001b[0;34m,\u001b[0m \u001b[0;34m**\u001b[0m\u001b[0mkwargs\u001b[0m\u001b[0;34m)\u001b[0m\u001b[0;34m\u001b[0m\u001b[0;34m\u001b[0m\u001b[0m\n\u001b[0m\u001b[1;32m   1815\u001b[0m     \u001b[0;32mfor\u001b[0m \u001b[0ml\u001b[0m \u001b[0;32min\u001b[0m \u001b[0mlabels\u001b[0m\u001b[0;34m:\u001b[0m\u001b[0;34m\u001b[0m\u001b[0;34m\u001b[0m\u001b[0m\n\u001b[1;32m   1816\u001b[0m         \u001b[0ml\u001b[0m\u001b[0;34m.\u001b[0m\u001b[0mupdate\u001b[0m\u001b[0;34m(\u001b[0m\u001b[0mkwargs\u001b[0m\u001b[0;34m)\u001b[0m\u001b[0;34m\u001b[0m\u001b[0;34m\u001b[0m\u001b[0m\n",
      "\u001b[0;32m~/opt/anaconda3/lib/python3.9/site-packages/matplotlib/axes/_base.py\u001b[0m in \u001b[0;36mwrapper\u001b[0;34m(self, *args, **kwargs)\u001b[0m\n\u001b[1;32m     71\u001b[0m \u001b[0;34m\u001b[0m\u001b[0m\n\u001b[1;32m     72\u001b[0m         \u001b[0;32mdef\u001b[0m \u001b[0mwrapper\u001b[0m\u001b[0;34m(\u001b[0m\u001b[0mself\u001b[0m\u001b[0;34m,\u001b[0m \u001b[0;34m*\u001b[0m\u001b[0margs\u001b[0m\u001b[0;34m,\u001b[0m \u001b[0;34m**\u001b[0m\u001b[0mkwargs\u001b[0m\u001b[0;34m)\u001b[0m\u001b[0;34m:\u001b[0m\u001b[0;34m\u001b[0m\u001b[0;34m\u001b[0m\u001b[0m\n\u001b[0;32m---> 73\u001b[0;31m             \u001b[0;32mreturn\u001b[0m \u001b[0mget_method\u001b[0m\u001b[0;34m(\u001b[0m\u001b[0mself\u001b[0m\u001b[0;34m)\u001b[0m\u001b[0;34m(\u001b[0m\u001b[0;34m*\u001b[0m\u001b[0margs\u001b[0m\u001b[0;34m,\u001b[0m \u001b[0;34m**\u001b[0m\u001b[0mkwargs\u001b[0m\u001b[0;34m)\u001b[0m\u001b[0;34m\u001b[0m\u001b[0;34m\u001b[0m\u001b[0m\n\u001b[0m\u001b[1;32m     74\u001b[0m \u001b[0;34m\u001b[0m\u001b[0m\n\u001b[1;32m     75\u001b[0m         \u001b[0mwrapper\u001b[0m\u001b[0;34m.\u001b[0m\u001b[0m__module__\u001b[0m \u001b[0;34m=\u001b[0m \u001b[0mowner\u001b[0m\u001b[0;34m.\u001b[0m\u001b[0m__module__\u001b[0m\u001b[0;34m\u001b[0m\u001b[0;34m\u001b[0m\u001b[0m\n",
      "\u001b[0;32m~/opt/anaconda3/lib/python3.9/site-packages/matplotlib/_api/deprecation.py\u001b[0m in \u001b[0;36mwrapper\u001b[0;34m(*args, **kwargs)\u001b[0m\n\u001b[1;32m    469\u001b[0m                 \u001b[0;34m\"parameter will become keyword-only %(removal)s.\"\u001b[0m\u001b[0;34m,\u001b[0m\u001b[0;34m\u001b[0m\u001b[0;34m\u001b[0m\u001b[0m\n\u001b[1;32m    470\u001b[0m                 name=name, obj_type=f\"parameter of {func.__name__}()\")\n\u001b[0;32m--> 471\u001b[0;31m         \u001b[0;32mreturn\u001b[0m \u001b[0mfunc\u001b[0m\u001b[0;34m(\u001b[0m\u001b[0;34m*\u001b[0m\u001b[0margs\u001b[0m\u001b[0;34m,\u001b[0m \u001b[0;34m**\u001b[0m\u001b[0mkwargs\u001b[0m\u001b[0;34m)\u001b[0m\u001b[0;34m\u001b[0m\u001b[0;34m\u001b[0m\u001b[0m\n\u001b[0m\u001b[1;32m    472\u001b[0m \u001b[0;34m\u001b[0m\u001b[0m\n\u001b[1;32m    473\u001b[0m     \u001b[0;32mreturn\u001b[0m \u001b[0mwrapper\u001b[0m\u001b[0;34m\u001b[0m\u001b[0;34m\u001b[0m\u001b[0m\n",
      "\u001b[0;32m~/opt/anaconda3/lib/python3.9/site-packages/matplotlib/axis.py\u001b[0m in \u001b[0;36m_set_ticklabels\u001b[0;34m(self, labels, fontdict, minor, **kwargs)\u001b[0m\n\u001b[1;32m   1793\u001b[0m         \u001b[0;32mif\u001b[0m \u001b[0mfontdict\u001b[0m \u001b[0;32mis\u001b[0m \u001b[0;32mnot\u001b[0m \u001b[0;32mNone\u001b[0m\u001b[0;34m:\u001b[0m\u001b[0;34m\u001b[0m\u001b[0;34m\u001b[0m\u001b[0m\n\u001b[1;32m   1794\u001b[0m             \u001b[0mkwargs\u001b[0m\u001b[0;34m.\u001b[0m\u001b[0mupdate\u001b[0m\u001b[0;34m(\u001b[0m\u001b[0mfontdict\u001b[0m\u001b[0;34m)\u001b[0m\u001b[0;34m\u001b[0m\u001b[0;34m\u001b[0m\u001b[0m\n\u001b[0;32m-> 1795\u001b[0;31m         \u001b[0;32mreturn\u001b[0m \u001b[0mself\u001b[0m\u001b[0;34m.\u001b[0m\u001b[0mset_ticklabels\u001b[0m\u001b[0;34m(\u001b[0m\u001b[0mlabels\u001b[0m\u001b[0;34m,\u001b[0m \u001b[0mminor\u001b[0m\u001b[0;34m=\u001b[0m\u001b[0mminor\u001b[0m\u001b[0;34m,\u001b[0m \u001b[0;34m**\u001b[0m\u001b[0mkwargs\u001b[0m\u001b[0;34m)\u001b[0m\u001b[0;34m\u001b[0m\u001b[0;34m\u001b[0m\u001b[0m\n\u001b[0m\u001b[1;32m   1796\u001b[0m \u001b[0;34m\u001b[0m\u001b[0m\n\u001b[1;32m   1797\u001b[0m     \u001b[0;32mdef\u001b[0m \u001b[0mset_ticks\u001b[0m\u001b[0;34m(\u001b[0m\u001b[0mself\u001b[0m\u001b[0;34m,\u001b[0m \u001b[0mticks\u001b[0m\u001b[0;34m,\u001b[0m \u001b[0;34m*\u001b[0m\u001b[0;34m,\u001b[0m \u001b[0mminor\u001b[0m\u001b[0;34m=\u001b[0m\u001b[0;32mFalse\u001b[0m\u001b[0;34m)\u001b[0m\u001b[0;34m:\u001b[0m\u001b[0;34m\u001b[0m\u001b[0;34m\u001b[0m\u001b[0m\n",
      "\u001b[0;32m~/opt/anaconda3/lib/python3.9/site-packages/matplotlib/axis.py\u001b[0m in \u001b[0;36mset_ticklabels\u001b[0;34m(self, ticklabels, minor, **kwargs)\u001b[0m\n\u001b[1;32m   1714\u001b[0m             \u001b[0;31m# remove all tick labels, so only error for > 0 ticklabels\u001b[0m\u001b[0;34m\u001b[0m\u001b[0;34m\u001b[0m\u001b[0m\n\u001b[1;32m   1715\u001b[0m             \u001b[0;32mif\u001b[0m \u001b[0mlen\u001b[0m\u001b[0;34m(\u001b[0m\u001b[0mlocator\u001b[0m\u001b[0;34m.\u001b[0m\u001b[0mlocs\u001b[0m\u001b[0;34m)\u001b[0m \u001b[0;34m!=\u001b[0m \u001b[0mlen\u001b[0m\u001b[0;34m(\u001b[0m\u001b[0mticklabels\u001b[0m\u001b[0;34m)\u001b[0m \u001b[0;32mand\u001b[0m \u001b[0mlen\u001b[0m\u001b[0;34m(\u001b[0m\u001b[0mticklabels\u001b[0m\u001b[0;34m)\u001b[0m \u001b[0;34m!=\u001b[0m \u001b[0;36m0\u001b[0m\u001b[0;34m:\u001b[0m\u001b[0;34m\u001b[0m\u001b[0;34m\u001b[0m\u001b[0m\n\u001b[0;32m-> 1716\u001b[0;31m                 raise ValueError(\n\u001b[0m\u001b[1;32m   1717\u001b[0m                     \u001b[0;34m\"The number of FixedLocator locations\"\u001b[0m\u001b[0;34m\u001b[0m\u001b[0;34m\u001b[0m\u001b[0m\n\u001b[1;32m   1718\u001b[0m                     \u001b[0;34mf\" ({len(locator.locs)}), usually from a call to\"\u001b[0m\u001b[0;34m\u001b[0m\u001b[0;34m\u001b[0m\u001b[0m\n",
      "\u001b[0;31mValueError\u001b[0m: The number of FixedLocator locations (28), usually from a call to set_ticks, does not match the number of ticklabels (29)."
     ]
    },
    {
     "data": {
      "image/png": "[encoded data removed]",
      "text/plain": [
       "<Figure size 432x288 with 1 Axes>"
      ]
     },
     "metadata": {
      "needs_background": "light"
     },
     "output_type": "display_data"
    }
   ],
   "source": [
    "# or we can also display the years with a simple plot\n",
    "x = np.arange(len(yearsList)-1)\n",
    "pp.xticks(x,yearsList)\n",
    "pp.plot(x, yearAveragePrices[:-1])\n",
    "pp.show()\n",
    "\n",
    "# Done!"
   ]
  },
  {
   "cell_type": "code",
   "execution_count": null,
   "id": "9d42b410",
   "metadata": {},
   "outputs": [],
   "source": [
    "\n",
    "\n",
    "\n"
   ]
  },
  {
   "cell_type": "code",
   "execution_count": null,
   "id": "8b8248d4",
   "metadata": {},
   "outputs": [],
   "source": []
  }
 ],
 "metadata": {
  "kernelspec": {
   "display_name": "Python 3 (ipykernel)",
   "language": "python",
   "name": "python3"
  },
  "language_info": {
   "codemirror_mode": {
    "name": "ipython",
    "version": 3
   },
   "file_extension": ".py",
   "mimetype": "text/x-python",
   "name": "python",
   "nbconvert_exporter": "python",
   "pygments_lexer": "ipython3",
   "version": "3.9.7"
  }
 },
 "nbformat": 4,
 "nbformat_minor": 5
}
