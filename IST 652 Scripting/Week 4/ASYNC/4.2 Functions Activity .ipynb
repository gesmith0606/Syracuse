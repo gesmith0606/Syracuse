{
 "cells": [
  {
   "cell_type": "code",
   "execution_count": 4,
   "id": "69995a79",
   "metadata": {},
   "outputs": [],
   "source": [
    "def fred():\n",
    " print (\"Zap\")\n",
    "def jane():\n",
    " print (\"ABC\")"
   ]
  },
  {
   "cell_type": "code",
   "execution_count": 5,
   "id": "bf50fc76",
   "metadata": {},
   "outputs": [
    {
     "name": "stdout",
     "output_type": "stream",
     "text": [
      "ABC\n",
      "Zap\n",
      "ABC\n"
     ]
    }
   ],
   "source": [
    "jane()\n",
    "fred()\n",
    "jane()"
   ]
  },
  {
   "cell_type": "code",
   "execution_count": 11,
   "id": "a410c3de",
   "metadata": {},
   "outputs": [
    {
     "name": "stdout",
     "output_type": "stream",
     "text": [
      "What is the number of hours worked?45\n",
      "What is the payrate?20\n",
      "The pay is: 900.0\n"
     ]
    }
   ],
   "source": [
    "hours = input ('What is the number of hours worked?')\n",
    "rate = input ('What is the payrate?')\n",
    "# Calculate area\n",
    "pay = float (hours) * float(rate)\n",
    "print('The pay is:', pay) "
   ]
  },
  {
   "cell_type": "code",
   "execution_count": 21,
   "id": "9dc7b746",
   "metadata": {},
   "outputs": [
    {
     "name": "stdout",
     "output_type": "stream",
     "text": [
      "Regular hours worked: 40\n",
      "Overtime hours worked: 5\n",
      "Hourly rate in dollars: 20\n",
      "This pay period you earned: $950.00\n"
     ]
    }
   ],
   "source": [
    "def computepay(hours, rate):\n",
    "    return hours * rate\n",
    "\n",
    "\n",
    "regular_hours = float(input(\"Regular hours worked: \"))\n",
    "overtime_hours = float(input(\"Overtime hours worked: \"))\n",
    "regular_rate = float(input(\"Hourly rate in dollars: \"))\n",
    "\n",
    "regular_pay = computepay(regular_hours, regular_rate)\n",
    "overtime_pay = computepay(overtime_hours, regular_rate * 1.5)\n",
    "total_pay = regular_pay + overtime_pay\n",
    "\n",
    "print(f\"This pay period you earned: ${total_pay:.2f}\")"
   ]
  },
  {
   "cell_type": "code",
   "execution_count": null,
   "id": "f4b081ba",
   "metadata": {},
   "outputs": [],
   "source": []
  }
 ],
 "metadata": {
  "kernelspec": {
   "display_name": "Python 3 (ipykernel)",
   "language": "python",
   "name": "python3"
  },
  "language_info": {
   "codemirror_mode": {
    "name": "ipython",
    "version": 3
   },
   "file_extension": ".py",
   "mimetype": "text/x-python",
   "name": "python",
   "nbconvert_exporter": "python",
   "pygments_lexer": "ipython3",
   "version": "3.9.7"
  }
 },
 "nbformat": 4,
 "nbformat_minor": 5
}
