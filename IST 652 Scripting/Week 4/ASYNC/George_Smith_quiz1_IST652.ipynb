{
 "cells": [
  {
   "cell_type": "code",
   "execution_count": 1,
   "id": "2c3b1cef",
   "metadata": {},
   "outputs": [],
   "source": [
    "# George Smith \n",
    "# Quiz 1 "
   ]
  },
  {
   "cell_type": "code",
   "execution_count": 2,
   "id": "06fa8574",
   "metadata": {},
   "outputs": [
    {
     "name": "stdout",
     "output_type": "stream",
     "text": [
      "<class 'bool'>\n",
      "<class 'float'>\n",
      "<class 'str'>\n"
     ]
    }
   ],
   "source": [
    "# 1. \n",
    "m = True\n",
    "n = 3.14\n",
    "q = \"−7.2345907654\"\n",
    "print (type(m))\n",
    "print(type(n))\n",
    "print(type(q))"
   ]
  },
  {
   "cell_type": "code",
   "execution_count": 9,
   "id": "1187a525",
   "metadata": {},
   "outputs": [],
   "source": [
    "# 2\n",
    "String1 = 'Monty Python'\n",
    "String2 = \"Monty Python\"\n",
    "String3 = 'Monty ' + 'Python'"
   ]
  },
  {
   "cell_type": "code",
   "execution_count": 14,
   "id": "fc87f11f",
   "metadata": {},
   "outputs": [
    {
     "data": {
      "text/plain": [
       "str"
      ]
     },
     "execution_count": 14,
     "metadata": {},
     "output_type": "execute_result"
    }
   ],
   "source": [
    "type(String1)"
   ]
  },
  {
   "cell_type": "code",
   "execution_count": 15,
   "id": "47b13bee",
   "metadata": {},
   "outputs": [
    {
     "data": {
      "text/plain": [
       "str"
      ]
     },
     "execution_count": 15,
     "metadata": {},
     "output_type": "execute_result"
    }
   ],
   "source": [
    "type(String2)"
   ]
  },
  {
   "cell_type": "code",
   "execution_count": 16,
   "id": "ed7dedb5",
   "metadata": {},
   "outputs": [
    {
     "data": {
      "text/plain": [
       "str"
      ]
     },
     "execution_count": 16,
     "metadata": {},
     "output_type": "execute_result"
    }
   ],
   "source": [
    "type(String3)"
   ]
  },
  {
   "cell_type": "code",
   "execution_count": 3,
   "id": "acaca408",
   "metadata": {},
   "outputs": [
    {
     "name": "stdout",
     "output_type": "stream",
     "text": [
      "4 8 16 12\n"
     ]
    }
   ],
   "source": [
    "#4. \n",
    "Evennumbers = [2, 4, 6, 8, 10, 12, 14, 16, 18]\n",
    "Temp = Evennumbers[1]+Evennumbers[3]\n",
    "\n",
    "print(Evennumbers[1], Evennumbers[3], Evennumbers[7], Temp)"
   ]
  },
  {
   "cell_type": "code",
   "execution_count": 17,
   "id": "1e7ad8ac",
   "metadata": {},
   "outputs": [
    {
     "name": "stdout",
     "output_type": "stream",
     "text": [
      "['hat', 'passport', 'laptop', 'suit', 'shoes']\n",
      "['sunglasses', 'hat', 'passport', 'laptop']\n"
     ]
    }
   ],
   "source": [
    "#5. \n",
    "Suitcase = [\"sunglasses\", \"hat\", \"passport\", \"laptop\", \"suit\", \"shoes\"]\n",
    "print(Suitcase[1:])\n",
    "print(Suitcase[:4])"
   ]
  },
  {
   "cell_type": "code",
   "execution_count": 19,
   "id": "6bc93c48",
   "metadata": {},
   "outputs": [
    {
     "name": "stdout",
     "output_type": "stream",
     "text": [
      "Welcome to the world of logical operators\n"
     ]
    }
   ],
   "source": [
    "#6. \n",
    "x = 5\n",
    "if(x >= 0 or x < 0):\n",
    "    print(\"Welcome to the world of logical operators\")\n",
    "else:\n",
    "    print(\"Try again\")"
   ]
  },
  {
   "cell_type": "code",
   "execution_count": 6,
   "id": "ccc6260a",
   "metadata": {},
   "outputs": [
    {
     "name": "stdout",
     "output_type": "stream",
     "text": [
      "2\n",
      "3\n",
      "4\n",
      "5\n"
     ]
    }
   ],
   "source": [
    "#7. \n",
    "xlist = [1, 2, 3, 4]\n",
    "for x in xlist:\n",
    "    print(x+1)"
   ]
  },
  {
   "cell_type": "code",
   "execution_count": 20,
   "id": "b2e3c241",
   "metadata": {},
   "outputs": [
    {
     "name": "stdout",
     "output_type": "stream",
     "text": [
      "Type Threshold: 55\n"
     ]
    },
    {
     "ename": "TypeError",
     "evalue": "'>' not supported between instances of 'int' and 'str'",
     "output_type": "error",
     "traceback": [
      "\u001b[0;31m---------------------------------------------------------------------------\u001b[0m",
      "\u001b[0;31mTypeError\u001b[0m                                 Traceback (most recent call last)",
      "\u001b[0;32m/var/folders/t6/r78__dnn0sjgvvll0tn49gn80000gn/T/ipykernel_8369/3875156937.py\u001b[0m in \u001b[0;36m<module>\u001b[0;34m\u001b[0m\n\u001b[1;32m      2\u001b[0m \u001b[0mnlist\u001b[0m \u001b[0;34m=\u001b[0m \u001b[0;34m[\u001b[0m\u001b[0;36m8\u001b[0m\u001b[0;34m,\u001b[0m \u001b[0;36m92\u001b[0m\u001b[0;34m,\u001b[0m \u001b[0;36m79\u001b[0m\u001b[0;34m,\u001b[0m \u001b[0;36m55\u001b[0m\u001b[0;34m,\u001b[0m \u001b[0;36m23\u001b[0m\u001b[0;34m,\u001b[0m \u001b[0;36m17\u001b[0m\u001b[0;34m,\u001b[0m \u001b[0;36m4\u001b[0m\u001b[0;34m,\u001b[0m \u001b[0;36m45\u001b[0m\u001b[0;34m,\u001b[0m \u001b[0;36m63\u001b[0m\u001b[0;34m,\u001b[0m \u001b[0;36m9\u001b[0m\u001b[0;34m,\u001b[0m \u001b[0;36m100\u001b[0m\u001b[0;34m]\u001b[0m\u001b[0;34m\u001b[0m\u001b[0;34m\u001b[0m\u001b[0m\n\u001b[1;32m      3\u001b[0m \u001b[0mthreshold\u001b[0m \u001b[0;34m=\u001b[0m \u001b[0minput\u001b[0m\u001b[0;34m(\u001b[0m\u001b[0;34m'Type Threshold: '\u001b[0m\u001b[0;34m)\u001b[0m\u001b[0;34m\u001b[0m\u001b[0;34m\u001b[0m\u001b[0m\n\u001b[0;32m----> 4\u001b[0;31m \u001b[0;32mif\u001b[0m \u001b[0;34m(\u001b[0m\u001b[0mmax\u001b[0m\u001b[0;34m(\u001b[0m\u001b[0mnlist\u001b[0m\u001b[0;34m)\u001b[0m \u001b[0;34m>\u001b[0m \u001b[0mthreshold\u001b[0m\u001b[0;34m)\u001b[0m\u001b[0;34m:\u001b[0m\u001b[0;34m\u001b[0m\u001b[0;34m\u001b[0m\u001b[0m\n\u001b[0m\u001b[1;32m      5\u001b[0m      \u001b[0mprint\u001b[0m\u001b[0;34m(\u001b[0m\u001b[0;34m'Great'\u001b[0m\u001b[0;34m)\u001b[0m\u001b[0;34m\u001b[0m\u001b[0;34m\u001b[0m\u001b[0m\n\u001b[1;32m      6\u001b[0m \u001b[0;32melse\u001b[0m\u001b[0;34m:\u001b[0m\u001b[0;34m\u001b[0m\u001b[0;34m\u001b[0m\u001b[0m\n",
      "\u001b[0;31mTypeError\u001b[0m: '>' not supported between instances of 'int' and 'str'"
     ]
    }
   ],
   "source": [
    "#8.\n",
    "nlist = [8, 92, 79, 55, 23, 17, 4, 45, 63, 9, 100]\n",
    "threshold = input('Type Threshold: ')\n",
    "if (max(nlist) > threshold):\n",
    "     print('Great')\n",
    "else:\n",
    "     print('Not great')"
   ]
  },
  {
   "cell_type": "code",
   "execution_count": 21,
   "id": "287de486",
   "metadata": {},
   "outputs": [
    {
     "name": "stdout",
     "output_type": "stream",
     "text": [
      "Type Threshold: 55\n"
     ]
    },
    {
     "ename": "TypeError",
     "evalue": "'>' not supported between instances of 'int' and 'str'",
     "output_type": "error",
     "traceback": [
      "\u001b[0;31m---------------------------------------------------------------------------\u001b[0m",
      "\u001b[0;31mTypeError\u001b[0m                                 Traceback (most recent call last)",
      "\u001b[0;32m/var/folders/t6/r78__dnn0sjgvvll0tn49gn80000gn/T/ipykernel_8369/1965029181.py\u001b[0m in \u001b[0;36m<module>\u001b[0;34m\u001b[0m\n\u001b[1;32m      1\u001b[0m \u001b[0mnlist\u001b[0m \u001b[0;34m=\u001b[0m \u001b[0;34m[\u001b[0m\u001b[0;36m8\u001b[0m\u001b[0;34m,\u001b[0m \u001b[0;36m92\u001b[0m\u001b[0;34m,\u001b[0m \u001b[0;36m79\u001b[0m\u001b[0;34m,\u001b[0m \u001b[0;36m55\u001b[0m\u001b[0;34m,\u001b[0m \u001b[0;36m23\u001b[0m\u001b[0;34m,\u001b[0m \u001b[0;36m17\u001b[0m\u001b[0;34m,\u001b[0m \u001b[0;36m4\u001b[0m\u001b[0;34m,\u001b[0m \u001b[0;36m45\u001b[0m\u001b[0;34m,\u001b[0m \u001b[0;36m63\u001b[0m\u001b[0;34m,\u001b[0m \u001b[0;36m9\u001b[0m\u001b[0;34m,\u001b[0m \u001b[0;36m100\u001b[0m\u001b[0;34m]\u001b[0m\u001b[0;34m\u001b[0m\u001b[0;34m\u001b[0m\u001b[0m\n\u001b[1;32m      2\u001b[0m \u001b[0mthreshold\u001b[0m \u001b[0;34m=\u001b[0m \u001b[0minput\u001b[0m\u001b[0;34m(\u001b[0m\u001b[0;34m'Type Threshold: '\u001b[0m\u001b[0;34m)\u001b[0m\u001b[0;34m\u001b[0m\u001b[0;34m\u001b[0m\u001b[0m\n\u001b[0;32m----> 3\u001b[0;31m \u001b[0;32mif\u001b[0m \u001b[0;34m(\u001b[0m\u001b[0mmax\u001b[0m\u001b[0;34m(\u001b[0m\u001b[0mnlist\u001b[0m\u001b[0;34m)\u001b[0m \u001b[0;34m>\u001b[0m \u001b[0mthreshold\u001b[0m\u001b[0;34m)\u001b[0m\u001b[0;34m:\u001b[0m\u001b[0;34m\u001b[0m\u001b[0;34m\u001b[0m\u001b[0m\n\u001b[0m\u001b[1;32m      4\u001b[0m      \u001b[0mprint\u001b[0m\u001b[0;34m(\u001b[0m\u001b[0;34m'Great'\u001b[0m\u001b[0;34m)\u001b[0m\u001b[0;34m\u001b[0m\u001b[0;34m\u001b[0m\u001b[0m\n\u001b[1;32m      5\u001b[0m \u001b[0;32melse\u001b[0m\u001b[0;34m:\u001b[0m\u001b[0;34m\u001b[0m\u001b[0;34m\u001b[0m\u001b[0m\n",
      "\u001b[0;31mTypeError\u001b[0m: '>' not supported between instances of 'int' and 'str'"
     ]
    }
   ],
   "source": [
    "nlist = [8, 92, 79, 55, 23, 17, 4, 45, 63, 9, 100]\n",
    "threshold = input('Type Threshold: ')\n",
    "if (max(nlist) > threshold):\n",
    "     print('Great')\n",
    "else:\n",
    "     print('Not great')"
   ]
  },
  {
   "cell_type": "code",
   "execution_count": 23,
   "id": "0a5b0d39",
   "metadata": {},
   "outputs": [
    {
     "name": "stdout",
     "output_type": "stream",
     "text": [
      "aaa\n"
     ]
    }
   ],
   "source": [
    "#11.\n",
    "\n",
    "#examples = ['abab', 'xyz', 'aa', 'x', 'bcb']\n",
    "#examples = ['', 'x', 'xy', 'xyx', 'xx']\n",
    "examples = ['aaa', 'be', 'abc', 'hello']\n",
    "\n",
    "for i in range(len(examples)):\n",
    "    if(len(examples[i])>=3 and examples[i][0]==examples[i][-1]):\n",
    "        print(examples[i])"
   ]
  },
  {
   "cell_type": "code",
   "execution_count": null,
   "id": "45c06488",
   "metadata": {},
   "outputs": [],
   "source": [
    "For this question, you are to write a program that reads the data in the file state_satscores_2004.txt. Each line of this file has name of a state, mean Verbal SAT score, and mean Math SAT score.\n",
    "\n",
    "After reading the data,\n",
    "a. Print the state with the highest mean Verbal SAT score\n",
    "b. Print each state that has a mean Math SAT score greater than 500\n",
    "\n",
    "Submit the code and the output from your program.\n",
    "\n",
    "You may use the code developed for the NBA data as a template, but it is absolutely essential that you use appropriate variable names and that you write original comments for what your program does.\n",
    "\n",
    "If you prefer, you can write this program with a csv reader, using state_satscores_2004.tsv.\n",
    "\n"
   ]
  },
  {
   "cell_type": "code",
   "execution_count": null,
   "id": "632d2929",
   "metadata": {},
   "outputs": [],
   "source": [
    "# 12 \n",
    "file= open('state_satscores_2004.txt','r')\n",
    "List = []\n",
    "for line in file:\n",
    "     textline=line.strip()\n",
    "     items = textline.split()\n",
    "     List.append(items)\n",
    "mean_verbal_sat_score = []\n",
    "for line in List:\n",
    "     mean_verbal_sat_score.append(int(line[1]))\n",
    "mean_sat = sum(mean_verbal_satscore)/len(mean_verbal_satscore)\n",
    "print (': ',average_att)\n",
    "\n",
    "att_sum = sum(attendances)\n",
    "print ('Total Attendance was: ',att_sum)\n",
    "average_att = sum(attendances) / len(attendances)\n",
    "print ('Average Attendance was: ',average_att)\n",
    "team, att, price = NBAList[0]\n",
    "prices = []\n",
    "for (team, att, price) in NBAList:\n",
    "     prices.append(float(price))\n",
    "avg_price = sum(prices) / len(prices)\n",
    "print ('Average Ticket Price was: ',avg_price)\n",
    "max_att = max(attendances)\n",
    "max_price = max(prices)\n",
    "teams = []\n",
    "for (team, att, price) in NBAList:\n",
    "     teams.append(team)\n",
    "max_team=teams[attendances.index(max_att)]\n",
    "max_team2 = teams[prices.index(max_price)]\n",
    "print ('Team with greatest attendance was: ',max_team, 'Attendance of: ', max_att)\n",
    "print ('Team with greatest price was: ',max_team2, 'Price of: ', max_price)"
   ]
  },
  {
   "cell_type": "code",
   "execution_count": 3,
   "id": "d9854371",
   "metadata": {},
   "outputs": [
    {
     "ename": "FileNotFoundError",
     "evalue": "[Errno 2] No such file or directory: 'state_satscores_2004.txt'",
     "output_type": "error",
     "traceback": [
      "\u001b[0;31m---------------------------------------------------------------------------\u001b[0m",
      "\u001b[0;31mFileNotFoundError\u001b[0m                         Traceback (most recent call last)",
      "\u001b[0;32m/var/folders/t6/r78__dnn0sjgvvll0tn49gn80000gn/T/ipykernel_5275/1152604157.py\u001b[0m in \u001b[0;36m<module>\u001b[0;34m\u001b[0m\n\u001b[0;32m----> 1\u001b[0;31m \u001b[0mfile\u001b[0m\u001b[0;34m=\u001b[0m \u001b[0mopen\u001b[0m\u001b[0;34m(\u001b[0m\u001b[0;34m'state_satscores_2004.txt'\u001b[0m\u001b[0;34m,\u001b[0m\u001b[0;34m'r'\u001b[0m\u001b[0;34m)\u001b[0m\u001b[0;34m\u001b[0m\u001b[0;34m\u001b[0m\u001b[0m\n\u001b[0m\u001b[1;32m      2\u001b[0m \u001b[0mflie\u001b[0m\u001b[0;34m.\u001b[0m\u001b[0mhead\u001b[0m\u001b[0;34m(\u001b[0m\u001b[0;34m)\u001b[0m\u001b[0;34m\u001b[0m\u001b[0;34m\u001b[0m\u001b[0m\n",
      "\u001b[0;31mFileNotFoundError\u001b[0m: [Errno 2] No such file or directory: 'state_satscores_2004.txt'"
     ]
    }
   ],
   "source": []
  },
  {
   "cell_type": "code",
   "execution_count": null,
   "id": "d898d01a",
   "metadata": {},
   "outputs": [],
   "source": [
    "NBAfile= open('NBA-attendance-1989.txt','r')\n",
    "NBAList = []\n",
    "for line in NBAfile:\n",
    "     textline=line.strip()\n",
    "     items = textline.split()\n",
    "     NBAList.append(items)\n",
    "attendances = []\n",
    "for line in NBAList:\n",
    "     attendances.append(int(line[1]))\n",
    "att_sum = sum(attendances)\n",
    "print ('Total Attendance was: ',att_sum)\n",
    "average_att = sum(attendances) / len(attendances)\n",
    "print ('Average Attendance was: ',average_att)\n",
    "team, att, price = NBAList[0]\n",
    "prices = []\n",
    "for (team, att, price) in NBAList:\n",
    "     prices.append(float(price))\n",
    "avg_price = sum(prices) / len(prices)\n",
    "print ('Average Ticket Price was: ',avg_price)\n",
    "max_att = max(attendances)\n",
    "max_price = max(prices)\n",
    "teams = []\n",
    "for (team, att, price) in NBAList:\n",
    "     teams.append(team)\n",
    "max_team=teams[attendances.index(max_att)]\n",
    "max_team2 = teams[prices.index(max_price)]\n",
    "print ('Team with greatest attendance was: ',max_team, 'Attendance of: ', max_att)\n",
    "print ('Team with greatest price was: ',max_team2, 'Price of: ', max_price)"
   ]
  }
 ],
 "metadata": {
  "kernelspec": {
   "display_name": "Python 3 (ipykernel)",
   "language": "python",
   "name": "python3"
  },
  "language_info": {
   "codemirror_mode": {
    "name": "ipython",
    "version": 3
   },
   "file_extension": ".py",
   "mimetype": "text/x-python",
   "name": "python",
   "nbconvert_exporter": "python",
   "pygments_lexer": "ipython3",
   "version": "3.9.7"
  }
 },
 "nbformat": 4,
 "nbformat_minor": 5
}
