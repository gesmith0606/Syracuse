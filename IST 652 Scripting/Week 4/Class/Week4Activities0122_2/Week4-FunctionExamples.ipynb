{
 "cells": [
  {
   "cell_type": "code",
   "execution_count": 14,
   "metadata": {},
   "outputs": [
    {
     "name": "stdout",
     "output_type": "stream",
     "text": [
      "Using default value\n",
      "Emp Name:  Nick\n",
      "Emp Role  Manager\n",
      "************************\n",
      "Overwriting default value\n",
      "Emp Name:  Tom\n",
      "Emp Role  CEO\n"
     ]
    }
   ],
   "source": [
    "# Functions and Variables\n",
    "# Inside and outside a function\n",
    "\n",
    "def defArgFunc( empname, emprole = \"Manager\" ):   \n",
    "   print (\"Emp Name: \", empname)\n",
    "   print (\"Emp Role \", emprole)\n",
    "   return;\n",
    "print(\"Using default value\")\n",
    "defArgFunc(empname=\"Nick\")\n",
    "print(\"************************\")\n",
    "print(\"Overwriting default value\")\n",
    "defArgFunc(empname=\"Tom\",emprole = \"CEO\")"
   ]
  },
  {
   "cell_type": "code",
   "execution_count": 15,
   "metadata": {},
   "outputs": [
    {
     "ename": "NameError",
     "evalue": "name 'empname' is not defined",
     "output_type": "error",
     "traceback": [
      "\u001b[0;31m---------------------------------------------------------------------------\u001b[0m",
      "\u001b[0;31mNameError\u001b[0m                                 Traceback (most recent call last)",
      "\u001b[0;32m/var/folders/t6/r78__dnn0sjgvvll0tn49gn80000gn/T/ipykernel_5108/3933064219.py\u001b[0m in \u001b[0;36m<module>\u001b[0;34m\u001b[0m\n\u001b[0;32m----> 1\u001b[0;31m \u001b[0mprint\u001b[0m\u001b[0;34m(\u001b[0m\u001b[0mempname\u001b[0m\u001b[0;34m)\u001b[0m \u001b[0;31m#explain the result you got\u001b[0m\u001b[0;34m\u001b[0m\u001b[0;34m\u001b[0m\u001b[0m\n\u001b[0m",
      "\u001b[0;31mNameError\u001b[0m: name 'empname' is not defined"
     ]
    }
   ],
   "source": [
    "print(empname) #explain the result you got"
   ]
  },
  {
   "cell_type": "code",
   "execution_count": 16,
   "metadata": {},
   "outputs": [
    {
     "name": "stdout",
     "output_type": "stream",
     "text": [
      "Calling with single value\n",
      "The Output is: \n",
      "55\n",
      "Calling with multiple values\n",
      "The Output is: \n",
      "50\n",
      "60\n",
      "70\n",
      "80\n"
     ]
    }
   ],
   "source": [
    "#Variable length argument example\n",
    "\n",
    "def varLenArgFunc(*varvallist ):   \n",
    "   print (\"The Output is: \")\n",
    "   for varval in varvallist:\n",
    "      print (varval)\n",
    "   return;   \n",
    "print(\"Calling with single value\")\n",
    "varLenArgFunc(55)\n",
    "print(\"Calling with multiple values\")\n",
    "varLenArgFunc(50,60,70,80)"
   ]
  },
  {
   "cell_type": "code",
   "execution_count": 5,
   "metadata": {},
   "outputs": [
    {
     "name": "stdout",
     "output_type": "stream",
     "text": [
      "Values inside the function:  [10, 20, 30, [1, 2, 3, 4]]\n",
      "Values outside the function:  [10, 20, 30]\n"
     ]
    }
   ],
   "source": [
    "# Function definition is here\n",
    "def changeme( mylist ):\n",
    "   \"This changes a passed list into this function\"\n",
    "   mylist.append([1,2,3,4]);\n",
    "   print(\"Values inside the function: \", mylist)\n",
    "   return \n",
    "\n",
    "# Now you can call changeme function\n",
    "mylist = [10,20,30];\n",
    "changeme( [10,20,30] );\n",
    "print(\"Values outside the function: \", mylist)"
   ]
  },
  {
   "cell_type": "code",
   "execution_count": 6,
   "metadata": {},
   "outputs": [
    {
     "name": "stdout",
     "output_type": "stream",
     "text": [
      "Values inside the function:  [1, 2, 3, 4]\n",
      "Values outside the function:  [10, 20, 30]\n"
     ]
    }
   ],
   "source": [
    "def changeme( mylist ):\n",
    "   \"This changes a passed list into this function\"\n",
    "   mylist = [1,2,3,4]; # This would assig new reference in mylist\n",
    "   print(\"Values inside the function: \", mylist)\n",
    "   return \n",
    "\n",
    "# Now you can call changeme function\n",
    "mylist = [10,20,30];\n",
    "changeme( mylist );\n",
    "print(\"Values outside the function: \", mylist)"
   ]
  },
  {
   "cell_type": "code",
   "execution_count": 7,
   "metadata": {},
   "outputs": [],
   "source": [
    "# Function definition is here  *vartuple is for variable # of arguments\n",
    "def printinfo( arg1, *vartuple ):\n",
    "   \"This prints a variable passed arguments\"\n",
    "   print(\"Output is: \")\n",
    "   print(arg1)\n",
    "   for var in vartuple:\n",
    "      print(var)\n",
    "   return;"
   ]
  },
  {
   "cell_type": "code",
   "execution_count": 8,
   "metadata": {},
   "outputs": [
    {
     "name": "stdout",
     "output_type": "stream",
     "text": [
      "Output is: \n",
      "10\n",
      "Output is: \n",
      "65\n",
      "25\n",
      "45\n"
     ]
    }
   ],
   "source": [
    "printinfo(10)\n",
    "printinfo(65,25,45)"
   ]
  },
  {
   "cell_type": "code",
   "execution_count": 9,
   "metadata": {},
   "outputs": [
    {
     "name": "stdout",
     "output_type": "stream",
     "text": [
      "Value of total :  30\n",
      "Value of total :  40\n"
     ]
    }
   ],
   "source": [
    "#The Anonymous Functions\n",
    "#These functions are called anonymous because they are not declared in the standard manner by using the def keyword. You can use the lambda keyword to create small anonymous functions.\n",
    "\n",
    "#Lambda forms can take any number of arguments but return just one value in the form of an expression. \n",
    "\n",
    "#Lambda functions have their own local namespace and cannot access variables other than those in their parameter \n",
    "#list and those in the global namespace.\n",
    "\n",
    "#Syntax\n",
    "#The syntax of lambda functions contains only a single statement, which is as follows −\n",
    "\n",
    "#lambda [arg1 [,arg2,.....argn]]:expression\n",
    "#Following is the example to show how lambda form of function works −\n",
    "\n",
    "\n",
    "# Function definition is here\n",
    "sum = lambda arg1, arg2: arg1 + arg2;\n",
    "\n",
    "# Now you can call sum as a function\n",
    "print(\"Value of total : \", sum( 10, 20 ))\n",
    "print(\"Value of total : \", sum( 20, 20 ))"
   ]
  },
  {
   "cell_type": "code",
   "execution_count": 17,
   "metadata": {},
   "outputs": [
    {
     "name": "stdout",
     "output_type": "stream",
     "text": [
      "Inside the function :  30\n",
      "Outside the function :  30\n"
     ]
    }
   ],
   "source": [
    "# Function using a return of a value\n",
    "def sum( arg1, arg2 ):\n",
    "   # Add both the parameters and return them.\"\n",
    "   calc = arg1 + arg2\n",
    "   print(\"Inside the function : \", calc)\n",
    "   return calc;\n",
    "\n",
    "# Now you can call sum function\n",
    "total = sum( 10, 20 );\n",
    "print(\"Outside the function : \", total)"
   ]
  },
  {
   "cell_type": "code",
   "execution_count": 11,
   "metadata": {},
   "outputs": [
    {
     "ename": "SyntaxError",
     "evalue": "invalid syntax (1826469650.py, line 1)",
     "output_type": "error",
     "traceback": [
      "\u001b[0;36m  File \u001b[0;32m\"/var/folders/t6/r78__dnn0sjgvvll0tn49gn80000gn/T/ipykernel_5108/1826469650.py\"\u001b[0;36m, line \u001b[0;32m1\u001b[0m\n\u001b[0;31m    Write a short program to create the three functions below.\u001b[0m\n\u001b[0m          ^\u001b[0m\n\u001b[0;31mSyntaxError\u001b[0m\u001b[0;31m:\u001b[0m invalid syntax\n"
     ]
    }
   ],
   "source": [
    "Write a short program to create the three functions below.  \n",
    "Run your code a few times with different values.\n",
    "\n",
    "\n",
    "1.  Create a function add_tax(amount, tax_rate) that accepts numeric values, amount and tax_rate,\n",
    "\n",
    "     and returns a new total amount with the tax amount included. \n",
    "\n",
    "Note: that tax rate and tax amount are different.\n",
    "\n",
    "\n",
    "2.  Define a function mean(a, b, c) that returns the mean of three numbers. \n",
    "Hint: Divide by 3.0 to get a float. \n",
    "Make sure that your answer only has 2 decimals.\n",
    "\n",
    "3.  Write a lambda function to accomplish the same thing as #2 above.\n"
   ]
  },
  {
   "cell_type": "code",
   "execution_count": null,
   "metadata": {},
   "outputs": [],
   "source": []
  }
 ],
 "metadata": {
  "kernelspec": {
   "display_name": "Python 3 (ipykernel)",
   "language": "python",
   "name": "python3"
  },
  "language_info": {
   "codemirror_mode": {
    "name": "ipython",
    "version": 3
   },
   "file_extension": ".py",
   "mimetype": "text/x-python",
   "name": "python",
   "nbconvert_exporter": "python",
   "pygments_lexer": "ipython3",
   "version": "3.9.7"
  }
 },
 "nbformat": 4,
 "nbformat_minor": 2
}
