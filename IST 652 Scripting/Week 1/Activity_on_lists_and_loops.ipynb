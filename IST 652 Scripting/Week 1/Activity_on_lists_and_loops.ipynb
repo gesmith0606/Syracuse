{
 "cells": [
  {
   "cell_type": "code",
   "execution_count": 1,
   "id": "36211e96",
   "metadata": {},
   "outputs": [],
   "source": [
    "samples = [\"at\", \"bat\", \"c\",\"g\",\"hat\",\"fat\",\"z\",\"rat\",\"it\",\"pi\" ]"
   ]
  },
  {
   "cell_type": "code",
   "execution_count": 6,
   "id": "d25bb02e",
   "metadata": {},
   "outputs": [
    {
     "name": "stdout",
     "output_type": "stream",
     "text": [
      "at False\n",
      "bat True\n",
      "c False\n",
      "g False\n",
      "hat True\n",
      "fat True\n",
      "z False\n",
      "rat True\n",
      "it False\n",
      "pi False\n"
     ]
    }
   ],
   "source": [
    "for elem in samples: \n",
    "    print (elem,len(elem) > 2)"
   ]
  },
  {
   "cell_type": "code",
   "execution_count": 7,
   "id": "6c005cbd",
   "metadata": {},
   "outputs": [],
   "source": [
    "samples = [\"at\", \"happy\", \"c\",\"g\",\"hat\",\"dachshund\",\"z\",\"elephant\",\"it\",\"pi\" ]"
   ]
  },
  {
   "cell_type": "code",
   "execution_count": 8,
   "id": "4ace126f",
   "metadata": {},
   "outputs": [
    {
     "name": "stdout",
     "output_type": "stream",
     "text": [
      "at False\n",
      "happy False\n",
      "c False\n",
      "g False\n",
      "hat False\n",
      "dachshund True\n",
      "z False\n",
      "elephant True\n",
      "it False\n",
      "pi False\n"
     ]
    }
   ],
   "source": [
    "for elem in samples: \n",
    "    print (elem,len(elem) > 2 and len(elem) > 5)"
   ]
  },
  {
   "cell_type": "code",
   "execution_count": null,
   "id": "bd79c207",
   "metadata": {},
   "outputs": [],
   "source": []
  }
 ],
 "metadata": {
  "kernelspec": {
   "display_name": "Python 3 (ipykernel)",
   "language": "python",
   "name": "python3"
  },
  "language_info": {
   "codemirror_mode": {
    "name": "ipython",
    "version": 3
   },
   "file_extension": ".py",
   "mimetype": "text/x-python",
   "name": "python",
   "nbconvert_exporter": "python",
   "pygments_lexer": "ipython3",
   "version": "3.9.7"
  }
 },
 "nbformat": 4,
 "nbformat_minor": 5
}
