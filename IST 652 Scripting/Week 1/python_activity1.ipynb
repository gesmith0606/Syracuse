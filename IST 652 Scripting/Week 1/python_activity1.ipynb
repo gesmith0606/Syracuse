{
 "cells": [
  {
   "cell_type": "code",
   "execution_count": 1,
   "id": "6e8329ab",
   "metadata": {},
   "outputs": [
    {
     "name": "stdout",
     "output_type": "stream",
     "text": [
      "44\n"
     ]
    }
   ],
   "source": [
    "x = 43\n",
    "x = x + 1\n",
    "print (x)"
   ]
  },
  {
   "cell_type": "code",
   "execution_count": 3,
   "id": "6b88e1bd",
   "metadata": {},
   "outputs": [
    {
     "name": "stdout",
     "output_type": "stream",
     "text": [
      "Enter Hours:35\n"
     ]
    }
   ],
   "source": [
    "hours = input(\"Enter Hours:\")"
   ]
  },
  {
   "cell_type": "code",
   "execution_count": 4,
   "id": "dcf292c7",
   "metadata": {},
   "outputs": [
    {
     "name": "stdout",
     "output_type": "stream",
     "text": [
      "Enter Rate:2.75\n"
     ]
    }
   ],
   "source": [
    "rate = input(\"Enter Rate:\")"
   ]
  },
  {
   "cell_type": "code",
   "execution_count": 5,
   "id": "7d98070b",
   "metadata": {},
   "outputs": [
    {
     "name": "stdout",
     "output_type": "stream",
     "text": [
      "Pay:96.25\n"
     ]
    }
   ],
   "source": [
    "pay = input(\"Pay:\")"
   ]
  },
  {
   "cell_type": "code",
   "execution_count": 6,
   "id": "dcd2a5b0",
   "metadata": {},
   "outputs": [],
   "source": [
    "width = 17\n",
    "height = 12.0"
   ]
  },
  {
   "cell_type": "code",
   "execution_count": 8,
   "id": "514260b4",
   "metadata": {},
   "outputs": [
    {
     "data": {
      "text/plain": [
       "8.5"
      ]
     },
     "execution_count": 8,
     "metadata": {},
     "output_type": "execute_result"
    }
   ],
   "source": [
    "width / 2"
   ]
  },
  {
   "cell_type": "code",
   "execution_count": 9,
   "id": "613a16e7",
   "metadata": {},
   "outputs": [
    {
     "data": {
      "text/plain": [
       "8.5"
      ]
     },
     "execution_count": 9,
     "metadata": {},
     "output_type": "execute_result"
    }
   ],
   "source": [
    "width / 2.0"
   ]
  },
  {
   "cell_type": "code",
   "execution_count": 10,
   "id": "120009ae",
   "metadata": {},
   "outputs": [
    {
     "data": {
      "text/plain": [
       "4.0"
      ]
     },
     "execution_count": 10,
     "metadata": {},
     "output_type": "execute_result"
    }
   ],
   "source": [
    "height / 3"
   ]
  },
  {
   "cell_type": "code",
   "execution_count": 11,
   "id": "ff83fdd7",
   "metadata": {},
   "outputs": [
    {
     "data": {
      "text/plain": [
       "11"
      ]
     },
     "execution_count": 11,
     "metadata": {},
     "output_type": "execute_result"
    }
   ],
   "source": [
    "1 + 2 * 5"
   ]
  },
  {
   "cell_type": "code",
   "execution_count": null,
   "id": "73836b4b",
   "metadata": {},
   "outputs": [],
   "source": []
  }
 ],
 "metadata": {
  "kernelspec": {
   "display_name": "Python 3 (ipykernel)",
   "language": "python",
   "name": "python3"
  },
  "language_info": {
   "codemirror_mode": {
    "name": "ipython",
    "version": 3
   },
   "file_extension": ".py",
   "mimetype": "text/x-python",
   "name": "python",
   "nbconvert_exporter": "python",
   "pygments_lexer": "ipython3",
   "version": "3.9.7"
  }
 },
 "nbformat": 4,
 "nbformat_minor": 5
}
