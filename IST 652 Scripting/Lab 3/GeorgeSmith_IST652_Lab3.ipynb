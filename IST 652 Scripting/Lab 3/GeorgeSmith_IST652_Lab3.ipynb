{
 "cells": [
  {
   "cell_type": "code",
   "execution_count": 1,
   "id": "bb3724b5",
   "metadata": {},
   "outputs": [],
   "source": [
    "# George Smith \n",
    "# IST 652 \n",
    "# Lab 3 "
   ]
  },
  {
   "cell_type": "code",
   "execution_count": 2,
   "id": "b94980a9",
   "metadata": {},
   "outputs": [
    {
     "name": "stdout",
     "output_type": "stream",
     "text": [
      "-336\n",
      "5040\n",
      "-3840\n",
      "720\n"
     ]
    }
   ],
   "source": [
    "# problem 1 \n",
    "def multiply(List) :\n",
    "     \n",
    "    result = 1\n",
    "    for x in List:\n",
    "         result = result * x\n",
    "    return result\n",
    "     \n",
    "# Create Different Lists \n",
    "list1 = [8, 2, 3, -1, 7]\n",
    "list2 = [3, 2, 4, 5, 6, 7]\n",
    "list3 = [6, 8, -2, 4, 1, 10]\n",
    "list4 = [1, 2, 3, 4, 5, 6]\n",
    "# Print the output of each list \n",
    "print(multiply(list1))\n",
    "print(multiply(list2))\n",
    "print(multiply(list3))\n",
    "print(multiply(list4))"
   ]
  },
  {
   "cell_type": "code",
   "execution_count": 3,
   "id": "7255888d",
   "metadata": {},
   "outputs": [
    {
     "name": "stdout",
     "output_type": "stream",
     "text": [
      "Original String :  The quick Brown Fox\n",
      "Number. of Upper case characters :  3\n",
      "Number of Lower case Characters :  13\n",
      "Original String :  The Fastest Turtle Ever\n",
      "Number. of Upper case characters :  4\n",
      "Number of Lower case Characters :  16\n",
      "Original String :  The worlds best friends\n",
      "Number. of Upper case characters :  1\n",
      "Number of Lower case Characters :  19\n"
     ]
    }
   ],
   "source": [
    "# Problem 2 \n",
    "def string_test(s):\n",
    "    d={\"UPPER_CASE\":0, \"LOWER_CASE\":0}\n",
    "    for c in s:\n",
    "        if c.isupper():\n",
    "           d[\"UPPER_CASE\"]+=1\n",
    "        elif c.islower():\n",
    "           d[\"LOWER_CASE\"]+=1\n",
    "        else:\n",
    "           pass\n",
    "    # print the number of upper and lower case letters for each origninal string \n",
    "    print (\"Original String : \", s)\n",
    "    print (\"Number. of Upper case characters : \", d[\"UPPER_CASE\"])\n",
    "    print (\"Number of Lower case Characters : \", d[\"LOWER_CASE\"])\n",
    "# test on these 3 strings \n",
    "string_test('The quick Brown Fox')\n",
    "string_test('The Fastest Turtle Ever')\n",
    "string_test('The worlds best friends')"
   ]
  },
  {
   "cell_type": "code",
   "execution_count": null,
   "id": "6b396232",
   "metadata": {},
   "outputs": [],
   "source": []
  }
 ],
 "metadata": {
  "kernelspec": {
   "display_name": "Python 3 (ipykernel)",
   "language": "python",
   "name": "python3"
  },
  "language_info": {
   "codemirror_mode": {
    "name": "ipython",
    "version": 3
   },
   "file_extension": ".py",
   "mimetype": "text/x-python",
   "name": "python",
   "nbconvert_exporter": "python",
   "pygments_lexer": "ipython3",
   "version": "3.9.7"
  }
 },
 "nbformat": 4,
 "nbformat_minor": 5
}
