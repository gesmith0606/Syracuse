{
 "cells": [
  {
   "cell_type": "code",
   "execution_count": 3,
   "id": "0e0e9f68",
   "metadata": {},
   "outputs": [],
   "source": [
    "people = {'hugh':49,'kate':35,'lucy':24,'bob':36}"
   ]
  },
  {
   "cell_type": "code",
   "execution_count": 4,
   "id": "b21f3432",
   "metadata": {},
   "outputs": [
    {
     "ename": "TypeError",
     "evalue": "unsupported operand type(s) for +=: 'int' and 'str'",
     "output_type": "error",
     "traceback": [
      "\u001b[0;31m---------------------------------------------------------------------------\u001b[0m",
      "\u001b[0;31mTypeError\u001b[0m                                 Traceback (most recent call last)",
      "\u001b[0;32m/var/folders/t6/r78__dnn0sjgvvll0tn49gn80000gn/T/ipykernel_41881/2014131383.py\u001b[0m in \u001b[0;36m<module>\u001b[0;34m\u001b[0m\n\u001b[1;32m      1\u001b[0m \u001b[0mtotal\u001b[0m \u001b[0;34m=\u001b[0m \u001b[0;36m0\u001b[0m\u001b[0;34m\u001b[0m\u001b[0;34m\u001b[0m\u001b[0m\n\u001b[1;32m      2\u001b[0m \u001b[0;32mfor\u001b[0m \u001b[0mkey\u001b[0m \u001b[0;32min\u001b[0m \u001b[0mpeople\u001b[0m\u001b[0;34m:\u001b[0m\u001b[0;34m\u001b[0m\u001b[0;34m\u001b[0m\u001b[0m\n\u001b[0;32m----> 3\u001b[0;31m      \u001b[0mtotal\u001b[0m \u001b[0;34m+=\u001b[0m \u001b[0mkey\u001b[0m\u001b[0;34m\u001b[0m\u001b[0;34m\u001b[0m\u001b[0m\n\u001b[0m",
      "\u001b[0;31mTypeError\u001b[0m: unsupported operand type(s) for +=: 'int' and 'str'"
     ]
    }
   ],
   "source": [
    "#q2 \n",
    "total = 0\n",
    "for key in people:\n",
    "     total += key"
   ]
  },
  {
   "cell_type": "code",
   "execution_count": 7,
   "id": "08bb413a",
   "metadata": {},
   "outputs": [
    {
     "data": {
      "text/plain": [
       "144"
      ]
     },
     "execution_count": 7,
     "metadata": {},
     "output_type": "execute_result"
    }
   ],
   "source": [
    "# q2 \n",
    "total = 0\n",
    "for x in people.values():\n",
    "     total += x\n",
    "\n",
    "total"
   ]
  },
  {
   "cell_type": "code",
   "execution_count": 8,
   "id": "823ddb63",
   "metadata": {},
   "outputs": [
    {
     "data": {
      "text/plain": [
       "144"
      ]
     },
     "execution_count": 8,
     "metadata": {},
     "output_type": "execute_result"
    }
   ],
   "source": [
    "#q2\n",
    "otal = sum(people.values())\n",
    "total"
   ]
  },
  {
   "cell_type": "code",
   "execution_count": 11,
   "id": "b2a4932c",
   "metadata": {},
   "outputs": [
    {
     "data": {
      "text/plain": [
       "144"
      ]
     },
     "execution_count": 11,
     "metadata": {},
     "output_type": "execute_result"
    }
   ],
   "source": [
    "#q2\n",
    "total = 0\n",
    "for key in people:\n",
    "     total += people[key]\n",
    "\n",
    "total"
   ]
  },
  {
   "cell_type": "code",
   "execution_count": 12,
   "id": "e27855a7",
   "metadata": {},
   "outputs": [
    {
     "ename": "KeyError",
     "evalue": "'dan'",
     "output_type": "error",
     "traceback": [
      "\u001b[0;31m---------------------------------------------------------------------------\u001b[0m",
      "\u001b[0;31mKeyError\u001b[0m                                  Traceback (most recent call last)",
      "\u001b[0;32m/var/folders/t6/r78__dnn0sjgvvll0tn49gn80000gn/T/ipykernel_41881/1575507088.py\u001b[0m in \u001b[0;36m<module>\u001b[0;34m\u001b[0m\n\u001b[0;32m----> 1\u001b[0;31m \u001b[0mpeople\u001b[0m\u001b[0;34m[\u001b[0m\u001b[0;34m'dan'\u001b[0m\u001b[0;34m]\u001b[0m\u001b[0;34m\u001b[0m\u001b[0;34m\u001b[0m\u001b[0m\n\u001b[0m",
      "\u001b[0;31mKeyError\u001b[0m: 'dan'"
     ]
    }
   ],
   "source": [
    "# Q3 \n",
    "people['dan']"
   ]
  },
  {
   "cell_type": "code",
   "execution_count": 14,
   "id": "ea7c08e2",
   "metadata": {},
   "outputs": [
    {
     "name": "stdout",
     "output_type": "stream",
     "text": [
      "dylan\n"
     ]
    }
   ],
   "source": [
    "#q4 \n",
    "peoplelist = [{'name':'bob','age':28},{'name':'dylan','age':43},{'name':'cat','age':17}]\n",
    "for item in peoplelist:\n",
    "     if item['age']>30:\n",
    "        print(item['name'])"
   ]
  },
  {
   "cell_type": "code",
   "execution_count": 18,
   "id": "af550514",
   "metadata": {},
   "outputs": [],
   "source": [
    "# q5 \n",
    "\n",
    "def mystery(x):\n",
    "     if x > 0:\n",
    "        return -x\n",
    "     else:\n",
    "        return x"
   ]
  },
  {
   "cell_type": "code",
   "execution_count": 21,
   "id": "1bed4f20",
   "metadata": {},
   "outputs": [
    {
     "data": {
      "text/plain": [
       "0"
      ]
     },
     "execution_count": 21,
     "metadata": {},
     "output_type": "execute_result"
    }
   ],
   "source": [
    "mystery(0)"
   ]
  },
  {
   "cell_type": "code",
   "execution_count": 24,
   "id": "5abac2a5",
   "metadata": {},
   "outputs": [],
   "source": [
    "import numpy as np "
   ]
  },
  {
   "cell_type": "code",
   "execution_count": 26,
   "id": "7868ee02",
   "metadata": {},
   "outputs": [
    {
     "name": "stdout",
     "output_type": "stream",
     "text": [
      "[[ 2  4  6  8]\n",
      " [12 14 16 18]\n",
      " [22 24 26 28]]\n"
     ]
    },
    {
     "name": "stderr",
     "output_type": "stream",
     "text": [
      "<>:5: SyntaxWarning: list indices must be integers or slices, not tuple; perhaps you missed a comma?\n",
      "<>:5: SyntaxWarning: list indices must be integers or slices, not tuple; perhaps you missed a comma?\n",
      "/var/folders/t6/r78__dnn0sjgvvll0tn49gn80000gn/T/ipykernel_41881/3814315128.py:5: SyntaxWarning: list indices must be integers or slices, not tuple; perhaps you missed a comma?\n",
      "  [2,4,6,8]\n"
     ]
    },
    {
     "ename": "TypeError",
     "evalue": "list indices must be integers or slices, not tuple",
     "output_type": "error",
     "traceback": [
      "\u001b[0;31m---------------------------------------------------------------------------\u001b[0m",
      "\u001b[0;31mTypeError\u001b[0m                                 Traceback (most recent call last)",
      "\u001b[0;32m/var/folders/t6/r78__dnn0sjgvvll0tn49gn80000gn/T/ipykernel_41881/3814315128.py\u001b[0m in \u001b[0;36m<module>\u001b[0;34m\u001b[0m\n\u001b[1;32m      3\u001b[0m \u001b[0mprint\u001b[0m\u001b[0;34m(\u001b[0m\u001b[0mc\u001b[0m\u001b[0;34m)\u001b[0m\u001b[0;34m\u001b[0m\u001b[0;34m\u001b[0m\u001b[0m\n\u001b[1;32m      4\u001b[0m [\n\u001b[0;32m----> 5\u001b[0;31m \u001b[0;34m[\u001b[0m\u001b[0;36m2\u001b[0m\u001b[0;34m,\u001b[0m\u001b[0;36m4\u001b[0m\u001b[0;34m,\u001b[0m\u001b[0;36m6\u001b[0m\u001b[0;34m,\u001b[0m\u001b[0;36m8\u001b[0m\u001b[0;34m]\u001b[0m\u001b[0;34m\u001b[0m\u001b[0;34m\u001b[0m\u001b[0m\n\u001b[0m\u001b[1;32m      6\u001b[0m \u001b[0;34m[\u001b[0m\u001b[0;36m12\u001b[0m\u001b[0;34m,\u001b[0m\u001b[0;36m14\u001b[0m\u001b[0;34m,\u001b[0m\u001b[0;36m16\u001b[0m\u001b[0;34m,\u001b[0m\u001b[0;36m18\u001b[0m\u001b[0;34m]\u001b[0m\u001b[0;34m\u001b[0m\u001b[0;34m\u001b[0m\u001b[0m\n\u001b[1;32m      7\u001b[0m \u001b[0;34m[\u001b[0m\u001b[0;36m22\u001b[0m\u001b[0;34m,\u001b[0m\u001b[0;36m24\u001b[0m\u001b[0;34m,\u001b[0m\u001b[0;36m26\u001b[0m\u001b[0;34m,\u001b[0m\u001b[0;36m28\u001b[0m\u001b[0;34m]\u001b[0m\u001b[0;34m\u001b[0m\u001b[0;34m\u001b[0m\u001b[0m\n",
      "\u001b[0;31mTypeError\u001b[0m: list indices must be integers or slices, not tuple"
     ]
    }
   ],
   "source": [
    "# q6 \n",
    "c = np.array([[2,4,6,8],[12,14,16,18],[22,24,26,28]])\n",
    "print(c)\n",
    "[\n",
    "[2,4,6,8]\n",
    "[12,14,16,18]\n",
    "[22,24,26,28]\n",
    "]"
   ]
  },
  {
   "cell_type": "code",
   "execution_count": 27,
   "id": "e90ead3b",
   "metadata": {},
   "outputs": [
    {
     "data": {
      "text/plain": [
       "(3, 4)"
      ]
     },
     "execution_count": 27,
     "metadata": {},
     "output_type": "execute_result"
    }
   ],
   "source": [
    "c.shape"
   ]
  },
  {
   "cell_type": "code",
   "execution_count": 28,
   "id": "602585b6",
   "metadata": {},
   "outputs": [
    {
     "data": {
      "text/plain": [
       "array([12, 14, 16, 18])"
      ]
     },
     "execution_count": 28,
     "metadata": {},
     "output_type": "execute_result"
    }
   ],
   "source": [
    "#Q7 \n",
    "c[1,:]"
   ]
  },
  {
   "cell_type": "code",
   "execution_count": 29,
   "id": "839c1395",
   "metadata": {},
   "outputs": [],
   "source": [
    "# q8 \n",
    "d = np.array([6,16,26])"
   ]
  },
  {
   "cell_type": "code",
   "execution_count": 30,
   "id": "727648fe",
   "metadata": {},
   "outputs": [],
   "source": [
    "d[d>10]=0"
   ]
  },
  {
   "cell_type": "code",
   "execution_count": 31,
   "id": "361b566b",
   "metadata": {},
   "outputs": [
    {
     "data": {
      "text/plain": [
       "array([6, 0, 0])"
      ]
     },
     "execution_count": 31,
     "metadata": {},
     "output_type": "execute_result"
    }
   ],
   "source": [
    "d"
   ]
  },
  {
   "cell_type": "code",
   "execution_count": 33,
   "id": "2b823f9d",
   "metadata": {},
   "outputs": [],
   "source": [
    "from datetime import datetime"
   ]
  },
  {
   "cell_type": "code",
   "execution_count": 34,
   "id": "59f1eabc",
   "metadata": {},
   "outputs": [],
   "source": [
    "# q9 \n",
    "D1 = datetime(2017,2,22,9,30)\n",
    "D2 = datetime(2017,2,23,10,45)"
   ]
  },
  {
   "cell_type": "code",
   "execution_count": 35,
   "id": "0da9023a",
   "metadata": {},
   "outputs": [
    {
     "data": {
      "text/plain": [
       "True"
      ]
     },
     "execution_count": 35,
     "metadata": {},
     "output_type": "execute_result"
    }
   ],
   "source": [
    "D1<D2"
   ]
  },
  {
   "cell_type": "code",
   "execution_count": 36,
   "id": "3f8c5370",
   "metadata": {},
   "outputs": [
    {
     "data": {
      "text/plain": [
       "datetime.timedelta(days=-2, seconds=81900)"
      ]
     },
     "execution_count": 36,
     "metadata": {},
     "output_type": "execute_result"
    }
   ],
   "source": [
    "D1-D2"
   ]
  },
  {
   "cell_type": "code",
   "execution_count": 42,
   "id": "f1b33b38",
   "metadata": {},
   "outputs": [],
   "source": [
    "# Q10 "
   ]
  },
  {
   "cell_type": "code",
   "execution_count": 46,
   "id": "dba7b9f8",
   "metadata": {},
   "outputs": [],
   "source": [
    "# function to reyurn a list of those words whoes frequency is greater than a threshold provided\n",
    "\n",
    "def top_words(word_freq, threshold):\n",
    "\n",
    "    top = []"
   ]
  },
  {
   "cell_type": "code",
   "execution_count": 47,
   "id": "fdb43850",
   "metadata": {},
   "outputs": [
    {
     "ename": "NameError",
     "evalue": "name 'top' is not defined",
     "output_type": "error",
     "traceback": [
      "\u001b[0;31m---------------------------------------------------------------------------\u001b[0m",
      "\u001b[0;31mNameError\u001b[0m                                 Traceback (most recent call last)",
      "\u001b[0;32m/var/folders/t6/r78__dnn0sjgvvll0tn49gn80000gn/T/ipykernel_41881/479520209.py\u001b[0m in \u001b[0;36m<module>\u001b[0;34m\u001b[0m\n\u001b[1;32m      9\u001b[0m         \u001b[0;31m# if so the add key to list\u001b[0m\u001b[0;34m\u001b[0m\u001b[0;34m\u001b[0m\u001b[0m\n\u001b[1;32m     10\u001b[0m \u001b[0;34m\u001b[0m\u001b[0m\n\u001b[0;32m---> 11\u001b[0;31m         \u001b[0mtop\u001b[0m\u001b[0;34m.\u001b[0m\u001b[0mappend\u001b[0m\u001b[0;34m(\u001b[0m\u001b[0mkey\u001b[0m\u001b[0;34m)\u001b[0m\u001b[0;34m\u001b[0m\u001b[0;34m\u001b[0m\u001b[0m\n\u001b[0m",
      "\u001b[0;31mNameError\u001b[0m: name 'top' is not defined"
     ]
    }
   ],
   "source": [
    "# reading the dict\n",
    "\n",
    "for key in word_freq.keys():\n",
    "\n",
    "    # checking if the frequenncy is greater than threshold\n",
    "\n",
    "    if word_freq[key] > threshold:\n",
    "\n",
    "        # if so the add key to list\n",
    "\n",
    "        top.append(key)"
   ]
  },
  {
   "cell_type": "code",
   "execution_count": 48,
   "id": "615d230d",
   "metadata": {},
   "outputs": [
    {
     "ename": "SyntaxError",
     "evalue": "'return' outside function (1333253707.py, line 3)",
     "output_type": "error",
     "traceback": [
      "\u001b[0;36m  File \u001b[0;32m\"/var/folders/t6/r78__dnn0sjgvvll0tn49gn80000gn/T/ipykernel_41881/1333253707.py\"\u001b[0;36m, line \u001b[0;32m3\u001b[0m\n\u001b[0;31m    return top\u001b[0m\n\u001b[0m    ^\u001b[0m\n\u001b[0;31mSyntaxError\u001b[0m\u001b[0;31m:\u001b[0m 'return' outside function\n"
     ]
    }
   ],
   "source": [
    "# return the list so formed\n",
    "\n",
    "return top\n",
    "\n",
    "\n",
    "\n",
    "# test calls\n",
    "\n",
    "word_freq = {'the':58, 'people':6, 'beautiful':8, 'cats':13, 'finally':9, 'this': 19, 'class': 21, 'is': 101, 'almost': 1, 'over':4}\n",
    "\n",
    "print(top_words(word_freq, 10))\n",
    "\n",
    "print(top_words(word_freq, 55))\n",
    "\n",
    "print(top_words(word_freq, 100))"
   ]
  },
  {
   "cell_type": "code",
   "execution_count": 149,
   "id": "be05c30e",
   "metadata": {},
   "outputs": [
    {
     "data": {
      "text/html": [
       "<div>\n",
       "<style scoped>\n",
       "    .dataframe tbody tr th:only-of-type {\n",
       "        vertical-align: middle;\n",
       "    }\n",
       "\n",
       "    .dataframe tbody tr th {\n",
       "        vertical-align: top;\n",
       "    }\n",
       "\n",
       "    .dataframe thead th {\n",
       "        text-align: right;\n",
       "    }\n",
       "</style>\n",
       "<table border=\"1\" class=\"dataframe\">\n",
       "  <thead>\n",
       "    <tr style=\"text-align: right;\">\n",
       "      <th></th>\n",
       "      <th>Entity</th>\n",
       "      <th>01.01.89</th>\n",
       "      <th>01.01.90</th>\n",
       "      <th>01.01.91</th>\n",
       "      <th>01.01.92</th>\n",
       "      <th>01.01.93</th>\n",
       "      <th>01.01.94</th>\n",
       "      <th>01.01.95</th>\n",
       "    </tr>\n",
       "  </thead>\n",
       "  <tbody>\n",
       "    <tr>\n",
       "      <th>0</th>\n",
       "      <td>Austria</td>\n",
       "      <td>7602431.0</td>\n",
       "      <td>7660345.0</td>\n",
       "      <td>7790957.0</td>\n",
       "      <td>7860800.0</td>\n",
       "      <td>7909575.0</td>\n",
       "      <td>7943652.0</td>\n",
       "      <td>8054800.0</td>\n",
       "    </tr>\n",
       "    <tr>\n",
       "      <th>1</th>\n",
       "      <td>Belgium</td>\n",
       "      <td>9927600.0</td>\n",
       "      <td>9947800.0</td>\n",
       "      <td>9987000.0</td>\n",
       "      <td>10068319.0</td>\n",
       "      <td>10100631.0</td>\n",
       "      <td>10130574.0</td>\n",
       "      <td>10143047.0</td>\n",
       "    </tr>\n",
       "    <tr>\n",
       "      <th>2</th>\n",
       "      <td>Denmark</td>\n",
       "      <td>5129800.0</td>\n",
       "      <td>5135400.0</td>\n",
       "      <td>5146500.0</td>\n",
       "      <td>5162100.0</td>\n",
       "      <td>5180614.0</td>\n",
       "      <td>5191000.0</td>\n",
       "      <td>5251027.0</td>\n",
       "    </tr>\n",
       "    <tr>\n",
       "      <th>3</th>\n",
       "      <td>Finland</td>\n",
       "      <td>4954359.0</td>\n",
       "      <td>4974383.0</td>\n",
       "      <td>4998478.0</td>\n",
       "      <td>5029300.0</td>\n",
       "      <td>5054982.0</td>\n",
       "      <td>5098754.0</td>\n",
       "      <td>5116800.0</td>\n",
       "    </tr>\n",
       "    <tr>\n",
       "      <th>4</th>\n",
       "      <td>France</td>\n",
       "      <td>56269800.0</td>\n",
       "      <td>NaN</td>\n",
       "      <td>56893000.0</td>\n",
       "      <td>57217500.0</td>\n",
       "      <td>57529577.0</td>\n",
       "      <td>57847000.0</td>\n",
       "      <td>58265400.0</td>\n",
       "    </tr>\n",
       "    <tr>\n",
       "      <th>5</th>\n",
       "      <td>Germany</td>\n",
       "      <td>61715000.0</td>\n",
       "      <td>62678000.0</td>\n",
       "      <td>79753000.0</td>\n",
       "      <td>80238000.0</td>\n",
       "      <td>81338000.0</td>\n",
       "      <td>81353000.0</td>\n",
       "      <td>81845000.0</td>\n",
       "    </tr>\n",
       "    <tr>\n",
       "      <th>6</th>\n",
       "      <td>Iceland</td>\n",
       "      <td>253500.0</td>\n",
       "      <td>255708.0</td>\n",
       "      <td>259577.0</td>\n",
       "      <td>262193.0</td>\n",
       "      <td>264922.0</td>\n",
       "      <td>266783.0</td>\n",
       "      <td>267806.0</td>\n",
       "    </tr>\n",
       "    <tr>\n",
       "      <th>7</th>\n",
       "      <td>Ireland</td>\n",
       "      <td>3526600.0</td>\n",
       "      <td>3505500.0</td>\n",
       "      <td>3519000.0</td>\n",
       "      <td>3542000.0</td>\n",
       "      <td>3559985.0</td>\n",
       "      <td>3570700.0</td>\n",
       "      <td>3591200.0</td>\n",
       "    </tr>\n",
       "    <tr>\n",
       "      <th>8</th>\n",
       "      <td>Italy</td>\n",
       "      <td>57504700.0</td>\n",
       "      <td>57576400.0</td>\n",
       "      <td>57746200.0</td>\n",
       "      <td>57788200.0</td>\n",
       "      <td>57114161.0</td>\n",
       "      <td>57201800.0</td>\n",
       "      <td>57268578.0</td>\n",
       "    </tr>\n",
       "    <tr>\n",
       "      <th>9</th>\n",
       "      <td>Luxemburg</td>\n",
       "      <td>374900.0</td>\n",
       "      <td>379300.0</td>\n",
       "      <td>384400.0</td>\n",
       "      <td>389800.0</td>\n",
       "      <td>395200.0</td>\n",
       "      <td>400000.0</td>\n",
       "      <td>412800.0</td>\n",
       "    </tr>\n",
       "    <tr>\n",
       "      <th>10</th>\n",
       "      <td>Netherland</td>\n",
       "      <td>14805240.0</td>\n",
       "      <td>14892574.0</td>\n",
       "      <td>15010445.0</td>\n",
       "      <td>15129200.0</td>\n",
       "      <td>15354000.0</td>\n",
       "      <td>15341553.0</td>\n",
       "      <td>15492800.0</td>\n",
       "    </tr>\n",
       "    <tr>\n",
       "      <th>11</th>\n",
       "      <td>Norway</td>\n",
       "      <td>4226901.0</td>\n",
       "      <td>4241473.0</td>\n",
       "      <td>4261930.0</td>\n",
       "      <td>4273634.0</td>\n",
       "      <td>4324577.0</td>\n",
       "      <td>4348410.0</td>\n",
       "      <td>4370000.0</td>\n",
       "    </tr>\n",
       "    <tr>\n",
       "      <th>12</th>\n",
       "      <td>Portugal</td>\n",
       "      <td>10304700.0</td>\n",
       "      <td>NaN</td>\n",
       "      <td>9858500.0</td>\n",
       "      <td>9846000.0</td>\n",
       "      <td>9987500.0</td>\n",
       "      <td>9776000.0</td>\n",
       "      <td>9920800.0</td>\n",
       "    </tr>\n",
       "    <tr>\n",
       "      <th>13</th>\n",
       "      <td>Spain</td>\n",
       "      <td>38851900.0</td>\n",
       "      <td>38924500.0</td>\n",
       "      <td>38993800.0</td>\n",
       "      <td>39055900.0</td>\n",
       "      <td>39790955.0</td>\n",
       "      <td>39177400.0</td>\n",
       "      <td>39241900.0</td>\n",
       "    </tr>\n",
       "    <tr>\n",
       "      <th>14</th>\n",
       "      <td>Sweden</td>\n",
       "      <td>8458890.0</td>\n",
       "      <td>8527040.0</td>\n",
       "      <td>8590630.0</td>\n",
       "      <td>8644100.0</td>\n",
       "      <td>8700000.0</td>\n",
       "      <td>8749000.0</td>\n",
       "      <td>8837000.0</td>\n",
       "    </tr>\n",
       "    <tr>\n",
       "      <th>15</th>\n",
       "      <td>Switzerland</td>\n",
       "      <td>6619973.0</td>\n",
       "      <td>6673850.0</td>\n",
       "      <td>6750693.0</td>\n",
       "      <td>6831900.0</td>\n",
       "      <td>6871500.0</td>\n",
       "      <td>7021200.0</td>\n",
       "      <td>7060400.0</td>\n",
       "    </tr>\n",
       "    <tr>\n",
       "      <th>16</th>\n",
       "      <td>United Kingdom</td>\n",
       "      <td>57236200.0</td>\n",
       "      <td>57410600.0</td>\n",
       "      <td>57649200.0</td>\n",
       "      <td>58888800.0</td>\n",
       "      <td>58191230.0</td>\n",
       "      <td>58380000.0</td>\n",
       "      <td>58684000.0</td>\n",
       "    </tr>\n",
       "    <tr>\n",
       "      <th>17</th>\n",
       "      <td>NaN</td>\n",
       "      <td>NaN</td>\n",
       "      <td>NaN</td>\n",
       "      <td>NaN</td>\n",
       "      <td>NaN</td>\n",
       "      <td>NaN</td>\n",
       "      <td>NaN</td>\n",
       "      <td>NaN</td>\n",
       "    </tr>\n",
       "    <tr>\n",
       "      <th>18</th>\n",
       "      <td>Total Europe</td>\n",
       "      <td>325665440.0</td>\n",
       "      <td>326962674.0</td>\n",
       "      <td>345061045.0</td>\n",
       "      <td>347604719.0</td>\n",
       "      <td>348887853.0</td>\n",
       "      <td>348540020.0</td>\n",
       "      <td>372599752.0</td>\n",
       "    </tr>\n",
       "    <tr>\n",
       "      <th>19</th>\n",
       "      <td>NaN</td>\n",
       "      <td>NaN</td>\n",
       "      <td>NaN</td>\n",
       "      <td>NaN</td>\n",
       "      <td>NaN</td>\n",
       "      <td>NaN</td>\n",
       "      <td>NaN</td>\n",
       "      <td>NaN</td>\n",
       "    </tr>\n",
       "    <tr>\n",
       "      <th>20</th>\n",
       "      <td>Sources: Eurostat, national agencies</td>\n",
       "      <td>NaN</td>\n",
       "      <td>NaN</td>\n",
       "      <td>NaN</td>\n",
       "      <td>NaN</td>\n",
       "      <td>NaN</td>\n",
       "      <td>NaN</td>\n",
       "      <td>NaN</td>\n",
       "    </tr>\n",
       "  </tbody>\n",
       "</table>\n",
       "</div>"
      ],
      "text/plain": [
       "                                  Entity     01.01.89     01.01.90  \\\n",
       "0                                Austria    7602431.0    7660345.0   \n",
       "1                                Belgium    9927600.0    9947800.0   \n",
       "2                                Denmark    5129800.0    5135400.0   \n",
       "3                                Finland    4954359.0    4974383.0   \n",
       "4                                 France   56269800.0          NaN   \n",
       "5                                Germany   61715000.0   62678000.0   \n",
       "6                                Iceland     253500.0     255708.0   \n",
       "7                                Ireland    3526600.0    3505500.0   \n",
       "8                                  Italy   57504700.0   57576400.0   \n",
       "9                              Luxemburg     374900.0     379300.0   \n",
       "10                            Netherland   14805240.0   14892574.0   \n",
       "11                                Norway    4226901.0    4241473.0   \n",
       "12                              Portugal   10304700.0          NaN   \n",
       "13                                 Spain   38851900.0   38924500.0   \n",
       "14                                Sweden    8458890.0    8527040.0   \n",
       "15                           Switzerland    6619973.0    6673850.0   \n",
       "16                        United Kingdom   57236200.0   57410600.0   \n",
       "17                                   NaN          NaN          NaN   \n",
       "18                          Total Europe  325665440.0  326962674.0   \n",
       "19                                   NaN          NaN          NaN   \n",
       "20  Sources: Eurostat, national agencies          NaN          NaN   \n",
       "\n",
       "       01.01.91     01.01.92     01.01.93     01.01.94     01.01.95  \n",
       "0     7790957.0    7860800.0    7909575.0    7943652.0    8054800.0  \n",
       "1     9987000.0   10068319.0   10100631.0   10130574.0   10143047.0  \n",
       "2     5146500.0    5162100.0    5180614.0    5191000.0    5251027.0  \n",
       "3     4998478.0    5029300.0    5054982.0    5098754.0    5116800.0  \n",
       "4    56893000.0   57217500.0   57529577.0   57847000.0   58265400.0  \n",
       "5    79753000.0   80238000.0   81338000.0   81353000.0   81845000.0  \n",
       "6      259577.0     262193.0     264922.0     266783.0     267806.0  \n",
       "7     3519000.0    3542000.0    3559985.0    3570700.0    3591200.0  \n",
       "8    57746200.0   57788200.0   57114161.0   57201800.0   57268578.0  \n",
       "9      384400.0     389800.0     395200.0     400000.0     412800.0  \n",
       "10   15010445.0   15129200.0   15354000.0   15341553.0   15492800.0  \n",
       "11    4261930.0    4273634.0    4324577.0    4348410.0    4370000.0  \n",
       "12    9858500.0    9846000.0    9987500.0    9776000.0    9920800.0  \n",
       "13   38993800.0   39055900.0   39790955.0   39177400.0   39241900.0  \n",
       "14    8590630.0    8644100.0    8700000.0    8749000.0    8837000.0  \n",
       "15    6750693.0    6831900.0    6871500.0    7021200.0    7060400.0  \n",
       "16   57649200.0   58888800.0   58191230.0   58380000.0   58684000.0  \n",
       "17          NaN          NaN          NaN          NaN          NaN  \n",
       "18  345061045.0  347604719.0  348887853.0  348540020.0  372599752.0  \n",
       "19          NaN          NaN          NaN          NaN          NaN  \n",
       "20          NaN          NaN          NaN          NaN          NaN  "
      ]
     },
     "execution_count": 149,
     "metadata": {},
     "output_type": "execute_result"
    }
   ],
   "source": [
    "# Q11 \n",
    "import pandas as pd \n",
    "import numpy as np \n",
    "\n",
    "# read in data \n",
    "df = pd.read_csv('/Users/georgesmith/Downloads/eur.pop.rev.csv',skiprows=2)\n",
    "df"
   ]
  },
  {
   "cell_type": "code",
   "execution_count": 150,
   "id": "06142808",
   "metadata": {},
   "outputs": [],
   "source": [
    "# rename columns \n",
    "df=df.rename(columns = {' ':'Entity', '01.01.89':'1989', '01.01.90':'1990', '01.01.91':'1991', '01.01.92':'1992', '01.01.93':'1993', '01.01.94':'1994', '01.01.95':'1995' })"
   ]
  },
  {
   "cell_type": "code",
   "execution_count": 151,
   "id": "9df25058",
   "metadata": {},
   "outputs": [
    {
     "data": {
      "text/html": [
       "<div>\n",
       "<style scoped>\n",
       "    .dataframe tbody tr th:only-of-type {\n",
       "        vertical-align: middle;\n",
       "    }\n",
       "\n",
       "    .dataframe tbody tr th {\n",
       "        vertical-align: top;\n",
       "    }\n",
       "\n",
       "    .dataframe thead th {\n",
       "        text-align: right;\n",
       "    }\n",
       "</style>\n",
       "<table border=\"1\" class=\"dataframe\">\n",
       "  <thead>\n",
       "    <tr style=\"text-align: right;\">\n",
       "      <th></th>\n",
       "      <th>Entity</th>\n",
       "      <th>1989</th>\n",
       "      <th>1990</th>\n",
       "      <th>1991</th>\n",
       "      <th>1992</th>\n",
       "      <th>1993</th>\n",
       "      <th>1994</th>\n",
       "      <th>1995</th>\n",
       "    </tr>\n",
       "  </thead>\n",
       "  <tbody>\n",
       "    <tr>\n",
       "      <th>0</th>\n",
       "      <td>Austria</td>\n",
       "      <td>7602431.0</td>\n",
       "      <td>7660345.0</td>\n",
       "      <td>7790957.0</td>\n",
       "      <td>7860800.0</td>\n",
       "      <td>7909575.0</td>\n",
       "      <td>7943652.0</td>\n",
       "      <td>8054800.0</td>\n",
       "    </tr>\n",
       "    <tr>\n",
       "      <th>1</th>\n",
       "      <td>Belgium</td>\n",
       "      <td>9927600.0</td>\n",
       "      <td>9947800.0</td>\n",
       "      <td>9987000.0</td>\n",
       "      <td>10068319.0</td>\n",
       "      <td>10100631.0</td>\n",
       "      <td>10130574.0</td>\n",
       "      <td>10143047.0</td>\n",
       "    </tr>\n",
       "    <tr>\n",
       "      <th>2</th>\n",
       "      <td>Denmark</td>\n",
       "      <td>5129800.0</td>\n",
       "      <td>5135400.0</td>\n",
       "      <td>5146500.0</td>\n",
       "      <td>5162100.0</td>\n",
       "      <td>5180614.0</td>\n",
       "      <td>5191000.0</td>\n",
       "      <td>5251027.0</td>\n",
       "    </tr>\n",
       "    <tr>\n",
       "      <th>3</th>\n",
       "      <td>Finland</td>\n",
       "      <td>4954359.0</td>\n",
       "      <td>4974383.0</td>\n",
       "      <td>4998478.0</td>\n",
       "      <td>5029300.0</td>\n",
       "      <td>5054982.0</td>\n",
       "      <td>5098754.0</td>\n",
       "      <td>5116800.0</td>\n",
       "    </tr>\n",
       "    <tr>\n",
       "      <th>4</th>\n",
       "      <td>France</td>\n",
       "      <td>56269800.0</td>\n",
       "      <td>0.0</td>\n",
       "      <td>56893000.0</td>\n",
       "      <td>57217500.0</td>\n",
       "      <td>57529577.0</td>\n",
       "      <td>57847000.0</td>\n",
       "      <td>58265400.0</td>\n",
       "    </tr>\n",
       "  </tbody>\n",
       "</table>\n",
       "</div>"
      ],
      "text/plain": [
       "    Entity        1989       1990        1991        1992        1993  \\\n",
       "0  Austria   7602431.0  7660345.0   7790957.0   7860800.0   7909575.0   \n",
       "1  Belgium   9927600.0  9947800.0   9987000.0  10068319.0  10100631.0   \n",
       "2  Denmark   5129800.0  5135400.0   5146500.0   5162100.0   5180614.0   \n",
       "3  Finland   4954359.0  4974383.0   4998478.0   5029300.0   5054982.0   \n",
       "4   France  56269800.0        0.0  56893000.0  57217500.0  57529577.0   \n",
       "\n",
       "         1994        1995  \n",
       "0   7943652.0   8054800.0  \n",
       "1  10130574.0  10143047.0  \n",
       "2   5191000.0   5251027.0  \n",
       "3   5098754.0   5116800.0  \n",
       "4  57847000.0  58265400.0  "
      ]
     },
     "execution_count": 151,
     "metadata": {},
     "output_type": "execute_result"
    }
   ],
   "source": [
    "\n",
    "# fills Nas with 0 \n",
    "df =df.fillna(0)\n",
    "df.head()"
   ]
  },
  {
   "cell_type": "code",
   "execution_count": null,
   "id": "2a8a5225",
   "metadata": {},
   "outputs": [],
   "source": []
  },
  {
   "cell_type": "code",
   "execution_count": 154,
   "id": "96b4bfd8",
   "metadata": {},
   "outputs": [
    {
     "name": "stdout",
     "output_type": "stream",
     "text": [
      "\n",
      "Country that has more than 1,000,000 people in 1995 : \n",
      "Austria\n",
      "Belgium\n",
      "Denmark\n",
      "Finland\n",
      "France\n",
      "Germany\n",
      "Ireland\n",
      "Italy\n",
      "Netherland\n",
      "Norway\n",
      "Portugal\n",
      "Spain\n",
      "Sweden\n",
      "Switzerland\n",
      "United Kingdom\n",
      "Total Europe\n"
     ]
    }
   ],
   "source": [
    "# print each country that has more than 1,000,000 people in 1995 \n",
    "print(\"\\nCountry that has more than 1,000,000 people in 1995 : \");\n",
    "\n",
    "for i in range(len(df)) :\n",
    "    if df.loc[i,'1995'] >1000000:\n",
    "        print(df.loc[i,\"Entity\"])"
   ]
  },
  {
   "cell_type": "code",
   "execution_count": 157,
   "id": "0a94eb54",
   "metadata": {},
   "outputs": [
    {
     "name": "stdout",
     "output_type": "stream",
     "text": [
      "\n",
      "The average population in the UK over those seven years : 58062861.428571425\n"
     ]
    }
   ],
   "source": [
    "# Avg population in the UK over those seven years \n",
    "df['Average Population']=df.iloc[:, [1,2,3,4,5,6,7]].mean(axis=1)\n",
    "df.set_index(\"Entity\", inplace = True)\n",
    "average_value=df.loc['United Kingdom']['Average Population']\n",
    "print(\"\\nThe average population in the UK over those seven years : \"+str(average_value))"
   ]
  },
  {
   "cell_type": "code",
   "execution_count": null,
   "id": "1d33e4c6",
   "metadata": {},
   "outputs": [],
   "source": []
  }
 ],
 "metadata": {
  "kernelspec": {
   "display_name": "Python 3 (ipykernel)",
   "language": "python",
   "name": "python3"
  },
  "language_info": {
   "codemirror_mode": {
    "name": "ipython",
    "version": 3
   },
   "file_extension": ".py",
   "mimetype": "text/x-python",
   "name": "python",
   "nbconvert_exporter": "python",
   "pygments_lexer": "ipython3",
   "version": "3.9.7"
  }
 },
 "nbformat": 4,
 "nbformat_minor": 5
}
