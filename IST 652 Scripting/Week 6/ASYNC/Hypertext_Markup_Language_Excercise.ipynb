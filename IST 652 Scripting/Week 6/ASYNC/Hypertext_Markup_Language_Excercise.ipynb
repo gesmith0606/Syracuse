{
 "cells": [
  {
   "cell_type": "code",
   "execution_count": 7,
   "id": "d919fd17",
   "metadata": {},
   "outputs": [],
   "source": [
    "from urllib import request "
   ]
  },
  {
   "cell_type": "code",
   "execution_count": 8,
   "id": "cbd88f03",
   "metadata": {},
   "outputs": [],
   "source": [
    "# call url\n",
    "SB = \"https://nypost.com/2022/02/13/super-bowl-2022-the-posts-experts-make-their-predictions/\""
   ]
  },
  {
   "cell_type": "code",
   "execution_count": 10,
   "id": "6c05e21c",
   "metadata": {},
   "outputs": [],
   "source": [
    "response = request.urlopen(SB)"
   ]
  },
  {
   "cell_type": "code",
   "execution_count": 13,
   "id": "8e9c04e3",
   "metadata": {},
   "outputs": [],
   "source": [
    "html = response.read().decode('utf8')"
   ]
  },
  {
   "cell_type": "code",
   "execution_count": 14,
   "id": "f1218b9c",
   "metadata": {},
   "outputs": [
    {
     "data": {
      "text/plain": [
       "str"
      ]
     },
     "execution_count": 14,
     "metadata": {},
     "output_type": "execute_result"
    }
   ],
   "source": [
    "type(html)"
   ]
  },
  {
   "cell_type": "code",
   "execution_count": 15,
   "id": "b041f68f",
   "metadata": {},
   "outputs": [
    {
     "name": "stdout",
     "output_type": "stream",
     "text": [
      "<!doctype html>\n",
      "<html lang=\"en-US\">\n",
      "\n",
      "<head prefix=\"og: http://ogp.me/ns# fb: http://ogp.me/ns/fb#\">\n",
      "\t<title>Super Bowl 2022: The Post’s experts make their predictions</title>\n",
      "\n",
      "\t<meta http-equiv=\"X-UA-Compatible\" content=\"IE=edge\" />\n",
      "\t<meta charset=\"UTF-8\">\n",
      "\t<script>document.documentElement.classList.remove(\"no-js\");</script>\n",
      "\t<link rel=\"profile\" href=\"https://gmpg.org/xfn/11\">\n",
      "\t\t\t\t<script type=\"application/ld+json\">\n",
      "\t\t\t{\"@context\":\"http:\\/\\/schema.org\",\"publisher\":{\"@type\":\"Organization\",\"name\":\n"
     ]
    }
   ],
   "source": [
    "print(html[:500])"
   ]
  },
  {
   "cell_type": "code",
   "execution_count": null,
   "id": "7d32579b",
   "metadata": {},
   "outputs": [],
   "source": []
  }
 ],
 "metadata": {
  "kernelspec": {
   "display_name": "Python 3 (ipykernel)",
   "language": "python",
   "name": "python3"
  },
  "language_info": {
   "codemirror_mode": {
    "name": "ipython",
    "version": 3
   },
   "file_extension": ".py",
   "mimetype": "text/x-python",
   "name": "python",
   "nbconvert_exporter": "python",
   "pygments_lexer": "ipython3",
   "version": "3.9.7"
  }
 },
 "nbformat": 4,
 "nbformat_minor": 5
}
