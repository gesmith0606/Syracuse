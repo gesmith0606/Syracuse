{
 "cells": [
  {
   "cell_type": "code",
   "execution_count": null,
   "metadata": {},
   "outputs": [],
   "source": [
    "#example xml retrival\n",
    "import urllib.request\n",
    "url=\"http://feeds.arstechnica.com/arstechnica/gaming\"\n",
    "xmlstring=urllib.request.urlopen(url).read().decode('utf8')\n",
    "print(\"The length of the string is:\", (len(xmlstring)))\n"
   ]
  },
  {
   "cell_type": "code",
   "execution_count": null,
   "metadata": {},
   "outputs": [],
   "source": [
    "#Element tree\n",
    "#turn string into stream (for read function to work)\n",
    "\n",
    "import xml.etree.ElementTree as etree\n",
    "import io\n",
    "xmlfile=io.StringIO(xmlstring)\n",
    "tree=etree.parse(xmlfile)\n"
   ]
  },
  {
   "cell_type": "code",
   "execution_count": null,
   "metadata": {},
   "outputs": [],
   "source": [
    "#find all title tags in doc\n",
    "alltitles =tree.findall('.//title')\n",
    "\n",
    "#print the length of the list\n",
    "print(\"Number of titles tagged on the list:\", (len(alltitles)))\n"
   ]
  },
  {
   "cell_type": "code",
   "execution_count": null,
   "metadata": {},
   "outputs": [],
   "source": [
    "#print first 10 title tag entries\n",
    "for title in alltitles[:10]:\n",
    "    print(title.text)"
   ]
  },
  {
   "cell_type": "code",
   "execution_count": null,
   "metadata": {},
   "outputs": [],
   "source": [
    "print(xmlstring)"
   ]
  }
 ],
 "metadata": {
  "kernelspec": {
   "display_name": "Python 3 (ipykernel)",
   "language": "python",
   "name": "python3"
  },
  "language_info": {
   "codemirror_mode": {
    "name": "ipython",
    "version": 3
   },
   "file_extension": ".py",
   "mimetype": "text/x-python",
   "name": "python",
   "nbconvert_exporter": "python",
   "pygments_lexer": "ipython3",
   "version": "3.9.7"
  }
 },
 "nbformat": 4,
 "nbformat_minor": 2
}
