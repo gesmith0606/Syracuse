{
 "cells": [
  {
   "cell_type": "code",
   "execution_count": 1,
   "metadata": {},
   "outputs": [
    {
     "name": "stdout",
     "output_type": "stream",
     "text": [
      "<?xml version=\"1.0\" encoding=\"UTF-8\" ?>\n",
      "<rss version=\"2.0\">\n",
      "\t<channel>\n",
      "\t\t<title>E! Online (US) - Top Stories</title>\n",
      "\t\t<link>https://www.eonline.com/</link>\n",
      "\t\t<category>(US) -  Top Stories</category>\n",
      "\t\t<description>News from across the show-biz spectrum-TV, movies, music and celebrities</description>\n",
      "\t\t<language>en-us</language>\n",
      "\t\t<ttl>10</ttl>\n",
      "\t\t<pubDate>Thu, 17 Feb 2022 23:20:03 GMT</pubDate>\n",
      "\t\t<lastBuildDate>Thu, 17 Feb 2022 23:20:03 GMT</lastBuildDate>\n",
      "\t\t<image>\n",
      "\t\t\t<title>E! Online (US) - Top Stories</title>\n",
      "\t\t\t<width>120</width>\n",
      "\t\t\t<height>60</height>\n",
      "\t\t\t<link>https://www.eonline.com/</link>\n",
      "\t\t\t<url>https://images.eonline.com/eol_images/Entire_Site/2018223/rs_125x40-180323122205-EGoogle\n"
     ]
    }
   ],
   "source": [
    "import urllib.request\n",
    "\n",
    "# Our goal is to retrieve information about current news \n",
    "# stories from the XML document returned from this URL.\n",
    "url = 'http://syndication.eonline.com/syndication/feeds/rssfeeds/topstories.xml'\n",
    "xmlstring = urllib.request.urlopen(url).read().decode('utf8')\n",
    "print(xmlstring[:700])\n"
   ]
  },
  {
   "cell_type": "code",
   "execution_count": 2,
   "metadata": {},
   "outputs": [
    {
     "data": {
      "text/plain": [
       "'rss'"
      ]
     },
     "execution_count": 2,
     "metadata": {},
     "output_type": "execute_result"
    }
   ],
   "source": [
    "import xml.etree.ElementTree as etree\n",
    "import io\n",
    "xmlfile = io.StringIO(xmlstring)\n",
    "tree = etree.parse(xmlfile)\n",
    "root = tree.getroot()\n",
    "root.tag\n"
   ]
  },
  {
   "cell_type": "code",
   "execution_count": 3,
   "metadata": {},
   "outputs": [
    {
     "name": "stdout",
     "output_type": "stream",
     "text": [
      "<Element 'rss' at 0x7febf0040f90>\n"
     ]
    }
   ],
   "source": [
    "print(root)"
   ]
  },
  {
   "cell_type": "code",
   "execution_count": null,
   "metadata": {},
   "outputs": [],
   "source": [
    "root.attrib"
   ]
  },
  {
   "cell_type": "code",
   "execution_count": null,
   "metadata": {},
   "outputs": [],
   "source": [
    "root.text"
   ]
  },
  {
   "cell_type": "code",
   "execution_count": null,
   "metadata": {},
   "outputs": [],
   "source": [
    "firstchild = root[0]\n",
    "type(firstchild)"
   ]
  },
  {
   "cell_type": "code",
   "execution_count": null,
   "metadata": {},
   "outputs": [],
   "source": [
    "firstchild.tag"
   ]
  },
  {
   "cell_type": "code",
   "execution_count": null,
   "metadata": {},
   "outputs": [],
   "source": [
    "firstchild.attrib"
   ]
  },
  {
   "cell_type": "code",
   "execution_count": null,
   "metadata": {},
   "outputs": [],
   "source": [
    "firstchild.text\n",
    "len(firstchild)"
   ]
  },
  {
   "cell_type": "code",
   "execution_count": null,
   "metadata": {},
   "outputs": [],
   "source": [
    "alltitles = tree.findall('.//title')\n",
    "print('number of title tags:',len(alltitles))\n",
    "for title in alltitles:\n",
    "    print(title.text)"
   ]
  },
  {
   "cell_type": "code",
   "execution_count": null,
   "metadata": {},
   "outputs": [],
   "source": []
  }
 ],
 "metadata": {
  "kernelspec": {
   "display_name": "Python 3 (ipykernel)",
   "language": "python",
   "name": "python3"
  },
  "language_info": {
   "codemirror_mode": {
    "name": "ipython",
    "version": 3
   },
   "file_extension": ".py",
   "mimetype": "text/x-python",
   "name": "python",
   "nbconvert_exporter": "python",
   "pygments_lexer": "ipython3",
   "version": "3.9.7"
  }
 },
 "nbformat": 4,
 "nbformat_minor": 2
}
