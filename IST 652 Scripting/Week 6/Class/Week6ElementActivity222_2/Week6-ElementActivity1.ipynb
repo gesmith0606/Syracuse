{
 "cells": [
  {
   "cell_type": "code",
   "execution_count": 1,
   "metadata": {},
   "outputs": [
    {
     "name": "stdout",
     "output_type": "stream",
     "text": [
      "<?xml version=\"1.0\" encoding=\"UTF-8\" ?>\n",
      "<rss version=\"2.0\">\n",
      "\t<channel>\n",
      "\t\t<title>E! Online (US) - Top Stories</title>\n",
      "\t\t<link>https://www.eonline.com/</link>\n",
      "\t\t<category>(US) -  Top Stories</category>\n",
      "\t\t<description>News from across the show-biz spectrum-TV, movies, music and celebrities</description>\n",
      "\t\t<language>en-us</language>\n",
      "\t\t<ttl>10</ttl>\n",
      "\t\t<pubDate>Thu, 17 Feb 2022 23:20:03 GMT</pubDate>\n",
      "\t\t<lastBuildDate>Thu, 17 Feb 2022 23:20:03 GMT</lastBuildDate>\n",
      "\t\t<image>\n",
      "\t\t\t<title>E! Online (US) - Top Stories</title>\n",
      "\t\t\t<width>120</width>\n",
      "\t\t\t<height>60</height>\n",
      "\t\t\t<link>https://www.eonline.com/</link>\n",
      "\t\t\t<url>https://images.eonline.com/eol_images/Entire_Site/2018223/rs_125x40-180323122205-EGoogle\n"
     ]
    }
   ],
   "source": [
    "import urllib.request\n",
    "\n",
    "# Our goal is to retrieve information about current news \n",
    "# stories from the XML document returned from this URL.\n",
    "url = 'http://syndication.eonline.com/syndication/feeds/rssfeeds/topstories.xml'\n",
    "xmlstring = urllib.request.urlopen(url).read().decode('utf8')\n",
    "print(xmlstring[:700])\n"
   ]
  },
  {
   "cell_type": "code",
   "execution_count": 2,
   "metadata": {},
   "outputs": [
    {
     "data": {
      "text/plain": [
       "'rss'"
      ]
     },
     "execution_count": 2,
     "metadata": {},
     "output_type": "execute_result"
    }
   ],
   "source": [
    "import xml.etree.ElementTree as etree\n",
    "import io\n",
    "xmlfile = io.StringIO(xmlstring)\n",
    "tree = etree.parse(xmlfile)\n",
    "root = tree.getroot()\n",
    "root.tag\n"
   ]
  },
  {
   "cell_type": "code",
   "execution_count": 3,
   "metadata": {},
   "outputs": [
    {
     "name": "stdout",
     "output_type": "stream",
     "text": [
      "<Element 'rss' at 0x7febf0040f90>\n"
     ]
    }
   ],
   "source": [
    "print(root)"
   ]
  },
  {
   "cell_type": "code",
   "execution_count": 4,
   "metadata": {},
   "outputs": [
    {
     "data": {
      "text/plain": [
       "{'version': '2.0'}"
      ]
     },
     "execution_count": 4,
     "metadata": {},
     "output_type": "execute_result"
    }
   ],
   "source": [
    "root.attrib"
   ]
  },
  {
   "cell_type": "code",
   "execution_count": 5,
   "metadata": {},
   "outputs": [
    {
     "data": {
      "text/plain": [
       "'\\n\\t'"
      ]
     },
     "execution_count": 5,
     "metadata": {},
     "output_type": "execute_result"
    }
   ],
   "source": [
    "root.text"
   ]
  },
  {
   "cell_type": "code",
   "execution_count": 6,
   "metadata": {},
   "outputs": [
    {
     "data": {
      "text/plain": [
       "xml.etree.ElementTree.Element"
      ]
     },
     "execution_count": 6,
     "metadata": {},
     "output_type": "execute_result"
    }
   ],
   "source": [
    "firstchild = root[0]\n",
    "type(firstchild)"
   ]
  },
  {
   "cell_type": "code",
   "execution_count": 7,
   "metadata": {},
   "outputs": [
    {
     "data": {
      "text/plain": [
       "'channel'"
      ]
     },
     "execution_count": 7,
     "metadata": {},
     "output_type": "execute_result"
    }
   ],
   "source": [
    "firstchild.tag"
   ]
  },
  {
   "cell_type": "code",
   "execution_count": 8,
   "metadata": {},
   "outputs": [
    {
     "data": {
      "text/plain": [
       "{}"
      ]
     },
     "execution_count": 8,
     "metadata": {},
     "output_type": "execute_result"
    }
   ],
   "source": [
    "firstchild.attrib"
   ]
  },
  {
   "cell_type": "code",
   "execution_count": 9,
   "metadata": {},
   "outputs": [
    {
     "data": {
      "text/plain": [
       "30"
      ]
     },
     "execution_count": 9,
     "metadata": {},
     "output_type": "execute_result"
    }
   ],
   "source": [
    "firstchild.text\n",
    "len(firstchild)"
   ]
  },
  {
   "cell_type": "code",
   "execution_count": 10,
   "metadata": {},
   "outputs": [
    {
     "name": "stdout",
     "output_type": "stream",
     "text": [
      "number of title tags: 22\n",
      "E! Online (US) - Top Stories\n",
      "E! Online (US) - Top Stories\n",
      "What the Heck Is Slugging? Here's Everything You Need to Know About The Viral K-Beauty Skincare Trend\n",
      "Can You Really Wash Your Hair Only Once A Week?\n",
      "How Mark Wahlberg Really Feels About Daughter Ella's Boyfriend\n",
      "Did Lily James Just Go Instagram Official With Michael Shuman? See Her New Photo\n",
      "Heather Rae Young & Tarek El Moussa Reveal They're This Much Closer to Getting Pregnant\n",
      "Petite Style Guide: The Brands E! Shopping Editors Swear By\n",
      "Kristen Stewart's Reaction to Prince Harry and Meghan Markle's California Move Is Royally Fascinating\n",
      "Matthew Stafford's Wife Kelly Rushes to Help Woman Who Fell From Stage at Rams Celebration\n",
      "See New and Returning Stars Come Together in First Law & Order Season 21 Trailer\n",
      "Jake Gyllenhaal Shares Rare Insight Into \"Wonderful\" Relationship With Jeanne Cadieu\n",
      "Proud Family: Louder and Prouder Cast Teases Diverse and Inclusive Disney+ Reboot\n",
      "Your Ultimate Guide to the Best Liquid Lipsticks at Every Price Point & Finish\n",
      "Kendall Jenner's 818 Tequila Company Responds to Lawsuit Filed By Competitor Tequila 512\n",
      "Meet Joe Goldberg's You Season 4 Nemesis\n",
      "Kris Jenner Reveals Which Family Member Kylie and Travis Scott's Baby Boy Wolf Looks Like\n",
      "Julia Fox Is a Gem for Her Response to That Viral TikTok Trend\n",
      "Prepare to Be All Shook Up By Austin Butler's Elvis Transformation\n",
      "Kim Kardashian's Birthday Tribute to Paris Hilton Is So 2000s\n",
      "Stranger Things Season 4 Finally Gets a Premiere Date: Here's What We Know\n",
      "Adriana de Moura Calls Larsa Pippen \"Kim Kardashian's Minion\" as RHOM Feud Wages On\n"
     ]
    }
   ],
   "source": [
    "alltitles = tree.findall('.//title')\n",
    "print('number of title tags:',len(alltitles))\n",
    "for title in alltitles:\n",
    "    print(title.text)"
   ]
  },
  {
   "cell_type": "code",
   "execution_count": null,
   "metadata": {},
   "outputs": [],
   "source": []
  }
 ],
 "metadata": {
  "kernelspec": {
   "display_name": "Python 3 (ipykernel)",
   "language": "python",
   "name": "python3"
  },
  "language_info": {
   "codemirror_mode": {
    "name": "ipython",
    "version": 3
   },
   "file_extension": ".py",
   "mimetype": "text/x-python",
   "name": "python",
   "nbconvert_exporter": "python",
   "pygments_lexer": "ipython3",
   "version": "3.9.7"
  }
 },
 "nbformat": 4,
 "nbformat_minor": 2
}
