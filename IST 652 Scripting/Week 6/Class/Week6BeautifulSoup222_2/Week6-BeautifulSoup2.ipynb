{
 "cells": [
  {
   "cell_type": "code",
   "execution_count": null,
   "metadata": {},
   "outputs": [],
   "source": [
    "'''\n",
    "Beautiful Soup Activity\n",
    "\n",
    "\n",
    "Download Week6-BSActivity.zip and extract the three programs\n",
    "    Week6-BeautifulSoup1.ipynb  for use by Group1\n",
    "    Week6-BeautifulSoup2.ipynb  for use by Group2\n",
    "    Week6-BeautifulSoup3.ipynb  for use by Group3\n",
    "    \n",
    "Review of the snipets of code and make sure you understand what is happening.  Then try to find a few urls on your own and \n",
    "try to pull in the url and extract some data using Beautiful Soup\n",
    "\n",
    "Cheat sheets for beautiful soup:\n",
    "\n",
    "http://akul.me/blog/2016/beautifulsoup-cheatsheet/\n",
    "https://gist.github.com/yoki/b7f2fcef64c893e307c4c59303ead19a\n",
    "https://www.jasonjson.com/archivers/beautiful-soup-cheat-sheet.html\n",
    "https://www.crummy.com/software/BeautifulSoup/bs4/doc/  - Beautiful Soup Documentation\n",
    "\n",
    "\n",
    "'''"
   ]
  },
  {
   "cell_type": "code",
   "execution_count": null,
   "metadata": {},
   "outputs": [],
   "source": [
    "from urllib import request\n",
    "snapchaturl = \"https://www.gameinformer.com/legacyreviews\"\n",
    "response = request.urlopen(snapchaturl)\n",
    "print(type(response))\n",
    "html = response.read().decode('utf8')\n",
    "type(html)\n"
   ]
  },
  {
   "cell_type": "code",
   "execution_count": null,
   "metadata": {},
   "outputs": [],
   "source": [
    "from bs4 import BeautifulSoup\n",
    "htmlsoup = BeautifulSoup(html, 'html.parser')\n",
    "type(htmlsoup)"
   ]
  },
  {
   "cell_type": "code",
   "execution_count": null,
   "metadata": {},
   "outputs": [],
   "source": [
    "print(htmlsoup)"
   ]
  },
  {
   "cell_type": "code",
   "execution_count": null,
   "metadata": {},
   "outputs": [],
   "source": [
    "print(htmlsoup.prettify())"
   ]
  },
  {
   "cell_type": "code",
   "execution_count": null,
   "metadata": {},
   "outputs": [],
   "source": [
    "anchors = htmlsoup.find_all('a')\n",
    "type(anchors)"
   ]
  },
  {
   "cell_type": "code",
   "execution_count": null,
   "metadata": {},
   "outputs": [],
   "source": [
    "len(anchors)"
   ]
  },
  {
   "cell_type": "code",
   "execution_count": null,
   "metadata": {},
   "outputs": [],
   "source": [
    "print(anchors[:10])"
   ]
  },
  {
   "cell_type": "code",
   "execution_count": null,
   "metadata": {},
   "outputs": [],
   "source": [
    "for a in htmlsoup.find_all('a'):\n",
    " print(a.text)"
   ]
  },
  {
   "cell_type": "code",
   "execution_count": null,
   "metadata": {},
   "outputs": [],
   "source": [
    "for a in anchors:\n",
    " print(a.text)"
   ]
  },
  {
   "cell_type": "code",
   "execution_count": null,
   "metadata": {},
   "outputs": [],
   "source": [
    "import requests\n",
    "from bs4 import BeautifulSoup\n",
    "  \n",
    "URL = \"http://www.values.com/inspirational-quotes\"\n",
    "r = requests.get(URL)\n",
    "  \n",
    "soup = BeautifulSoup(r.content, 'html5lib') # If this line causes an error, run 'pip install html5lib' or install html5lib\n",
    "print(soup.prettify())"
   ]
  },
  {
   "cell_type": "code",
   "execution_count": null,
   "metadata": {},
   "outputs": [],
   "source": [
    "quotes=[]  # a list to store quotes\n",
    "   \n",
    "table = soup.find('div', attrs = {'id':'all_quotes'}) \n",
    "   \n",
    "for row in table.findAll('div',\n",
    "                         attrs = {'class':'col-6 col-lg-3 text-center margin-30px-bottom sm-margin-30px-top'}):\n",
    "    quote = {}\n",
    "    quote['theme'] = row.h5.text\n",
    "    quote['url'] = row.a['href']\n",
    "    quote['img'] = row.img['src']\n",
    "    quote['lines'] = row.img['alt'].split(\" #\")[0]\n",
    "    quote['author'] = row.img['alt'].split(\" #\")[1]\n",
    "    quotes.append(quote)\n",
    "    print(quote['theme'],quote['lines'])"
   ]
  },
  {
   "cell_type": "code",
   "execution_count": null,
   "metadata": {},
   "outputs": [],
   "source": [
    "#Python program to scrape website \n",
    "#and save quotes from website\n",
    "import requests\n",
    "from bs4 import BeautifulSoup\n",
    "import csv\n",
    "   \n",
    "URL = \"http://www.values.com/inspirational-quotes\"\n",
    "r = requests.get(URL)\n",
    "   \n",
    "soup = BeautifulSoup(r.content, 'html5lib')\n",
    "   \n",
    "quotes=[]  # a list to store quotes\n",
    "   \n",
    "table = soup.find('div', attrs = {'id':'all_quotes'}) \n",
    "   \n",
    "for row in table.findAll('div',\n",
    "                         attrs = {'class':'col-6 col-lg-3 text-center margin-30px-bottom sm-margin-30px-top'}):\n",
    "    quote = {}\n",
    "    quote['theme'] = row.h5.text\n",
    "    quote['url'] = row.a['href']\n",
    "    quote['img'] = row.img['src']\n",
    "    quote['lines'] = row.img['alt'].split(\" #\")[0]\n",
    "    quote['author'] = row.img['alt'].split(\" #\")[1]\n",
    "    quotes.append(quote)\n",
    "   \n",
    "filename = 'inspirational_quotes.csv'\n",
    "with open(filename, 'w', newline='') as f:\n",
    "    w = csv.DictWriter(f,['theme','url','img','lines','author'])\n",
    "    w.writeheader()\n",
    "    for quote in quotes:\n",
    "        w.writerow(quote)"
   ]
  },
  {
   "cell_type": "code",
   "execution_count": null,
   "metadata": {},
   "outputs": [],
   "source": [
    "#Now try to extract data from a site of your choosing"
   ]
  }
 ],
 "metadata": {
  "kernelspec": {
   "display_name": "Python 3 (ipykernel)",
   "language": "python",
   "name": "python3"
  },
  "language_info": {
   "codemirror_mode": {
    "name": "ipython",
    "version": 3
   },
   "file_extension": ".py",
   "mimetype": "text/x-python",
   "name": "python",
   "nbconvert_exporter": "python",
   "pygments_lexer": "ipython3",
   "version": "3.9.7"
  }
 },
 "nbformat": 4,
 "nbformat_minor": 4
}
