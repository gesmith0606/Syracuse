{
 "cells": [
  {
   "cell_type": "code",
   "execution_count": 18,
   "id": "5c877243",
   "metadata": {},
   "outputs": [],
   "source": [
    "import pymongo\n",
    "import json\n",
    "from bson.json_util import dumps"
   ]
  },
  {
   "cell_type": "code",
   "execution_count": 19,
   "id": "ceae9d37",
   "metadata": {},
   "outputs": [],
   "source": [
    "def save_to_DB (DBname, DBcollection, data):\n",
    "    # connect to database server and just let connection errors fail the program\n",
    "    client = pymongo.MongoClient('localhost', 27017)\n",
    "    # save the results in a database collection\n",
    "    #   change names to lowercase because they are not case sensitive\n",
    "    #   and remove special characters like hashtags and spaces (other special characters may also be forbidden)\n",
    "    DBname = DBname.lower()\n",
    "    DBname = DBname.replace('#', '')\n",
    "    DBname = DBname.replace(' ', '')\n",
    "    DBcollection = DBcollection.lower()\n",
    "    DBcollection = DBcollection.replace('#', '')\n",
    "    DBcollection = DBcollection.replace(' ', '')\n",
    "        # use the DBname and collection, which will create if not existing\n",
    "    db = client[DBname]\n",
    "    collection = db[DBcollection]   \n",
    "        \n",
    "    # add the data to the database\n",
    "    collection.insert_many(data)\n",
    "    print(\"Saved\", len(data), \"documents to DB collection\", DBname, DBcollection)"
   ]
  },
  {
   "cell_type": "code",
   "execution_count": 20,
   "id": "469be47b",
   "metadata": {},
   "outputs": [],
   "source": [
    "# This function gets data from an existing DB and collection\n",
    "# Parameters:  \n",
    "#   DBname and DBcollection- the name of the database and collection, either new or existing\n",
    "# Result:\n",
    "#   data - returns all the data in the collection as a list of JSON objects\n",
    "\n",
    "def load_from_DB (DBname, DBcollection):\n",
    "    # connect to database server and just let connection errors fail the program\n",
    "    client = pymongo.MongoClient('localhost', 27017)\n",
    "    # use the DBname and collection, which will create if not existing\n",
    "    db = client[DBname]\n",
    "    collection = db[DBcollection]    \n",
    "        \n",
    "    # get all the data from the collection as a cursor\n",
    "    docs = collection.find()\n",
    "    #  convert the cursor to a list\n",
    "    docs_bson = list(docs)\n",
    "    docs_json_str = [dumps(doc) for doc in docs_bson]\n",
    "    docs_json = [json.loads(doc) for doc in docs_json_str]\n",
    "    return docs_json"
   ]
  },
  {
   "cell_type": "code",
   "execution_count": null,
   "id": "9700555f",
   "metadata": {},
   "outputs": [],
   "source": []
  }
 ],
 "metadata": {
  "kernelspec": {
   "display_name": "Python 3 (ipykernel)",
   "language": "python",
   "name": "python3"
  },
  "language_info": {
   "codemirror_mode": {
    "name": "ipython",
    "version": 3
   },
   "file_extension": ".py",
   "mimetype": "text/x-python",
   "name": "python",
   "nbconvert_exporter": "python",
   "pygments_lexer": "ipython3",
   "version": "3.9.7"
  }
 },
 "nbformat": 4,
 "nbformat_minor": 5
}
