{
 "cells": [
  {
   "cell_type": "code",
   "execution_count": 1,
   "metadata": {},
   "outputs": [
    {
     "name": "stdout",
     "output_type": "stream",
     "text": [
      "File two __name__ is set to: file_twoa\n",
      "File two executed when imported\n",
      "File one __name__ is set to: __main__\n",
      "File one executed when ran directly\n",
      "Function two is executed\n",
      "Function three is executed\n"
     ]
    }
   ],
   "source": [
    "# Python module to execute\n",
    "import file_twoa   # this must be a .py file in order to import the module\n",
    "\n",
    "print(\"File one __name__ is set to: {}\" .format(__name__))\n",
    "\n",
    "def function_one():\n",
    "   print(\"Function one is executed\")\n",
    "\n",
    "def function_two():\n",
    "   print(\"Function two is executed\")\n",
    "\n",
    "if __name__ == \"__main__\":\n",
    "   print(\"File one executed when ran directly\")\n",
    "   function_two()\n",
    "   file_twoa.function_three() \n",
    "else:\n",
    "   print(\"File one executed when imported\")"
   ]
  },
  {
   "cell_type": "code",
   "execution_count": null,
   "metadata": {},
   "outputs": [],
   "source": [
    "# Python module to import - Saved as twoa.py\n",
    "\n",
    "print(\"File two __name__ is set to: {}\" .format(__name__))\n",
    "\n",
    "def function_three():\n",
    "   print(\"Function three is executed\")\n",
    "\n",
    "if __name__ == \"__main__\":\n",
    "   print(\"File two executed when ran directly\")\n",
    "else:\n",
    "   print(\"File two executed when imported\")"
   ]
  },
  {
   "cell_type": "code",
   "execution_count": null,
   "metadata": {},
   "outputs": [],
   "source": []
  }
 ],
 "metadata": {
  "kernelspec": {
   "display_name": "Python 3",
   "language": "python",
   "name": "python3"
  },
  "language_info": {
   "codemirror_mode": {
    "name": "ipython",
    "version": 3
   },
   "file_extension": ".py",
   "mimetype": "text/x-python",
   "name": "python",
   "nbconvert_exporter": "python",
   "pygments_lexer": "ipython3",
   "version": "3.6.10"
  }
 },
 "nbformat": 4,
 "nbformat_minor": 4
}
