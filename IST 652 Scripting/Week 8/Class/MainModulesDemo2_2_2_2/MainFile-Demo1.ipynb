{
 "cells": [
  {
   "cell_type": "code",
   "execution_count": 1,
   "metadata": {},
   "outputs": [
    {
     "name": "stdout",
     "output_type": "stream",
     "text": [
      "File one __name__ is set to: __main__\n"
     ]
    }
   ],
   "source": [
    "# Python file one module\n",
    "\n",
    "\n",
    "print(\"File one __name__ is set to: {}\" .format(__name__))"
   ]
  },
  {
   "cell_type": "code",
   "execution_count": 2,
   "metadata": {},
   "outputs": [
    {
     "name": "stdout",
     "output_type": "stream",
     "text": [
      "File two __name__ is set to: __main__\n"
     ]
    }
   ],
   "source": [
    "# Python module to import\n",
    "# File two\n",
    "print(\"File two __name__ is set to: {}\" .format(__name__))"
   ]
  },
  {
   "cell_type": "code",
   "execution_count": 3,
   "metadata": {},
   "outputs": [
    {
     "name": "stdout",
     "output_type": "stream",
     "text": [
      "File two __name__ is set to: file_two\n",
      "File two executed when imported\n",
      "File one __name__ is set to: __main__\n"
     ]
    }
   ],
   "source": [
    "# Python file one module\n",
    "import file_two\n",
    "\n",
    "print(\"File one __name__ is set to: {}\" .format(__name__))"
   ]
  },
  {
   "cell_type": "code",
   "execution_count": 5,
   "metadata": {},
   "outputs": [
    {
     "name": "stdout",
     "output_type": "stream",
     "text": [
      "File two __name__ is set to: file_twoa\n",
      "File two executed when imported\n",
      "File one __name__ is set to: __main__\n",
      "File one executed when run directly\n"
     ]
    }
   ],
   "source": [
    "# Python module to execute\n",
    "import file_twoa\n",
    "\n",
    "print(\"File one __name__ is set to: {}\" .format(__name__))\n",
    "\n",
    "if __name__ == \"__main__\":\n",
    "   print(\"File one executed when run directly\")\n",
    "else:\n",
    "   print(\"File one executed when imported\")\n"
   ]
  },
  {
   "cell_type": "code",
   "execution_count": null,
   "metadata": {},
   "outputs": [],
   "source": []
  }
 ],
 "metadata": {
  "kernelspec": {
   "display_name": "Python 3",
   "language": "python",
   "name": "python3"
  },
  "language_info": {
   "codemirror_mode": {
    "name": "ipython",
    "version": 3
   },
   "file_extension": ".py",
   "mimetype": "text/x-python",
   "name": "python",
   "nbconvert_exporter": "python",
   "pygments_lexer": "ipython3",
   "version": "3.6.10"
  }
 },
 "nbformat": 4,
 "nbformat_minor": 4
}
