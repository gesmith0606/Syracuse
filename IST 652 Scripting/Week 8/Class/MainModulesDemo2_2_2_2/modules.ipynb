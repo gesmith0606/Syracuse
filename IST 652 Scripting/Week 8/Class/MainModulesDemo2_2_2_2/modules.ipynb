{
 "cells": [
  {
   "cell_type": "code",
   "execution_count": 1,
   "metadata": {},
   "outputs": [],
   "source": [
    "#modtst.py\n",
    "\n",
    "s = \"If Comrade Napoleon says it, it must be right.\"\n",
    "a = [100, 200, 300]\n",
    "\n",
    "def foo(arg):\n",
    "    print(f'arg = {arg}')\n",
    "\n",
    "class Foo:\n",
    "    pass"
   ]
  },
  {
   "cell_type": "code",
   "execution_count": 2,
   "metadata": {},
   "outputs": [
    {
     "name": "stdout",
     "output_type": "stream",
     "text": [
      "If Comrade Napoleon says it, it must be right.\n",
      "[100, 200, 300]\n",
      "arg = ['quux', 'corge', 'grault']\n"
     ]
    },
    {
     "data": {
      "text/plain": [
       "<modtst.Foo at 0x158f889e550>"
      ]
     },
     "execution_count": 2,
     "metadata": {},
     "output_type": "execute_result"
    }
   ],
   "source": [
    "import modtst  #must be a .py file\n",
    "\n",
    "print(modtst.s)\n",
    "\n",
    "print(modtst.a)\n",
    "\n",
    "modtst.foo(['quux', 'corge', 'grault'])\n",
    "\n",
    "x = modtst.Foo()\n",
    "x\n"
   ]
  },
  {
   "cell_type": "code",
   "execution_count": 3,
   "metadata": {},
   "outputs": [
    {
     "name": "stdout",
     "output_type": "stream",
     "text": [
      "[100, 200, 300]\n",
      "If Comrade Napoleon says it, it must be right.\n",
      "arg = ['rr', 'tt', 'vv']\n"
     ]
    }
   ],
   "source": [
    "from modtst import a, s\n",
    "print(a)\n",
    "print(s)\n",
    "foo(['rr','tt','vv'])"
   ]
  },
  {
   "cell_type": "code",
   "execution_count": 2,
   "metadata": {},
   "outputs": [
    {
     "name": "stdout",
     "output_type": "stream",
     "text": [
      "If Comrade Napoleon says it, it must be right.\n",
      "[100, 200, 300]\n",
      "arg = ['rr', 'tt', 'vv']\n"
     ]
    }
   ],
   "source": [
    "from modtst import *\n",
    "print(s)\n",
    "print(a)\n",
    "foo(['rr','tt','vv'])"
   ]
  },
  {
   "cell_type": "code",
   "execution_count": 5,
   "metadata": {},
   "outputs": [
    {
     "name": "stdout",
     "output_type": "stream",
     "text": [
      "foo\n",
      "If Comrade Napoleon says it, it must be right.\n",
      "['foo', 'bar', 'baz']\n",
      "[100, 200, 300]\n"
     ]
    }
   ],
   "source": [
    "s = 'foo'\n",
    "a = ['foo', 'bar', 'baz']\n",
    "\n",
    "from modtst import s as string, a as alist\n",
    "print(s)\n",
    "\n",
    "print(string)\n",
    "\n",
    "print(a)\n",
    "\n",
    "print(alist)\n"
   ]
  },
  {
   "cell_type": "code",
   "execution_count": 4,
   "metadata": {},
   "outputs": [
    {
     "name": "stdout",
     "output_type": "stream",
     "text": [
      "arg = corge\n"
     ]
    }
   ],
   "source": [
    "def bar():\n",
    "    from modtst import foo\n",
    "    foo('corge')\n",
    "\n",
    "\n",
    "bar()\n"
   ]
  },
  {
   "cell_type": "code",
   "execution_count": 5,
   "metadata": {},
   "outputs": [
    {
     "name": "stdout",
     "output_type": "stream",
     "text": [
      "Module not found\n"
     ]
    }
   ],
   "source": [
    "try:\n",
    "    # Non-existent module\n",
    "    import baz\n",
    "except ImportError:\n",
    "    print('Module not found')\n",
    "\n"
   ]
  },
  {
   "cell_type": "code",
   "execution_count": 8,
   "metadata": {},
   "outputs": [
    {
     "name": "stdout",
     "output_type": "stream",
     "text": [
      "Oject not found in Module\n"
     ]
    }
   ],
   "source": [
    "try:\n",
    "    # Existing module, but non-existent object\n",
    "    from modtst import baz\n",
    "except ImportError:\n",
    "    print('Oject not found in Module')\n",
    "\n"
   ]
  },
  {
   "cell_type": "code",
   "execution_count": 6,
   "metadata": {},
   "outputs": [
    {
     "data": {
      "text/plain": [
       "['C:\\\\Users\\\\dland\\\\Anaconda3\\\\python36.zip',\n",
       " 'C:\\\\Users\\\\dland\\\\Anaconda3\\\\DLLs',\n",
       " 'C:\\\\Users\\\\dland\\\\Anaconda3\\\\lib',\n",
       " 'C:\\\\Users\\\\dland\\\\Anaconda3',\n",
       " '',\n",
       " 'C:\\\\Users\\\\dland\\\\AppData\\\\Roaming\\\\Python\\\\Python36\\\\site-packages',\n",
       " 'C:\\\\Users\\\\dland\\\\Anaconda3\\\\lib\\\\site-packages',\n",
       " 'C:\\\\Users\\\\dland\\\\Anaconda3\\\\lib\\\\site-packages\\\\win32',\n",
       " 'C:\\\\Users\\\\dland\\\\Anaconda3\\\\lib\\\\site-packages\\\\win32\\\\lib',\n",
       " 'C:\\\\Users\\\\dland\\\\Anaconda3\\\\lib\\\\site-packages\\\\Pythonwin',\n",
       " 'C:\\\\Users\\\\dland\\\\Anaconda3\\\\lib\\\\site-packages\\\\IPython\\\\extensions',\n",
       " 'C:\\\\Users\\\\dland\\\\.ipython']"
      ]
     },
     "execution_count": 6,
     "metadata": {},
     "output_type": "execute_result"
    }
   ],
   "source": [
    "import sys\n",
    "sys.path\n",
    "\n"
   ]
  },
  {
   "cell_type": "code",
   "execution_count": 7,
   "metadata": {},
   "outputs": [
    {
     "data": {
      "text/plain": [
       "['C:\\\\Users\\\\dland\\\\Anaconda3\\\\python36.zip',\n",
       " 'C:\\\\Users\\\\dland\\\\Anaconda3\\\\DLLs',\n",
       " 'C:\\\\Users\\\\dland\\\\Anaconda3\\\\lib',\n",
       " 'C:\\\\Users\\\\dland\\\\Anaconda3',\n",
       " '',\n",
       " 'C:\\\\Users\\\\dland\\\\AppData\\\\Roaming\\\\Python\\\\Python36\\\\site-packages',\n",
       " 'C:\\\\Users\\\\dland\\\\Anaconda3\\\\lib\\\\site-packages',\n",
       " 'C:\\\\Users\\\\dland\\\\Anaconda3\\\\lib\\\\site-packages\\\\win32',\n",
       " 'C:\\\\Users\\\\dland\\\\Anaconda3\\\\lib\\\\site-packages\\\\win32\\\\lib',\n",
       " 'C:\\\\Users\\\\dland\\\\Anaconda3\\\\lib\\\\site-packages\\\\Pythonwin',\n",
       " 'C:\\\\Users\\\\dland\\\\Anaconda3\\\\lib\\\\site-packages\\\\IPython\\\\extensions',\n",
       " 'C:\\\\Users\\\\dland\\\\.ipython',\n",
       " 'C:\\\\Users\\\\dland\\\\downloads\\\\pythonexamples']"
      ]
     },
     "execution_count": 7,
     "metadata": {},
     "output_type": "execute_result"
    }
   ],
   "source": [
    "sys.path.append(r'C:\\Users\\dland\\downloads\\pythonexamples')\n",
    "sys.path\n",
    "\n",
    "    "
   ]
  },
  {
   "cell_type": "code",
   "execution_count": null,
   "metadata": {},
   "outputs": [],
   "source": []
  }
 ],
 "metadata": {
  "kernelspec": {
   "display_name": "Python 3",
   "language": "python",
   "name": "python3"
  },
  "language_info": {
   "codemirror_mode": {
    "name": "ipython",
    "version": 3
   },
   "file_extension": ".py",
   "mimetype": "text/x-python",
   "name": "python",
   "nbconvert_exporter": "python",
   "pygments_lexer": "ipython3",
   "version": "3.6.10"
  }
 },
 "nbformat": 4,
 "nbformat_minor": 4
}
