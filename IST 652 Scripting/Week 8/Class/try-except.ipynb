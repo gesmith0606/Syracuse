{
 "cells": [
  {
   "cell_type": "code",
   "execution_count": null,
   "metadata": {},
   "outputs": [],
   "source": [
    "'''\n",
    "EOFError\tRaised when the input() function hits end-of-file condition.\n",
    "FloatingPointError\tRaised when a floating point operation fails.\n",
    "GeneratorExit\tRaise when a generator's close() method is called.\n",
    "ImportError\tRaised when the imported module is not found.\n",
    "IndexError\tRaised when the index of a sequence is out of range.\n",
    "KeyError\tRaised when a key is not found in a dictionary.\n",
    "KeyboardInterrupt\tRaised when the user hits the interrupt key (Ctrl+C or Delete).\n",
    "MemoryError\tRaised when an operation runs out of memory.\n",
    "NameError\tRaised when a variable is not found in local or global scope.\n",
    "NotImplementedError\tRaised by abstract methods.\n",
    "OSError\tRaised when system operation causes system related error.\n",
    "OverflowError\tRaised when the result of an arithmetic operation is too large to be represented.\n",
    "ReferenceError\tRaised when a weak reference proxy is used to access a garbage collected referent.\n",
    "RuntimeError\tRaised when an error does not fall under any other category.\n",
    "StopIteration\tRaised by next() function to indicate that there is no further item to be returned by iterator.\n",
    "SyntaxError\tRaised by parser when syntax error is encountered.\n",
    "IndentationError\tRaised when there is incorrect indentation.\n",
    "TabError\tRaised when indentation consists of inconsistent tabs and spaces.\n",
    "SystemError\tRaised when interpreter detects internal error.\n",
    "SystemExit\tRaised by sys.exit() function.\n",
    "TypeError\tRaised when a function or operation is applied to an object of incorrect type.\n",
    "UnboundLocalError\tRaised when a reference is made to a local variable in a function or method, but no value has been bound to that variable.\n",
    "UnicodeError\tRaised when a Unicode-related encoding or decoding error occurs.\n",
    "UnicodeEncodeError\tRaised when a Unicode-related error occurs during encoding.\n",
    "UnicodeDecodeError\tRaised when a Unicode-related error occurs during decoding.\n",
    "UnicodeTranslateError\tRaised when a Unicode-related error occurs during translating.\n",
    "ValueError\tRaised when a function gets an argument of correct type but improper value.\n",
    "ZeroDivisionError\tRaised when the second operand of division or modulo operation is zero.\n",
    "\n",
    "\n",
    "Reference:  https://www.programiz.com/python-programming/exceptions\n",
    "'''"
   ]
  },
  {
   "cell_type": "code",
   "execution_count": 1,
   "metadata": {},
   "outputs": [
    {
     "name": "stdout",
     "output_type": "stream",
     "text": [
      "Hello\n",
      "Nothing went wrong\n"
     ]
    }
   ],
   "source": [
    "\n",
    "try:\n",
    "  print(\"Hello\")\n",
    "except:\n",
    "  print(\"Something went wrong\")\n",
    "else:\n",
    "  print(\"Nothing went wrong\")"
   ]
  },
  {
   "cell_type": "code",
   "execution_count": 1,
   "metadata": {},
   "outputs": [
    {
     "name": "stdout",
     "output_type": "stream",
     "text": [
      "Something went wrong\n",
      "The 'try except' is finished\n"
     ]
    }
   ],
   "source": [
    "try:\n",
    "  print(y)\n",
    "except NameError:\n",
    "  print(\"Something went wrong\")\n",
    "finally:\n",
    "  print(\"The 'try except' is finished\")\n"
   ]
  },
  {
   "cell_type": "code",
   "execution_count": 2,
   "metadata": {},
   "outputs": [
    {
     "name": "stdout",
     "output_type": "stream",
     "text": [
      "Variable z is not defined\n",
      "DONE\n"
     ]
    }
   ],
   "source": [
    "try:\n",
    "  print(z)\n",
    "except NameError:\n",
    "  print(\"Variable z is not defined\")\n",
    "except:\n",
    "  print(\"Something else went wrong\")\n",
    "finally:\n",
    "  print('DONE')  "
   ]
  },
  {
   "cell_type": "code",
   "execution_count": 4,
   "metadata": {},
   "outputs": [
    {
     "name": "stdout",
     "output_type": "stream",
     "text": [
      "Something went wrong when writing to the file\n",
      "try except is done\n"
     ]
    }
   ],
   "source": [
    "\n",
    "try:\n",
    "  f = open(\"demofile.txt\")\n",
    "  f.write(\"Lorum Ipsum\")\n",
    "except:\n",
    "  print(\"Something went wrong when writing to the file\")\n",
    "finally:\n",
    "  print(\"try except is done\")"
   ]
  },
  {
   "cell_type": "code",
   "execution_count": null,
   "metadata": {},
   "outputs": [],
   "source": []
  }
 ],
 "metadata": {
  "kernelspec": {
   "display_name": "Python 3 (ipykernel)",
   "language": "python",
   "name": "python3"
  },
  "language_info": {
   "codemirror_mode": {
    "name": "ipython",
    "version": 3
   },
   "file_extension": ".py",
   "mimetype": "text/x-python",
   "name": "python",
   "nbconvert_exporter": "python",
   "pygments_lexer": "ipython3",
   "version": "3.9.7"
  }
 },
 "nbformat": 4,
 "nbformat_minor": 4
}
