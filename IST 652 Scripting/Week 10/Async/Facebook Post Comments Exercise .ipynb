{
 "cells": [
  {
   "cell_type": "code",
   "execution_count": 9,
   "id": "25fa472e",
   "metadata": {},
   "outputs": [
    {
     "ename": "ModuleNotFoundError",
     "evalue": "No module named 'facebook_request_fn'",
     "output_type": "error",
     "traceback": [
      "\u001b[0;31m---------------------------------------------------------------------------\u001b[0m",
      "\u001b[0;31mModuleNotFoundError\u001b[0m                       Traceback (most recent call last)",
      "\u001b[0;32m/var/folders/t6/r78__dnn0sjgvvll0tn49gn80000gn/T/ipykernel_4561/3133970676.py\u001b[0m in \u001b[0;36m<module>\u001b[0;34m\u001b[0m\n\u001b[1;32m      2\u001b[0m \u001b[0;32mimport\u001b[0m \u001b[0mjson\u001b[0m\u001b[0;34m\u001b[0m\u001b[0;34m\u001b[0m\u001b[0m\n\u001b[1;32m      3\u001b[0m \u001b[0;32mimport\u001b[0m \u001b[0mfacebook\u001b[0m\u001b[0;34m\u001b[0m\u001b[0;34m\u001b[0m\u001b[0m\n\u001b[0;32m----> 4\u001b[0;31m \u001b[0;32mfrom\u001b[0m \u001b[0mfacebook_request_fn\u001b[0m \u001b[0;32mimport\u001b[0m \u001b[0mfacebook_connection_request\u001b[0m\u001b[0;34m\u001b[0m\u001b[0;34m\u001b[0m\u001b[0m\n\u001b[0m\u001b[1;32m      5\u001b[0m \u001b[0;32mfrom\u001b[0m \u001b[0mfacebook_login_fn\u001b[0m \u001b[0;32mimport\u001b[0m \u001b[0mfb_login\u001b[0m\u001b[0;34m\u001b[0m\u001b[0;34m\u001b[0m\u001b[0m\n\u001b[1;32m      6\u001b[0m \u001b[0;32mfrom\u001b[0m \u001b[0mDB_fn\u001b[0m \u001b[0;32mimport\u001b[0m \u001b[0msave_to_DB\u001b[0m\u001b[0;34m\u001b[0m\u001b[0;34m\u001b[0m\u001b[0m\n",
      "\u001b[0;31mModuleNotFoundError\u001b[0m: No module named 'facebook_request_fn'"
     ]
    }
   ],
   "source": [
    "import sys\n",
    "import json\n",
    "import facebook\n",
    "from facebook_request_fn import facebook_connection_request\n",
    "from facebook_login_fn import fb_login\n",
    "from DB_fn import save_to_DB"
   ]
  },
  {
   "cell_type": "code",
   "execution_count": 6,
   "id": "76dd3343",
   "metadata": {},
   "outputs": [],
   "source": [
    "# login to FaceBook to gain access to the graph API\n",
    "def fb_login():\n",
    "  # get an access token from the Graph Explorer web page\n",
    "  #   https://developers.facebook.com/tools/explorer\n",
    "  ACCESS_TOKEN = 'EAACEdEose0cBADr1Q2I1ZCEedJot6bRKD0ECHjlvZCzfhZCUUQKf4j3i1qduZAUDT80RKOZAq3Ijp17Hiy3i9dXRC6ZAHwnFXVYZB9MEhSWHDlva1USrigg1C8PhoSn1KdMFikTMNZADxmWCFG4ryjkh25BREhenZCHg3up70cKTZBEGC1QLfRCQarvzLaZA6IZAvt0ZD'\n",
    "  \n",
    "  # get the authorization from facebook and return\n",
    "  fb  = facebook.GraphAPI(ACCESS_TOKEN)\n",
    "  return fb"
   ]
  },
  {
   "cell_type": "code",
   "execution_count": 10,
   "id": "b16094f2",
   "metadata": {},
   "outputs": [],
   "source": [
    "# simple utility function, pretty print, to nicely print dictionary of json objects\n",
    "def pp(o):\n",
    "    print (json.dumps(o, indent=1))"
   ]
  },
  {
   "cell_type": "code",
   "execution_count": 11,
   "id": "f6fb577f",
   "metadata": {},
   "outputs": [
    {
     "name": "stdout",
     "output_type": "stream",
     "text": [
      "usage: python run_facebook_request_save.py <query> <field> <num> <DB name> <collection name>\n"
     ]
    },
    {
     "ename": "SystemExit",
     "evalue": "1",
     "output_type": "error",
     "traceback": [
      "An exception has occurred, use %tb to see the full traceback.\n",
      "\u001b[0;31mSystemExit\u001b[0m\u001b[0;31m:\u001b[0m 1\n"
     ]
    },
    {
     "name": "stderr",
     "output_type": "stream",
     "text": [
      "/opt/anaconda3/lib/python3.9/site-packages/IPython/core/interactiveshell.py:3452: UserWarning: To exit: use 'exit', 'quit', or Ctrl-D.\n",
      "  warn(\"To exit: use 'exit', 'quit', or Ctrl-D.\", stacklevel=1)\n"
     ]
    }
   ],
   "source": [
    "# test program for facebook multiple request function \n",
    "if __name__ == '__main__':\n",
    "    # Make a list of command line arguments, omitting the [0] element\n",
    "    # which is the script itself.\n",
    "    args = sys.argv[1:]\n",
    "    if not args or len(args) < 5:\n",
    "        print('usage: python run_facebook_request_save.py <query> <field> <num> <DB name> <collection name>')\n",
    "        sys.exit(1)\n",
    "    query = args[0]\n",
    "    field = args[1]\n",
    "    num = int(args[2])\n",
    "    DBname = args[3]\n",
    "    DBcollection = args[4]"
   ]
  },
  {
   "cell_type": "code",
   "execution_count": 13,
   "id": "1bf753a1",
   "metadata": {},
   "outputs": [],
   "source": [
    "# make sure that this has a current access token\n",
    "fb  = fb_login()"
   ]
  },
  {
   "cell_type": "code",
   "execution_count": 14,
   "id": "6520dc26",
   "metadata": {},
   "outputs": [],
   "source": [
    "# set the limit to the number of items to get per request\n",
    "kw = { }\n",
    "kw['limit'] = 100\n",
    "# other keywords that can be used here include 'after', 'since' and 'after_id'\n",
    "#   in order to collect a full set of items\n",
    "# examples of since and until format:  \n",
    "#       kw['since'] = 2011-07-01\n",
    "#       kw['until'] = '2014-03-04'"
   ]
  },
  {
   "cell_type": "code",
   "execution_count": 20,
   "id": "7af539b4",
   "metadata": {},
   "outputs": [
    {
     "ename": "NameError",
     "evalue": "name 'facebook_connection_request' is not defined",
     "output_type": "error",
     "traceback": [
      "\u001b[0;31m---------------------------------------------------------------------------\u001b[0m",
      "\u001b[0;31mNameError\u001b[0m                                 Traceback (most recent call last)",
      "\u001b[0;32m/var/folders/t6/r78__dnn0sjgvvll0tn49gn80000gn/T/ipykernel_4561/1365592089.py\u001b[0m in \u001b[0;36m<module>\u001b[0;34m\u001b[0m\n\u001b[1;32m      1\u001b[0m \u001b[0;31m# call the function with the query and the field\u001b[0m\u001b[0;34m\u001b[0m\u001b[0;34m\u001b[0m\u001b[0m\n\u001b[0;32m----> 2\u001b[0;31m \u001b[0mresults\u001b[0m \u001b[0;34m=\u001b[0m \u001b[0mfacebook_connection_request\u001b[0m\u001b[0;34m(\u001b[0m\u001b[0mfb\u001b[0m\u001b[0;34m,\u001b[0m \u001b[0mquery\u001b[0m\u001b[0;34m,\u001b[0m \u001b[0mfield\u001b[0m\u001b[0;34m,\u001b[0m \u001b[0mnum\u001b[0m\u001b[0;34m)\u001b[0m\u001b[0;34m\u001b[0m\u001b[0;34m\u001b[0m\u001b[0m\n\u001b[0m",
      "\u001b[0;31mNameError\u001b[0m: name 'facebook_connection_request' is not defined"
     ]
    }
   ],
   "source": [
    "# call the function with the query and the field\n",
    "results = facebook_connection_request(fb, query, field, num)"
   ]
  },
  {
   "cell_type": "code",
   "execution_count": 16,
   "id": "d8c16b13",
   "metadata": {},
   "outputs": [
    {
     "ename": "NameError",
     "evalue": "name 'save_to_DB' is not defined",
     "output_type": "error",
     "traceback": [
      "\u001b[0;31m---------------------------------------------------------------------------\u001b[0m",
      "\u001b[0;31mNameError\u001b[0m                                 Traceback (most recent call last)",
      "\u001b[0;32m/var/folders/t6/r78__dnn0sjgvvll0tn49gn80000gn/T/ipykernel_4561/3063807449.py\u001b[0m in \u001b[0;36m<module>\u001b[0;34m\u001b[0m\n\u001b[1;32m      1\u001b[0m \u001b[0;31m# save the results to a database collection\u001b[0m\u001b[0;34m\u001b[0m\u001b[0;34m\u001b[0m\u001b[0m\n\u001b[1;32m      2\u001b[0m \u001b[0;31m# use the save and load functions in this program\u001b[0m\u001b[0;34m\u001b[0m\u001b[0;34m\u001b[0m\u001b[0m\n\u001b[0;32m----> 3\u001b[0;31m \u001b[0msave_to_DB\u001b[0m\u001b[0;34m(\u001b[0m\u001b[0mDBname\u001b[0m\u001b[0;34m,\u001b[0m \u001b[0mDBcollection\u001b[0m\u001b[0;34m,\u001b[0m \u001b[0mresults\u001b[0m\u001b[0;34m)\u001b[0m\u001b[0;34m\u001b[0m\u001b[0;34m\u001b[0m\u001b[0m\n\u001b[0m",
      "\u001b[0;31mNameError\u001b[0m: name 'save_to_DB' is not defined"
     ]
    }
   ],
   "source": [
    "# save the results to a database collection\n",
    "# use the save and load functions in this program\n",
    "save_to_DB(DBname, DBcollection, results)"
   ]
  },
  {
   "cell_type": "code",
   "execution_count": 17,
   "id": "789a47a4",
   "metadata": {},
   "outputs": [
    {
     "ename": "NameError",
     "evalue": "name 'results' is not defined",
     "output_type": "error",
     "traceback": [
      "\u001b[0;31m---------------------------------------------------------------------------\u001b[0m",
      "\u001b[0;31mNameError\u001b[0m                                 Traceback (most recent call last)",
      "\u001b[0;32m/var/folders/t6/r78__dnn0sjgvvll0tn49gn80000gn/T/ipykernel_4561/1938964599.py\u001b[0m in \u001b[0;36m<module>\u001b[0;34m\u001b[0m\n\u001b[0;32m----> 1\u001b[0;31m \u001b[0mprint\u001b[0m \u001b[0;34m(\u001b[0m\u001b[0;34m'number saved'\u001b[0m\u001b[0;34m,\u001b[0m \u001b[0mlen\u001b[0m\u001b[0;34m(\u001b[0m\u001b[0mresults\u001b[0m\u001b[0;34m)\u001b[0m\u001b[0;34m)\u001b[0m\u001b[0;34m\u001b[0m\u001b[0;34m\u001b[0m\u001b[0m\n\u001b[0m",
      "\u001b[0;31mNameError\u001b[0m: name 'results' is not defined"
     ]
    }
   ],
   "source": [
    "print ('number saved', len(results))"
   ]
  },
  {
   "cell_type": "code",
   "execution_count": 19,
   "id": "80640834",
   "metadata": {},
   "outputs": [
    {
     "name": "stdout",
     "output_type": "stream",
     "text": [
      "First 20 posts:\n"
     ]
    },
    {
     "ename": "NameError",
     "evalue": "name 'results' is not defined",
     "output_type": "error",
     "traceback": [
      "\u001b[0;31m---------------------------------------------------------------------------\u001b[0m",
      "\u001b[0;31mNameError\u001b[0m                                 Traceback (most recent call last)",
      "\u001b[0;32m/var/folders/t6/r78__dnn0sjgvvll0tn49gn80000gn/T/ipykernel_4561/38946829.py\u001b[0m in \u001b[0;36m<module>\u001b[0;34m\u001b[0m\n\u001b[1;32m      1\u001b[0m \u001b[0;31m# in the case of results from the request for 'feed', results have \"from\"->\"name\" and \"updated_time\" fields\u001b[0m\u001b[0;34m\u001b[0m\u001b[0;34m\u001b[0m\u001b[0m\n\u001b[1;32m      2\u001b[0m \u001b[0mprint\u001b[0m\u001b[0;34m(\u001b[0m\u001b[0;34m'First 20 posts:'\u001b[0m\u001b[0;34m)\u001b[0m\u001b[0;34m\u001b[0m\u001b[0;34m\u001b[0m\u001b[0m\n\u001b[0;32m----> 3\u001b[0;31m \u001b[0;32mfor\u001b[0m \u001b[0mpost\u001b[0m \u001b[0;32min\u001b[0m \u001b[0mresults\u001b[0m\u001b[0;34m[\u001b[0m\u001b[0;34m:\u001b[0m\u001b[0;36m20\u001b[0m\u001b[0;34m]\u001b[0m\u001b[0;34m:\u001b[0m\u001b[0;34m\u001b[0m\u001b[0;34m\u001b[0m\u001b[0m\n\u001b[0m\u001b[1;32m      4\u001b[0m    \u001b[0;31m# optional message field\u001b[0m\u001b[0;34m\u001b[0m\u001b[0;34m\u001b[0m\u001b[0m\n\u001b[1;32m      5\u001b[0m    \u001b[0;32mif\u001b[0m \u001b[0;34m'message'\u001b[0m \u001b[0;32min\u001b[0m \u001b[0mpost\u001b[0m\u001b[0;34m.\u001b[0m\u001b[0mkeys\u001b[0m\u001b[0;34m(\u001b[0m\u001b[0;34m)\u001b[0m\u001b[0;34m:\u001b[0m\u001b[0;34m\u001b[0m\u001b[0;34m\u001b[0m\u001b[0m\n",
      "\u001b[0;31mNameError\u001b[0m: name 'results' is not defined"
     ]
    }
   ],
   "source": [
    " # in the case of results from the request for 'feed', results have \"from\"->\"name\" and \"updated_time\" fields\n",
    "print('First 20 posts:')\n",
    "for post in results[:20]:\n",
    "    # optional message field\n",
    "    if 'message' in post.keys():\n",
    "        pnum = min([len(post[\"message\"]), 100])\n",
    "        print (\"Post from:\", post['name'], \" Date: \", post[\"updated_time\"], \" Message begin: \", post[\"message\"][:pnum])\n",
    "    else:\n",
    "        print (\"Post from:\", post['name'], \" Date: \", post[\"updated_time\"])"
   ]
  },
  {
   "cell_type": "code",
   "execution_count": null,
   "id": "e182e837",
   "metadata": {},
   "outputs": [],
   "source": []
  }
 ],
 "metadata": {
  "kernelspec": {
   "display_name": "Python 3 (ipykernel)",
   "language": "python",
   "name": "python3"
  },
  "language_info": {
   "codemirror_mode": {
    "name": "ipython",
    "version": 3
   },
   "file_extension": ".py",
   "mimetype": "text/x-python",
   "name": "python",
   "nbconvert_exporter": "python",
   "pygments_lexer": "ipython3",
   "version": "3.9.7"
  }
 },
 "nbformat": 4,
 "nbformat_minor": 5
}
