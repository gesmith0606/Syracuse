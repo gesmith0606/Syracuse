{
 "cells": [
  {
   "cell_type": "code",
   "execution_count": 1,
   "id": "1209ca75-d545-49e1-9716-5730c9a5f8f2",
   "metadata": {},
   "outputs": [],
   "source": [
    "tuple  = (\"apple\", \"banana\", \"cherry\",\"watermelon\", \"grape\")"
   ]
  },
  {
   "cell_type": "code",
   "execution_count": 2,
   "id": "0af64f47-b620-4a39-b9ab-06c03eb25977",
   "metadata": {},
   "outputs": [
    {
     "data": {
      "text/plain": [
       "5"
      ]
     },
     "execution_count": 2,
     "metadata": {},
     "output_type": "execute_result"
    }
   ],
   "source": [
    "len(tuple)"
   ]
  },
  {
   "cell_type": "code",
   "execution_count": 3,
   "id": "74111c2c-d3e5-44c7-a2dc-62e07ff19c0a",
   "metadata": {},
   "outputs": [
    {
     "data": {
      "text/plain": [
       "('apple', 'banana', 'cherry', 'watermelon', 'grape')"
      ]
     },
     "execution_count": 3,
     "metadata": {},
     "output_type": "execute_result"
    }
   ],
   "source": [
    "tuple "
   ]
  },
  {
   "cell_type": "code",
   "execution_count": null,
   "id": "265bad4f-053a-4046-9224-ca24e1fccd5a",
   "metadata": {},
   "outputs": [],
   "source": []
  }
 ],
 "metadata": {
  "kernelspec": {
   "display_name": "Python 3",
   "language": "python",
   "name": "python3"
  },
  "language_info": {
   "codemirror_mode": {
    "name": "ipython",
    "version": 3
   },
   "file_extension": ".py",
   "mimetype": "text/x-python",
   "name": "python",
   "nbconvert_exporter": "python",
   "pygments_lexer": "ipython3",
   "version": "3.8.8"
  }
 },
 "nbformat": 4,
 "nbformat_minor": 5
}
