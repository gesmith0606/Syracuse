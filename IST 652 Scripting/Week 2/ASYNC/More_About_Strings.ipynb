{
 "cells": [
  {
   "cell_type": "code",
   "execution_count": 1,
   "id": "3209a0a4-8011-4cec-9385-e364d2b00b04",
   "metadata": {},
   "outputs": [],
   "source": [
    "mp = 'Today is a Great DAY'"
   ]
  },
  {
   "cell_type": "code",
   "execution_count": 2,
   "id": "414c098a-34ea-4f61-875e-2b528aa31be7",
   "metadata": {},
   "outputs": [
    {
     "data": {
      "text/plain": [
       "'today is a great day'"
      ]
     },
     "execution_count": 2,
     "metadata": {},
     "output_type": "execute_result"
    }
   ],
   "source": [
    "mp.lower()"
   ]
  },
  {
   "cell_type": "code",
   "execution_count": 3,
   "id": "2c100c74-5a07-40c8-9496-2f459a4be613",
   "metadata": {},
   "outputs": [
    {
     "data": {
      "text/plain": [
       "'TODAY IS A GREAT DAY'"
      ]
     },
     "execution_count": 3,
     "metadata": {},
     "output_type": "execute_result"
    }
   ],
   "source": [
    "mp.upper()"
   ]
  },
  {
   "cell_type": "code",
   "execution_count": 4,
   "id": "a582bfa5-6986-4c82-868d-c0d5186d054e",
   "metadata": {},
   "outputs": [
    {
     "data": {
      "text/plain": [
       "'Today is a Great DAY'"
      ]
     },
     "execution_count": 4,
     "metadata": {},
     "output_type": "execute_result"
    }
   ],
   "source": [
    "mp.strip()"
   ]
  },
  {
   "cell_type": "code",
   "execution_count": 5,
   "id": "e690033b-3892-46b5-a4d4-81940bf07897",
   "metadata": {},
   "outputs": [
    {
     "data": {
      "text/plain": [
       "False"
      ]
     },
     "execution_count": 5,
     "metadata": {},
     "output_type": "execute_result"
    }
   ],
   "source": [
    "mp.startswith('X')"
   ]
  },
  {
   "cell_type": "code",
   "execution_count": 6,
   "id": "1caf88e7-a913-460c-b94d-47759c70faf1",
   "metadata": {},
   "outputs": [
    {
     "data": {
      "text/plain": [
       "-1"
      ]
     },
     "execution_count": 6,
     "metadata": {},
     "output_type": "execute_result"
    }
   ],
   "source": [
    "mp.find('Z')"
   ]
  }
 ],
 "metadata": {
  "kernelspec": {
   "display_name": "Python 3",
   "language": "python",
   "name": "python3"
  },
  "language_info": {
   "codemirror_mode": {
    "name": "ipython",
    "version": 3
   },
   "file_extension": ".py",
   "mimetype": "text/x-python",
   "name": "python",
   "nbconvert_exporter": "python",
   "pygments_lexer": "ipython3",
   "version": "3.8.8"
  }
 },
 "nbformat": 4,
 "nbformat_minor": 5
}
