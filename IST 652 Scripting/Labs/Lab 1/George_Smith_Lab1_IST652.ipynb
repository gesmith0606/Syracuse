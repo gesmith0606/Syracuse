{
 "cells": [
  {
   "cell_type": "code",
   "execution_count": 3,
   "id": "a67f0197",
   "metadata": {},
   "outputs": [
    {
     "name": "stdout",
     "output_type": "stream",
     "text": [
      "Number of NBA teams: 27\n",
      "The attendance at Atlanta was 13993 and the ticket price was $20.06\n",
      "The attendance at Boston was 14916 and the ticket price was $22.54\n",
      "The attendance at Charlotte was 23901 and the ticket price was $17\n",
      "The attendance at Chicago was 18404 and the ticket price was $21.98\n",
      "The attendance at Cleveland was 16969 and the ticket price was $19.63\n",
      "The attendance at Dallas was 16868 and the ticket price was $17.05\n",
      "The attendance at Denver was 12668 and the ticket price was $17.4\n",
      "The attendance at Detroit was 21454 and the ticket price was $24.42\n",
      "The attendance at Golden_State was 15025 and the ticket price was $17.04\n",
      "The attendance at Houston was 15846 and the ticket price was $17.56\n",
      "The attendance at Indiana was 12885 and the ticket price was $13.77\n",
      "The attendance at LA_Clippers was 11869 and the ticket price was $21.95\n",
      "The attendance at LA_Lakers was 17378 and the ticket price was $29.18\n",
      "The attendance at Miami was 15008 and the ticket price was $17.6\n",
      "The attendance at Milwaukee was 16088 and the ticket price was $14.08\n",
      "The attendance at Minnesota was 26160 and the ticket price was $10.92\n",
      "The attendance at New_Jersey was 12160 and the ticket price was $13.31\n",
      "The attendance at New_York was 17815 and the ticket price was $22.7\n",
      "The attendance at Orlando was 15606 and the ticket price was $20.47\n",
      "The attendance at Philadelphia was 14017 and the ticket price was $19.04\n",
      "The attendance at Phoenix was 14114 and the ticket price was $16.59\n",
      "The attendance at Portland was 12884 and the ticket price was $22.19\n",
      "The attendance at Sacramento was 17014 and the ticket price was $16.96\n",
      "The attendance at San_Antonio was 14722 and the ticket price was $16.79\n",
      "The attendance at Seattle was 12244 and the ticket price was $18.11\n",
      "The attendance at Utah was 12616 and the ticket price was $18.41\n",
      "The attendance at Washington was 11565 and the ticket price was $14.55\n"
     ]
    }
   ],
   "source": [
    "NBAfile = open ('NBA-Attendance-1989.txt', 'r')\n",
    "count = 0\n",
    "NBAlist = [ ]\n",
    "for line in NBAfile:\n",
    "  count += 1\n",
    "  textline = line.strip()\n",
    "  items = textline.split()\n",
    "  NBAlist.append(items)\n",
    "\n",
    "print('Number of NBA teams:', count)\n",
    "\n",
    "for line in NBAlist:\n",
    "        print('The attendance at ' + line[0] + \" was \" + line[1] + \" and the ticket price was $\" + line[2])\n",
    "\n",
    "NBAfile.close()"
   ]
  },
  {
   "cell_type": "code",
   "execution_count": null,
   "id": "8093c787",
   "metadata": {},
   "outputs": [],
   "source": []
  }
 ],
 "metadata": {
  "kernelspec": {
   "display_name": "Python 3 (ipykernel)",
   "language": "python",
   "name": "python3"
  },
  "language_info": {
   "codemirror_mode": {
    "name": "ipython",
    "version": 3
   },
   "file_extension": ".py",
   "mimetype": "text/x-python",
   "name": "python",
   "nbconvert_exporter": "python",
   "pygments_lexer": "ipython3",
   "version": "3.9.7"
  }
 },
 "nbformat": 4,
 "nbformat_minor": 5
}
