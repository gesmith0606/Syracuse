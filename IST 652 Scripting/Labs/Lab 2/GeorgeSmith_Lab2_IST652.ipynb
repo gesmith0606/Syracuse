{
 "cells": [
  {
   "cell_type": "code",
   "execution_count": null,
   "id": "2bd51371",
   "metadata": {},
   "outputs": [],
   "source": [
    "# George Smith \n",
    "# Lab 2 "
   ]
  },
  {
   "cell_type": "code",
   "execution_count": 3,
   "id": "31380662",
   "metadata": {},
   "outputs": [],
   "source": [
    "# Load the Dictionaries \n",
    "stock = {\"banana\": 6, \"apple\": 0, \"orange\": 32, \"pear\": 15}\n",
    "prices = {\"banana\": 4, \"apple\": 2, \"orange\": 1.5, \"pear\": 3} "
   ]
  },
  {
   "cell_type": "code",
   "execution_count": 4,
   "id": "62e94ddf",
   "metadata": {},
   "outputs": [
    {
     "name": "stdout",
     "output_type": "stream",
     "text": [
      "32\n"
     ]
    }
   ],
   "source": [
    "# Show the expression that gets the value of the stock dictionary at the key ‘orange’\n",
    "print(stock[\"orange\"])"
   ]
  },
  {
   "cell_type": "code",
   "execution_count": 17,
   "id": "e6f36349",
   "metadata": {},
   "outputs": [
    {
     "data": {
      "text/plain": [
       "{'banana': 6, 'apple': 0, 'orange': 32, 'pear': 15, 'cherry': 11}"
      ]
     },
     "execution_count": 17,
     "metadata": {},
     "output_type": "execute_result"
    }
   ],
   "source": [
    "# Show a statement that adds an item to the stock dictionary called ‘cherry’ with some integer value and \n",
    "#that adds ‘cherry’ to the prices dictionary with a numeric value. (Or pick your own fruit name.)\n",
    "stock[\"cherry\"]= 11 \n",
    "stock"
   ]
  },
  {
   "cell_type": "code",
   "execution_count": 16,
   "id": "4234b9fa",
   "metadata": {},
   "outputs": [
    {
     "data": {
      "text/plain": [
       "{'banana': 4, 'apple': 2, 'orange': 1.5, 'pear': 3, 'cherry': 0.5}"
      ]
     },
     "execution_count": 16,
     "metadata": {},
     "output_type": "execute_result"
    }
   ],
   "source": [
    "prices[\"cherry\"]=.5 \n",
    "prices"
   ]
  },
  {
   "cell_type": "code",
   "execution_count": 18,
   "id": "70e499ee",
   "metadata": {},
   "outputs": [
    {
     "data": {
      "text/plain": [
       "int"
      ]
     },
     "execution_count": 18,
     "metadata": {},
     "output_type": "execute_result"
    }
   ],
   "source": [
    "type(stock[\"cherry\"])"
   ]
  },
  {
   "cell_type": "code",
   "execution_count": 19,
   "id": "1449a5f7",
   "metadata": {},
   "outputs": [
    {
     "data": {
      "text/plain": [
       "float"
      ]
     },
     "execution_count": 19,
     "metadata": {},
     "output_type": "execute_result"
    }
   ],
   "source": [
    "type(prices[\"cherry\"])"
   ]
  },
  {
   "cell_type": "code",
   "execution_count": 23,
   "id": "309edf22",
   "metadata": {},
   "outputs": [
    {
     "name": "stdout",
     "output_type": "stream",
     "text": [
      "banana 6\n",
      "apple 0\n",
      "orange 32\n",
      "pear 15\n",
      "cherry 11\n"
     ]
    }
   ],
   "source": [
    "# Write the code for a loop that iterates over the stock dictionary and prints each key and value.\n",
    "for x, y in stock.items():\n",
    "    print(x, y)"
   ]
  },
  {
   "cell_type": "code",
   "execution_count": 25,
   "id": "eefebbbe",
   "metadata": {},
   "outputs": [],
   "source": [
    "# Define list \n",
    "groceries = [\"apple\", \"banana\", \"pear\"] "
   ]
  },
  {
   "cell_type": "code",
   "execution_count": 32,
   "id": "7f0b64bf",
   "metadata": {},
   "outputs": [
    {
     "name": "stdout",
     "output_type": "stream",
     "text": [
      "{'banana': 6, 'apple': 0, 'pear': 15}\n",
      "21\n"
     ]
    }
   ],
   "source": [
    "# Write the code that will sum the total number in stock of the items in the groceries list. \n",
    "grocery_dict = {x:y for x, y in stock.items() if x in groceries}\n",
    "grocery_stock = sum({x for y, x in stock.items() if y in groceries})\n",
    "print(grocery_dict)\n",
    "print(grocery_stock)\n"
   ]
  },
  {
   "cell_type": "code",
   "execution_count": 36,
   "id": "319d3152",
   "metadata": {},
   "outputs": [
    {
     "name": "stdout",
     "output_type": "stream",
     "text": [
      "The total value of 6 bananas is 24\n",
      "The total value of 0 apples is 0\n",
      "The total value of 32 oranges is 48.0\n",
      "The total value of 15 pears is 45\n",
      "The total value of 11 cherrys is 5.5\n",
      "The total value in stock is 122.5\n"
     ]
    }
   ],
   "source": [
    "# Write the code that can print out the total value in stock of all the items. This program can\n",
    "#iterate over the stock dictionary and for each item multiply the number in stock times the price\n",
    "#of that item in the prices dictionary. (This can include the items for ‘cherry’ or not, as you choose.) \n",
    "stock_price = []\n",
    "for x, y in stock.items():\n",
    "    product_value = stock[x] * prices[x]\n",
    "    stock_price.append(product_value)\n",
    "    print(\"The total value of {} {}s is {}\".format(stock[x], x, product_value))\n",
    "\n",
    "\n",
    "print(\"The total stock value is {}\".format(sum(stock_price)))\n"
   ]
  },
  {
   "cell_type": "code",
   "execution_count": null,
   "id": "449b3775",
   "metadata": {},
   "outputs": [],
   "source": []
  },
  {
   "cell_type": "code",
   "execution_count": null,
   "id": "81bba74d",
   "metadata": {},
   "outputs": [],
   "source": []
  }
 ],
 "metadata": {
  "kernelspec": {
   "display_name": "Python 3 (ipykernel)",
   "language": "python",
   "name": "python3"
  },
  "language_info": {
   "codemirror_mode": {
    "name": "ipython",
    "version": 3
   },
   "file_extension": ".py",
   "mimetype": "text/x-python",
   "name": "python",
   "nbconvert_exporter": "python",
   "pygments_lexer": "ipython3",
   "version": "3.9.7"
  }
 },
 "nbformat": 4,
 "nbformat_minor": 5
}
