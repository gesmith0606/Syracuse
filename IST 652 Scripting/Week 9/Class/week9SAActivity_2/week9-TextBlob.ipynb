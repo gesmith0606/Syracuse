{
 "cells": [
  {
   "cell_type": "code",
   "execution_count": 1,
   "id": "2067886f",
   "metadata": {},
   "outputs": [],
   "source": [
    "from textblob import TextBlob, Word, Blobber\n",
    "from textblob.classifiers import NaiveBayesClassifier\n",
    "from textblob.taggers import NLTKTagger"
   ]
  },
  {
   "cell_type": "code",
   "execution_count": 2,
   "id": "34a91ae0",
   "metadata": {},
   "outputs": [
    {
     "data": {
      "text/plain": [
       "Sentiment(polarity=-0.9, subjectivity=1.0)"
      ]
     },
     "execution_count": 2,
     "metadata": {},
     "output_type": "execute_result"
    }
   ],
   "source": [
    "data = TextBlob(\"The COVIC pandemic is really horrifying\")\n",
    "data.sentiment"
   ]
  },
  {
   "cell_type": "code",
   "execution_count": 3,
   "id": "2e987e5d",
   "metadata": {},
   "outputs": [
    {
     "data": {
      "text/plain": [
       "Sentiment(polarity=0.5, subjectivity=0.6)"
      ]
     },
     "execution_count": 3,
     "metadata": {},
     "output_type": "execute_result"
    }
   ],
   "source": [
    "data1 = TextBlob(\"I love India and Canada\")\n",
    "data1.sentiment"
   ]
  },
  {
   "cell_type": "code",
   "execution_count": 4,
   "id": "541f487c",
   "metadata": {},
   "outputs": [
    {
     "data": {
      "text/plain": [
       "[Sentence(\"Thank god it's Friday\")]"
      ]
     },
     "execution_count": 4,
     "metadata": {},
     "output_type": "execute_result"
    }
   ],
   "source": [
    "data2 = TextBlob(\"Thank god it's Friday\")\n",
    "data2.sentences"
   ]
  },
  {
   "cell_type": "code",
   "execution_count": 5,
   "id": "8a3b323d",
   "metadata": {},
   "outputs": [
    {
     "data": {
      "text/plain": [
       "Sentiment(polarity=0.0, subjectivity=0.0)"
      ]
     },
     "execution_count": 5,
     "metadata": {},
     "output_type": "execute_result"
    }
   ],
   "source": [
    "data2.sentiment"
   ]
  },
  {
   "cell_type": "code",
   "execution_count": null,
   "id": "53cfaee8",
   "metadata": {
    "collapsed": true
   },
   "outputs": [],
   "source": [
    "word_token = TextBlob(\"\")"
   ]
  },
  {
   "cell_type": "code",
   "execution_count": 2,
   "id": "eff8d29d",
   "metadata": {},
   "outputs": [],
   "source": [
    "tricky_sentences = [\n",
    "   \"Most automated sentiment analysis tools are shit.\",\n",
    "   \"VADER sentiment analysis is the shit.\",\n",
    "   \"Sentiment analysis has never been good.\",\n",
    "   \"Sentiment analysis with VADER has never been this good.\",\n",
    "   \"Warren Beatty has never been so entertaining.\",\n",
    "   \"I won't say that the movie is astounding and I wouldn't claim that \\\n",
    "   the movie is too banal either.\",\n",
    "   \"I like to hate Michael Bay films, but I couldn't fault this one\",\n",
    "   \"I like to hate Michael Bay films, BUT I couldn't help but fault this one\",\n",
    "   \"It's one thing to watch an Uwe Boll film, but another thing entirely \\\n",
    "   to pay for it\",\n",
    "   \"The movie was too good\",\n",
    "   \"This movie was actually neither that funny, nor super witty.\",\n",
    "   \"This movie doesn't care about cleverness, wit or any other kind of \\\n",
    "   intelligent humor.\",\n",
    "   \"Those who find ugly meanings in beautiful things are corrupt without \\\n",
    "   being charming.\",\n",
    "   \"There are slow and repetitive parts, BUT it has just enough spice to \\\n",
    "   keep it interesting.\",\n",
    "   \"The script is not fantastic, but the acting is decent and the cinematography \\\n",
    "   is EXCELLENT!\",\n",
    "   \"Roger Dodger is one of the most compelling variations on this theme.\",\n",
    "   \"Roger Dodger is one of the least compelling variations on this theme.\",\n",
    "   \"Roger Dodger is at least compelling as a variation on the theme.\",\n",
    "   \"they fall in love with the product\",\n",
    "   \"but then it breaks\",\n",
    "   \"usually around the time the 90 day warranty expires\",\n",
    "   \"the twin towers collapsed today\",\n",
    "   \"However, Mr. Carter solemnly argues, his client carried out the kidnapping \\\n",
    "   under orders and in the ''least offensive way possible.''\"\n",
    "]"
   ]
  },
  {
   "cell_type": "code",
   "execution_count": 4,
   "id": "9323c67d",
   "metadata": {},
   "outputs": [
    {
     "name": "stdout",
     "output_type": "stream",
     "text": [
      "Most automated sentiment analysis tools are shit. Sentiment(polarity=0.15, subjectivity=0.65)\n",
      "VADER sentiment analysis is the shit. Sentiment(polarity=-0.2, subjectivity=0.8)\n",
      "Sentiment analysis has never been good. Sentiment(polarity=0.7, subjectivity=0.6000000000000001)\n",
      "Sentiment analysis with VADER has never been this good. Sentiment(polarity=0.7, subjectivity=0.6000000000000001)\n",
      "Warren Beatty has never been so entertaining. Sentiment(polarity=0.5, subjectivity=0.7)\n",
      "I won't say that the movie is astounding and I wouldn't claim that    the movie is too banal either. Sentiment(polarity=0.15, subjectivity=0.75)\n",
      "I like to hate Michael Bay films, but I couldn't fault this one Sentiment(polarity=-0.8, subjectivity=0.9)\n",
      "I like to hate Michael Bay films, BUT I couldn't help but fault this one Sentiment(polarity=-0.8, subjectivity=0.9)\n",
      "It's one thing to watch an Uwe Boll film, but another thing entirely    to pay for it Sentiment(polarity=0.0, subjectivity=0.625)\n",
      "The movie was too good Sentiment(polarity=0.7, subjectivity=0.6000000000000001)\n",
      "This movie was actually neither that funny, nor super witty. Sentiment(polarity=0.2708333333333333, subjectivity=0.6916666666666667)\n",
      "This movie doesn't care about cleverness, wit or any other kind of    intelligent humor. Sentiment(polarity=0.425, subjectivity=0.725)\n",
      "Those who find ugly meanings in beautiful things are corrupt without    being charming. Sentiment(polarity=0.0875, subjectivity=1.0)\n",
      "There are slow and repetitive parts, BUT it has just enough spice to    keep it interesting. Sentiment(polarity=-0.012500000000000011, subjectivity=0.4125)\n",
      "The script is not fantastic, but the acting is decent and the cinematography    is EXCELLENT! Sentiment(polarity=0.24166666666666667, subjectivity=0.6416666666666666)\n",
      "Roger Dodger is one of the most compelling variations on this theme. Sentiment(polarity=0.4, subjectivity=0.55)\n",
      "Roger Dodger is one of the least compelling variations on this theme. Sentiment(polarity=0.0, subjectivity=0.5)\n",
      "Roger Dodger is at least compelling as a variation on the theme. Sentiment(polarity=0.0, subjectivity=0.5)\n",
      "they fall in love with the product Sentiment(polarity=0.5, subjectivity=0.6)\n",
      "but then it breaks Sentiment(polarity=0.0, subjectivity=0.0)\n",
      "usually around the time the 90 day warranty expires Sentiment(polarity=-0.25, subjectivity=0.25)\n",
      "the twin towers collapsed today Sentiment(polarity=0.0, subjectivity=0.0)\n",
      "However, Mr. Carter solemnly argues, his client carried out the kidnapping    under orders and in the ''least offensive way possible.'' Sentiment(polarity=-0.15, subjectivity=0.7)\n"
     ]
    }
   ],
   "source": [
    "for sent in tricky_sentences:\n",
    "    s = TextBlob(sent)\n",
    "    print(s,s.sentiment)"
   ]
  },
  {
   "cell_type": "code",
   "execution_count": null,
   "id": "eb10b701",
   "metadata": {},
   "outputs": [],
   "source": []
  }
 ],
 "metadata": {
  "kernelspec": {
   "display_name": "Python 3 (ipykernel)",
   "language": "python",
   "name": "python3"
  },
  "language_info": {
   "codemirror_mode": {
    "name": "ipython",
    "version": 3
   },
   "file_extension": ".py",
   "mimetype": "text/x-python",
   "name": "python",
   "nbconvert_exporter": "python",
   "pygments_lexer": "ipython3",
   "version": "3.9.7"
  }
 },
 "nbformat": 4,
 "nbformat_minor": 5
}
