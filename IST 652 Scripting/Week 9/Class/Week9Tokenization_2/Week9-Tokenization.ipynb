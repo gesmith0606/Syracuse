{
 "cells": [
  {
   "cell_type": "code",
   "execution_count": null,
   "metadata": {},
   "outputs": [],
   "source": []
  },
  {
   "cell_type": "code",
   "execution_count": 6,
   "metadata": {},
   "outputs": [
    {
     "name": "stdout",
     "output_type": "stream",
     "text": [
      "['All', 'work', 'and', 'no', 'play', ',', 'makes', 'jack', 'a', 'dull', 'boy', ',', 'all', 'work', 'and', 'no', 'play']\n"
     ]
    }
   ],
   "source": [
    "'''\n",
    "Within Python interpreter:  (in the Terminal Window)\n",
    "\n",
    "Enter: import nltk\n",
    "       nltk.download()\n",
    "       \n",
    "Go to tab labeled all packages\n",
    "Scroll down to one with name starting with vader – click on download\n",
    "'''\n",
    "\n",
    "# word tokens\n",
    "\n",
    "from nltk.tokenize import sent_tokenize, word_tokenize\n",
    "\n",
    "data = \"All work and no play, makes jack a dull boy, all work and no play\"\n",
    "print(word_tokenize(data))"
   ]
  },
  {
   "cell_type": "code",
   "execution_count": 7,
   "metadata": {},
   "outputs": [
    {
     "name": "stdout",
     "output_type": "stream",
     "text": [
      "['All work and no play, makes jack dull boy.', 'All work and no play makes jack a dull boy.']\n"
     ]
    }
   ],
   "source": [
    "# sentence tokens\n",
    "\n",
    "data = \"All work and no play, makes jack dull boy. All work and no play makes jack a dull boy.\"\n",
    "print(sent_tokenize(data))"
   ]
  },
  {
   "cell_type": "code",
   "execution_count": 8,
   "metadata": {},
   "outputs": [
    {
     "name": "stdout",
     "output_type": "stream",
     "text": [
      "['All', 'work', 'play', 'makes', 'jack', 'dull', 'boy', '.', 'All', 'work', 'play', 'makes', 'jack', 'dull', 'boy', '.']\n"
     ]
    }
   ],
   "source": [
    "# remove stop words\n",
    "\n",
    "from nltk.tokenize import sent_tokenize, word_tokenize\n",
    "from nltk.corpus import stopwords\n",
    " \n",
    "data = \"All work and no play makes jack dull boy. All work and no play makes jack a dull boy.\"\n",
    "stopWords = set(stopwords.words('english'))   #  English stop words \n",
    "words = word_tokenize(data)\n",
    "wordsFiltered = []\n",
    "\n",
    "for w in words:\n",
    "    if w not in stopWords:\n",
    "        wordsFiltered.append(w)\n",
    "\n",
    "print(wordsFiltered)"
   ]
  },
  {
   "cell_type": "code",
   "execution_count": 9,
   "metadata": {},
   "outputs": [
    {
     "name": "stdout",
     "output_type": "stream",
     "text": [
      "179\n",
      "{'but', 'hers', 'him', 'our', 'they', 'were', 'been', 're', 'other', 'over', 'their', 'who', 'each', 'for', 'do', 'should', 'doing', 'at', 'is', 'where', 'not', \"shan't\", \"you'd\", 'only', 'whom', 'nor', 'once', 'ourselves', \"she's\", \"you're\", 'its', 'above', 'here', 'an', 'wouldn', 'because', 'shan', \"haven't\", \"didn't\", 'you', 's', 'does', 'be', 'what', 'while', 'on', \"don't\", 'isn', \"wouldn't\", 'yours', \"mightn't\", 'o', 'shouldn', 'no', 'those', \"should've\", 'about', 'during', 'when', 'then', 'theirs', 'up', 'm', 'am', 'why', 'himself', 'me', 'aren', \"isn't\", \"you've\", \"that'll\", 'will', 'myself', 'won', 'mustn', 'couldn', 'has', 'there', \"mustn't\", \"you'll\", 'how', 'own', \"needn't\", 'of', 'than', 'just', 'ain', 'after', \"couldn't\", 'same', 'with', 'didn', 'hadn', 'a', 'and', 'themselves', 'so', 'y', \"shouldn't\", 'any', 'that', 'to', 'hasn', 'between', 'out', 'we', 'under', 'more', 'this', 'she', 'ma', 'don', 'now', 'if', 'his', 'in', 'did', \"hadn't\", 'which', 'very', 'the', \"aren't\", 'such', 'll', 'mightn', 'being', 'was', 'again', \"wasn't\", 'doesn', 'had', 'needn', 'have', 'yourselves', 'off', 'both', \"won't\", 'having', 'into', 'before', 'your', 'herself', 'itself', 'haven', 'ours', 'wasn', 'i', 'her', 'these', 'all', 'some', 'down', 'd', 'until', 'most', 'too', \"hasn't\", 'from', 'are', 'as', 'my', 'it', 'below', \"doesn't\", 'them', \"it's\", 'by', 'through', 'can', 've', 'further', 't', 'few', 'against', 'weren', 'or', 'yourself', 'he', \"weren't\"}\n"
     ]
    }
   ],
   "source": [
    "print(len(stopWords))\n",
    "print(stopWords)"
   ]
  },
  {
   "cell_type": "code",
   "execution_count": 10,
   "metadata": {},
   "outputs": [
    {
     "name": "stdout",
     "output_type": "stream",
     "text": [
      "16\n",
      "['All', 'work', 'play', 'makes', 'jack', 'dull', 'boy', '.', 'All', 'work', 'play', 'makes', 'jack', 'dull', 'boy', '.']\n"
     ]
    }
   ],
   "source": [
    "print(len(wordsFiltered))\n",
    "print(wordsFiltered)"
   ]
  },
  {
   "cell_type": "code",
   "execution_count": 11,
   "metadata": {},
   "outputs": [
    {
     "name": "stdout",
     "output_type": "stream",
     "text": [
      "game:game\n",
      "gaming:game\n",
      "gamed:game\n",
      "games:game\n",
      "tweets:tweet\n",
      "tweeted:tweet\n",
      "tweeting:tweet\n"
     ]
    }
   ],
   "source": [
    "# word Stems\n",
    "\n",
    "from nltk.stem import PorterStemmer\n",
    "from nltk.tokenize import sent_tokenize, word_tokenize\n",
    "\n",
    "words = [\"game\",\"gaming\",\"gamed\",\"games\",\"tweets\",\"tweeted\",\"tweeting\"]\n",
    "ps = PorterStemmer()\n",
    "\n",
    "for word in words:\n",
    "    print(word + \":\" + ps.stem(word))"
   ]
  },
  {
   "cell_type": "code",
   "execution_count": 12,
   "metadata": {},
   "outputs": [
    {
     "name": "stdout",
     "output_type": "stream",
     "text": [
      "gaming:game\n",
      ",:,\n",
      "the:the\n",
      "gamers:gamer\n",
      "play:play\n",
      "games:game\n"
     ]
    }
   ],
   "source": [
    "from nltk.stem import PorterStemmer\n",
    "from nltk.tokenize import sent_tokenize, word_tokenize\n",
    "\n",
    "ps = PorterStemmer()\n",
    "\n",
    "sentence = \"gaming, the gamers play games\"\n",
    "words = word_tokenize(sentence)\n",
    "\n",
    "for word in words:\n",
    "    print(word + \":\" + ps.stem(word))"
   ]
  },
  {
   "cell_type": "code",
   "execution_count": 13,
   "metadata": {},
   "outputs": [
    {
     "name": "stdout",
     "output_type": "stream",
     "text": [
      "\n",
      "Original string:\n",
      "Reset your password if you just can't remember your old one.\n",
      "\n",
      "Split all punctuation into separate tokens:\n",
      "['Reset', 'your', 'password', 'if', 'you', 'just', 'can', \"'\", 't', 'remember', 'your', 'old', 'one', '.']\n"
     ]
    }
   ],
   "source": [
    "#  Split all punctuation into separate tokens\n",
    "\n",
    "from nltk.tokenize import WordPunctTokenizer\n",
    "text = \"Reset your password if you just can't remember your old one.\"\n",
    "print(\"\\nOriginal string:\")\n",
    "print(text)\n",
    "result = WordPunctTokenizer().tokenize(text)\n",
    "print(\"\\nSplit all punctuation into separate tokens:\")\n",
    "print(result)"
   ]
  },
  {
   "cell_type": "code",
   "execution_count": 14,
   "metadata": {},
   "outputs": [
    {
     "name": "stdout",
     "output_type": "stream",
     "text": [
      "\n",
      "Original Tweet:\n",
      "NoSQL introduction - w3resource http://bit.ly/1ngHC5F  #nosql #database #webdev\n",
      "\n",
      "Tokenize a twitter text:\n",
      "['NoSQL', 'introduction', '-', 'w3resource', 'http://bit.ly/1ngHC5F', '#nosql', '#database', '#webdev']\n"
     ]
    }
   ],
   "source": [
    "#  Tokenize a twitter text\n",
    "\n",
    "from nltk.tokenize import TweetTokenizer\n",
    "tknzr = TweetTokenizer(strip_handles=True, reduce_len=True)\n",
    "tweet_text = \"NoSQL introduction - w3resource http://bit.ly/1ngHC5F  #nosql #database #webdev\"\n",
    "print(\"\\nOriginal Tweet:\")\n",
    "print(tweet_text)\n",
    "result = tknzr.tokenize(tweet_text)\n",
    "print(\"\\nTokenize a twitter text:\")\n",
    "print(result) "
   ]
  },
  {
   "cell_type": "code",
   "execution_count": 15,
   "metadata": {},
   "outputs": [
    {
     "name": "stdout",
     "output_type": "stream",
     "text": [
      "\n",
      "Original Tweet:\n",
      "@abcd @pqrs NoSQL introduction - w3resource http://bit.ly/1ngHC5F  #nosql #database #webdev\n",
      "\n",
      "Tokenize a twitter text:\n",
      "['NoSQL', 'introduction', '-', 'w3resource', 'http://bit.ly/1ngHC5F', '#nosql', '#database', '#webdev']\n"
     ]
    }
   ],
   "source": [
    "#  Remove username handles from a twitter text\n",
    "\n",
    "from nltk.tokenize import TweetTokenizer\n",
    "tknzr = TweetTokenizer(strip_handles=True)\n",
    "tweet_text = \"@abcd @pqrs NoSQL introduction - w3resource http://bit.ly/1ngHC5F  #nosql #database #webdev\"\n",
    "print(\"\\nOriginal Tweet:\")\n",
    "print(tweet_text)\n",
    "result = tknzr.tokenize(tweet_text)\n",
    "print(\"\\nTokenize a twitter text:\")\n",
    "print(result)"
   ]
  },
  {
   "cell_type": "code",
   "execution_count": 16,
   "metadata": {},
   "outputs": [
    {
     "name": "stdout",
     "output_type": "stream",
     "text": [
      "\n",
      "Original Tweet:\n",
      "\n",
      "Mr. Smith waited for the train. The train was late.\n",
      "Mary and Samantha took the bus. I looked for Mary and\n",
      "Samantha at the bus station.\n",
      "\n",
      "Mr. Smith waited for the train.\n",
      "==============\n",
      "The train was late.\n",
      "==============\n",
      "Mary and Samantha took the bus.\n",
      "==============\n",
      "I looked for Mary and\n",
      "Samantha at the bus station.\n"
     ]
    }
   ],
   "source": [
    "#  Read a given text through each line and look for sentences\n",
    "\n",
    "import nltk.data\n",
    "text = '''\n",
    "Mr. Smith waited for the train. The train was late.\n",
    "Mary and Samantha took the bus. I looked for Mary and\n",
    "Samantha at the bus station.\n",
    "'''\n",
    "print(\"\\nOriginal Tweet:\")\n",
    "print(text)\n",
    "sent_detector = nltk.data.load('tokenizers/punkt/english.pickle')\n",
    "print('\\n==============\\n'.join(sent_detector.tokenize(text.strip())))\n"
   ]
  },
  {
   "cell_type": "code",
   "execution_count": null,
   "metadata": {},
   "outputs": [],
   "source": []
  }
 ],
 "metadata": {
  "kernelspec": {
   "display_name": "Python 3 (ipykernel)",
   "language": "python",
   "name": "python3"
  },
  "language_info": {
   "codemirror_mode": {
    "name": "ipython",
    "version": 3
   },
   "file_extension": ".py",
   "mimetype": "text/x-python",
   "name": "python",
   "nbconvert_exporter": "python",
   "pygments_lexer": "ipython3",
   "version": "3.9.7"
  }
 },
 "nbformat": 4,
 "nbformat_minor": 2
}
