{
 "cells": [
  {
   "cell_type": "code",
   "execution_count": 1,
   "metadata": {},
   "outputs": [],
   "source": [
    "compare_list = ['https://t.co/9z2J3P33Uc',\n",
    "               'laugh/cry',\n",
    "               '😬😭😓🤢🙄😱',\n",
    "               \"world's problems\",\n",
    "               \"@datageneral\",\n",
    "                \"It's interesting\",\n",
    "               \"don't spell my name right\",\n",
    "               'all-nighter']"
   ]
  },
  {
   "cell_type": "code",
   "execution_count": 2,
   "metadata": {},
   "outputs": [
    {
     "name": "stdout",
     "output_type": "stream",
     "text": [
      "['https', ':', '//t.co/9z2J3P33Uc']\n",
      "['laugh/cry']\n",
      "['😬😭😓🤢🙄😱']\n",
      "['world', \"'s\", 'problems']\n",
      "['@', 'datageneral']\n",
      "['It', \"'s\", 'interesting']\n",
      "['do', \"n't\", 'spell', 'my', 'name', 'right']\n",
      "['all-nighter']\n"
     ]
    }
   ],
   "source": [
    "#WORD_TOKENIZE separate words using spaces and punctuations.\n",
    "\n",
    "from nltk.tokenize import word_tokenize\n",
    "word_tokens = []\n",
    "for sent in compare_list:\n",
    "    print(word_tokenize(sent))\n",
    "    word_tokens.append(word_tokenize(sent))"
   ]
  },
  {
   "cell_type": "code",
   "execution_count": 3,
   "metadata": {},
   "outputs": [
    {
     "name": "stdout",
     "output_type": "stream",
     "text": [
      "['https', '://', 't', '.', 'co', '/', '9z2J3P33Uc']\n",
      "['laugh', '/', 'cry']\n",
      "['😬😭😓🤢🙄😱']\n",
      "['world', \"'\", 's', 'problems']\n",
      "['@', 'datageneral']\n",
      "['It', \"'\", 's', 'interesting']\n",
      "['don', \"'\", 't', 'spell', 'my', 'name', 'right']\n",
      "['all', '-', 'nighter']\n"
     ]
    }
   ],
   "source": [
    "#WORDPUNCTTOKENIZER splits all punctuations into separate tokens. \n",
    "\n",
    "from nltk.tokenize import WordPunctTokenizer\n",
    "punct_tokenizer = WordPunctTokenizer()\n",
    "punct_tokens = []\n",
    "for sent in compare_list:\n",
    "    print(punct_tokenizer.tokenize(sent))\n",
    "    punct_tokens.append(punct_tokenizer.tokenize(sent))"
   ]
  },
  {
   "cell_type": "code",
   "execution_count": 4,
   "metadata": {},
   "outputs": [
    {
     "name": "stdout",
     "output_type": "stream",
     "text": [
      "['https', 't', 'co', '9z2J3P33Uc']\n",
      "['laugh', 'cry']\n",
      "[]\n",
      "[\"world's\", 'problems']\n",
      "['datageneral']\n",
      "[\"It's\", 'interesting']\n",
      "[\"don't\", 'spell', 'my', 'name', 'right']\n",
      "['all', 'nighter']\n"
     ]
    }
   ],
   "source": [
    "#REGEXPTOKENIZER control how to tokenize text. \\w+ matches one or more word character (alphanumeric & underscore)\n",
    "\n",
    "from nltk.tokenize import RegexpTokenizer\n",
    "match_tokenizer = RegexpTokenizer(\"[\\w']+\")\n",
    "match_tokens = []\n",
    "for sent in compare_list:   \n",
    "    print(match_tokenizer.tokenize(sent))\n",
    "    match_tokens.append(match_tokenizer.tokenize(sent))"
   ]
  },
  {
   "cell_type": "code",
   "execution_count": 5,
   "metadata": {},
   "outputs": [
    {
     "name": "stdout",
     "output_type": "stream",
     "text": [
      "['https://t.co/9z2J3P33Uc']\n",
      "['laugh/cry']\n",
      "['😬😭😓🤢🙄😱']\n",
      "[\"world's\", 'problems']\n",
      "['@datageneral']\n",
      "[\"It's\", 'interesting']\n",
      "[\"don't\", 'spell', 'my', 'name', 'right']\n",
      "['all-nighter']\n"
     ]
    }
   ],
   "source": [
    "'''RegexpTokenizer can also work by matching the gaps. When the parameter gaps=True is added, \n",
    "the matching pattern will be used as the separators. \\s+ matches one or more space.'''\n",
    "\n",
    "space_tokenizer = RegexpTokenizer(\"\\s+\", gaps=True)\n",
    "space_tokens = []\n",
    "for sent in compare_list:\n",
    "    print(space_tokenizer.tokenize(sent))\n",
    "    space_tokens.append(space_tokenizer.tokenize(sent))"
   ]
  },
  {
   "cell_type": "code",
   "execution_count": 6,
   "metadata": {},
   "outputs": [
    {
     "name": "stdout",
     "output_type": "stream",
     "text": [
      "['https://t.co/9z2J3P33Uc']\n",
      "['laugh', '/', 'cry']\n",
      "['😬', '😭', '😓', '🤢', '🙄', '😱']\n",
      "[\"world's\", 'problems']\n",
      "['@datageneral']\n",
      "[\"It's\", 'interesting']\n",
      "[\"don't\", 'spell', 'my', 'name', 'right']\n",
      "['all-nighter']\n"
     ]
    }
   ],
   "source": [
    "#TWEETTOKENIZER the best way to tokenize tweets is to use the tokenizer built to tokenize tweets\n",
    "from nltk.tokenize import TweetTokenizer\n",
    "tweet_tokenizer = TweetTokenizer()\n",
    "tweet_tokens = []\n",
    "for sent in compare_list:\n",
    "    print(tweet_tokenizer.tokenize(sent))\n",
    "    tweet_tokens.append(tweet_tokenizer.tokenize(sent))"
   ]
  },
  {
   "cell_type": "code",
   "execution_count": 7,
   "metadata": {},
   "outputs": [],
   "source": [
    "'''Put Everything Together\n",
    "Instead of taking the time to analyze the outcome of each tokenizer,\n",
    "we can put everything in one pd.dataframe for fast and accurate interpretation.'''\n",
    "import pandas as pd\n",
    "tokenizers = {'word_tokenize': word_tokens,\n",
    "             'WordPunctTokenize':punct_tokens,\n",
    "             'RegrexTokenizer for matching':match_tokens,\n",
    "             'RegrexTokenizer for white space': space_tokens,\n",
    "             'TweetTokenizer': tweet_tokens }\n",
    "df = pd.DataFrame.from_dict(tokenizers)"
   ]
  },
  {
   "cell_type": "code",
   "execution_count": 8,
   "metadata": {},
   "outputs": [
    {
     "data": {
      "text/html": [
       "<div>\n",
       "<style scoped>\n",
       "    .dataframe tbody tr th:only-of-type {\n",
       "        vertical-align: middle;\n",
       "    }\n",
       "\n",
       "    .dataframe tbody tr th {\n",
       "        vertical-align: top;\n",
       "    }\n",
       "\n",
       "    .dataframe thead th {\n",
       "        text-align: right;\n",
       "    }\n",
       "</style>\n",
       "<table border=\"1\" class=\"dataframe\">\n",
       "  <thead>\n",
       "    <tr style=\"text-align: right;\">\n",
       "      <th></th>\n",
       "      <th>word_tokenize</th>\n",
       "      <th>WordPunctTokenize</th>\n",
       "      <th>RegrexTokenizer for matching</th>\n",
       "      <th>RegrexTokenizer for white space</th>\n",
       "      <th>TweetTokenizer</th>\n",
       "    </tr>\n",
       "  </thead>\n",
       "  <tbody>\n",
       "    <tr>\n",
       "      <th>0</th>\n",
       "      <td>[https, :, //t.co/9z2J3P33Uc]</td>\n",
       "      <td>[https, ://, t, ., co, /, 9z2J3P33Uc]</td>\n",
       "      <td>[https, t, co, 9z2J3P33Uc]</td>\n",
       "      <td>[https://t.co/9z2J3P33Uc]</td>\n",
       "      <td>[https://t.co/9z2J3P33Uc]</td>\n",
       "    </tr>\n",
       "    <tr>\n",
       "      <th>1</th>\n",
       "      <td>[laugh/cry]</td>\n",
       "      <td>[laugh, /, cry]</td>\n",
       "      <td>[laugh, cry]</td>\n",
       "      <td>[laugh/cry]</td>\n",
       "      <td>[laugh, /, cry]</td>\n",
       "    </tr>\n",
       "    <tr>\n",
       "      <th>2</th>\n",
       "      <td>[😬😭😓🤢🙄😱]</td>\n",
       "      <td>[😬😭😓🤢🙄😱]</td>\n",
       "      <td>[]</td>\n",
       "      <td>[😬😭😓🤢🙄😱]</td>\n",
       "      <td>[😬, 😭, 😓, 🤢, 🙄, 😱]</td>\n",
       "    </tr>\n",
       "    <tr>\n",
       "      <th>3</th>\n",
       "      <td>[world, 's, problems]</td>\n",
       "      <td>[world, ', s, problems]</td>\n",
       "      <td>[world's, problems]</td>\n",
       "      <td>[world's, problems]</td>\n",
       "      <td>[world's, problems]</td>\n",
       "    </tr>\n",
       "    <tr>\n",
       "      <th>4</th>\n",
       "      <td>[@, datageneral]</td>\n",
       "      <td>[@, datageneral]</td>\n",
       "      <td>[datageneral]</td>\n",
       "      <td>[@datageneral]</td>\n",
       "      <td>[@datageneral]</td>\n",
       "    </tr>\n",
       "    <tr>\n",
       "      <th>5</th>\n",
       "      <td>[It, 's, interesting]</td>\n",
       "      <td>[It, ', s, interesting]</td>\n",
       "      <td>[It's, interesting]</td>\n",
       "      <td>[It's, interesting]</td>\n",
       "      <td>[It's, interesting]</td>\n",
       "    </tr>\n",
       "    <tr>\n",
       "      <th>6</th>\n",
       "      <td>[do, n't, spell, my, name, right]</td>\n",
       "      <td>[don, ', t, spell, my, name, right]</td>\n",
       "      <td>[don't, spell, my, name, right]</td>\n",
       "      <td>[don't, spell, my, name, right]</td>\n",
       "      <td>[don't, spell, my, name, right]</td>\n",
       "    </tr>\n",
       "    <tr>\n",
       "      <th>7</th>\n",
       "      <td>[all-nighter]</td>\n",
       "      <td>[all, -, nighter]</td>\n",
       "      <td>[all, nighter]</td>\n",
       "      <td>[all-nighter]</td>\n",
       "      <td>[all-nighter]</td>\n",
       "    </tr>\n",
       "  </tbody>\n",
       "</table>\n",
       "</div>"
      ],
      "text/plain": [
       "                       word_tokenize                      WordPunctTokenize  \\\n",
       "0      [https, :, //t.co/9z2J3P33Uc]  [https, ://, t, ., co, /, 9z2J3P33Uc]   \n",
       "1                        [laugh/cry]                        [laugh, /, cry]   \n",
       "2                           [😬😭😓🤢🙄😱]                               [😬😭😓🤢🙄😱]   \n",
       "3              [world, 's, problems]                [world, ', s, problems]   \n",
       "4                   [@, datageneral]                       [@, datageneral]   \n",
       "5              [It, 's, interesting]                [It, ', s, interesting]   \n",
       "6  [do, n't, spell, my, name, right]    [don, ', t, spell, my, name, right]   \n",
       "7                      [all-nighter]                      [all, -, nighter]   \n",
       "\n",
       "      RegrexTokenizer for matching  RegrexTokenizer for white space  \\\n",
       "0       [https, t, co, 9z2J3P33Uc]        [https://t.co/9z2J3P33Uc]   \n",
       "1                     [laugh, cry]                      [laugh/cry]   \n",
       "2                               []                         [😬😭😓🤢🙄😱]   \n",
       "3              [world's, problems]              [world's, problems]   \n",
       "4                    [datageneral]                   [@datageneral]   \n",
       "5              [It's, interesting]              [It's, interesting]   \n",
       "6  [don't, spell, my, name, right]  [don't, spell, my, name, right]   \n",
       "7                   [all, nighter]                    [all-nighter]   \n",
       "\n",
       "                    TweetTokenizer  \n",
       "0        [https://t.co/9z2J3P33Uc]  \n",
       "1                  [laugh, /, cry]  \n",
       "2               [😬, 😭, 😓, 🤢, 🙄, 😱]  \n",
       "3              [world's, problems]  \n",
       "4                   [@datageneral]  \n",
       "5              [It's, interesting]  \n",
       "6  [don't, spell, my, name, right]  \n",
       "7                    [all-nighter]  "
      ]
     },
     "metadata": {},
     "output_type": "display_data"
    }
   ],
   "source": [
    "display(df)\n"
   ]
  },
  {
   "cell_type": "code",
   "execution_count": 9,
   "metadata": {},
   "outputs": [
    {
     "data": {
      "text/html": [
       "<div>\n",
       "<style scoped>\n",
       "    .dataframe tbody tr th:only-of-type {\n",
       "        vertical-align: middle;\n",
       "    }\n",
       "\n",
       "    .dataframe tbody tr th {\n",
       "        vertical-align: top;\n",
       "    }\n",
       "\n",
       "    .dataframe thead th {\n",
       "        text-align: right;\n",
       "    }\n",
       "</style>\n",
       "<table border=\"1\" class=\"dataframe\">\n",
       "  <thead>\n",
       "    <tr style=\"text-align: right;\">\n",
       "      <th></th>\n",
       "      <th>word_tokenize</th>\n",
       "      <th>WordPunctTokenize</th>\n",
       "      <th>RegrexTokenizer for matching</th>\n",
       "      <th>RegrexTokenizer for white space</th>\n",
       "      <th>TweetTokenizer</th>\n",
       "    </tr>\n",
       "  </thead>\n",
       "  <tbody>\n",
       "    <tr>\n",
       "      <th>0</th>\n",
       "      <td>[https, :, //t.co/9z2J3P33Uc]</td>\n",
       "      <td>[https, ://, t, ., co, /, 9z2J3P33Uc]</td>\n",
       "      <td>[https, t, co, 9z2J3P33Uc]</td>\n",
       "      <td>[https://t.co/9z2J3P33Uc]</td>\n",
       "      <td>[https://t.co/9z2J3P33Uc]</td>\n",
       "    </tr>\n",
       "    <tr>\n",
       "      <th>1</th>\n",
       "      <td>[laugh/cry]</td>\n",
       "      <td>[laugh, /, cry]</td>\n",
       "      <td>[laugh, cry]</td>\n",
       "      <td>[laugh/cry]</td>\n",
       "      <td>[laugh, /, cry]</td>\n",
       "    </tr>\n",
       "    <tr>\n",
       "      <th>2</th>\n",
       "      <td>[😬😭😓🤢🙄😱]</td>\n",
       "      <td>[😬😭😓🤢🙄😱]</td>\n",
       "      <td>[]</td>\n",
       "      <td>[😬😭😓🤢🙄😱]</td>\n",
       "      <td>[😬, 😭, 😓, 🤢, 🙄, 😱]</td>\n",
       "    </tr>\n",
       "    <tr>\n",
       "      <th>3</th>\n",
       "      <td>[world, 's, problems]</td>\n",
       "      <td>[world, ', s, problems]</td>\n",
       "      <td>[world's, problems]</td>\n",
       "      <td>[world's, problems]</td>\n",
       "      <td>[world's, problems]</td>\n",
       "    </tr>\n",
       "    <tr>\n",
       "      <th>4</th>\n",
       "      <td>[@, datageneral]</td>\n",
       "      <td>[@, datageneral]</td>\n",
       "      <td>[datageneral]</td>\n",
       "      <td>[@datageneral]</td>\n",
       "      <td>[@datageneral]</td>\n",
       "    </tr>\n",
       "    <tr>\n",
       "      <th>5</th>\n",
       "      <td>[It, 's, interesting]</td>\n",
       "      <td>[It, ', s, interesting]</td>\n",
       "      <td>[It's, interesting]</td>\n",
       "      <td>[It's, interesting]</td>\n",
       "      <td>[It's, interesting]</td>\n",
       "    </tr>\n",
       "    <tr>\n",
       "      <th>6</th>\n",
       "      <td>[do, n't, spell, my, name, right]</td>\n",
       "      <td>[don, ', t, spell, my, name, right]</td>\n",
       "      <td>[don't, spell, my, name, right]</td>\n",
       "      <td>[don't, spell, my, name, right]</td>\n",
       "      <td>[don't, spell, my, name, right]</td>\n",
       "    </tr>\n",
       "    <tr>\n",
       "      <th>7</th>\n",
       "      <td>[all-nighter]</td>\n",
       "      <td>[all, -, nighter]</td>\n",
       "      <td>[all, nighter]</td>\n",
       "      <td>[all-nighter]</td>\n",
       "      <td>[all-nighter]</td>\n",
       "    </tr>\n",
       "  </tbody>\n",
       "</table>\n",
       "</div>"
      ],
      "text/plain": [
       "                       word_tokenize                      WordPunctTokenize  \\\n",
       "0      [https, :, //t.co/9z2J3P33Uc]  [https, ://, t, ., co, /, 9z2J3P33Uc]   \n",
       "1                        [laugh/cry]                        [laugh, /, cry]   \n",
       "2                           [😬😭😓🤢🙄😱]                               [😬😭😓🤢🙄😱]   \n",
       "3              [world, 's, problems]                [world, ', s, problems]   \n",
       "4                   [@, datageneral]                       [@, datageneral]   \n",
       "5              [It, 's, interesting]                [It, ', s, interesting]   \n",
       "6  [do, n't, spell, my, name, right]    [don, ', t, spell, my, name, right]   \n",
       "7                      [all-nighter]                      [all, -, nighter]   \n",
       "\n",
       "      RegrexTokenizer for matching  RegrexTokenizer for white space  \\\n",
       "0       [https, t, co, 9z2J3P33Uc]        [https://t.co/9z2J3P33Uc]   \n",
       "1                     [laugh, cry]                      [laugh/cry]   \n",
       "2                               []                         [😬😭😓🤢🙄😱]   \n",
       "3              [world's, problems]              [world's, problems]   \n",
       "4                    [datageneral]                   [@datageneral]   \n",
       "5              [It's, interesting]              [It's, interesting]   \n",
       "6  [don't, spell, my, name, right]  [don't, spell, my, name, right]   \n",
       "7                   [all, nighter]                    [all-nighter]   \n",
       "\n",
       "                    TweetTokenizer  \n",
       "0        [https://t.co/9z2J3P33Uc]  \n",
       "1                  [laugh, /, cry]  \n",
       "2               [😬, 😭, 😓, 🤢, 🙄, 😱]  \n",
       "3              [world's, problems]  \n",
       "4                   [@datageneral]  \n",
       "5              [It's, interesting]  \n",
       "6  [don't, spell, my, name, right]  \n",
       "7                    [all-nighter]  "
      ]
     },
     "execution_count": 9,
     "metadata": {},
     "output_type": "execute_result"
    }
   ],
   "source": [
    "df"
   ]
  },
  {
   "cell_type": "code",
   "execution_count": null,
   "metadata": {},
   "outputs": [],
   "source": []
  }
 ],
 "metadata": {
  "kernelspec": {
   "display_name": "Python 3 (ipykernel)",
   "language": "python",
   "name": "python3"
  },
  "language_info": {
   "codemirror_mode": {
    "name": "ipython",
    "version": 3
   },
   "file_extension": ".py",
   "mimetype": "text/x-python",
   "name": "python",
   "nbconvert_exporter": "python",
   "pygments_lexer": "ipython3",
   "version": "3.9.7"
  }
 },
 "nbformat": 4,
 "nbformat_minor": 4
}
