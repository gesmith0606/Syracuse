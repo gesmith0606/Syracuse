{
 "cells": [
  {
   "cell_type": "code",
   "execution_count": 1,
   "id": "c39a570a",
   "metadata": {},
   "outputs": [],
   "source": [
    "text = '''Celebrate #NationalPetDay with our puppy playlist: https://t.co/eBHHFPW0z7 https://t.co/uix5AY2FFQ<a href=\"http://msande.stanford.edu\"> Management Science and Engineering </a><p\n",
    "\n",
    "      Address: Terman 311, Stanford CA 94305<br>\n",
    "\n",
    "      Email: ashishg@cs.stanford.edu<br>\n",
    "\n",
    "      Phone: (650)814-9999 [Cell], Fax: (650)723-9999<br>\n",
    "\n",
    "      Admin asst: Roz Morf, Terman 405, 650-723-9999, rozm@stanford.edu</p>\n",
    "\n",
    "The U.S.A. olympic teams have east-west training centers with up-to-date equipment.\n",
    "\n",
    "'''"
   ]
  },
  {
   "cell_type": "code",
   "execution_count": 2,
   "id": "5d4ed544",
   "metadata": {},
   "outputs": [],
   "source": [
    "# find URL \n",
    "# '(http:\\/\\/|https:\\/\\/)[a-z0-9]+([\\.]{1}[a-z0-9]+)*\\.[a-z]+(\\/.*)?'"
   ]
  },
  {
   "cell_type": "code",
   "execution_count": null,
   "id": "2b966152",
   "metadata": {},
   "outputs": [],
   "source": [
    "# find phone number \n",
    "#'?\\d3[-]?\\d{3}-\\d{4}'"
   ]
  },
  {
   "cell_type": "code",
   "execution_count": null,
   "id": "7d272901",
   "metadata": {},
   "outputs": [],
   "source": [
    "# find email \n",
    "#   '([A-Z|a-z]+@([A-Z|a-z]+[\\.])?[A-Z|a-z]+[\\.][EDU,edu]+)'"
   ]
  },
  {
   "cell_type": "code",
   "execution_count": null,
   "id": "765fa96f",
   "metadata": {},
   "outputs": [],
   "source": [
    "# Match the (all) words \n",
    "#  '([A-Z|a-z]+@([A-Z|a-z]+[\\.])?[A-Z|a-z]+[\\.][EDU,edu]+)'"
   ]
  },
  {
   "cell_type": "code",
   "execution_count": null,
   "id": "eaedbfa5",
   "metadata": {},
   "outputs": [],
   "source": [
    "# Match acronyms (there should be two results, with or without dots: CA and U.S.A.)\n",
    "# [A-Z]\\.?[A-Z]\\.?[A-Z]?\\.?\\s"
   ]
  }
 ],
 "metadata": {
  "kernelspec": {
   "display_name": "Python 3 (ipykernel)",
   "language": "python",
   "name": "python3"
  },
  "language_info": {
   "codemirror_mode": {
    "name": "ipython",
    "version": 3
   },
   "file_extension": ".py",
   "mimetype": "text/x-python",
   "name": "python",
   "nbconvert_exporter": "python",
   "pygments_lexer": "ipython3",
   "version": "3.9.7"
  }
 },
 "nbformat": 4,
 "nbformat_minor": 5
}
