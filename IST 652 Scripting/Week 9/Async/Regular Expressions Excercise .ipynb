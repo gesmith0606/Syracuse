{
 "cells": [
  {
   "cell_type": "code",
   "execution_count": 3,
   "id": "8a782059",
   "metadata": {},
   "outputs": [],
   "source": [
    "text = '''Celebrate #NationalPetDay with our puppy playlist: https://t.co/eBHHFPW0z7 https://t.co/uix5AY2FFQ<a href=\"http://msande.stanford.edu\"> Management Science and Engineering </a><p class=\"MsoNormal\"\n",
    "\n",
    "      Address: Terman 311, Stanford CA 94305<br>\n",
    "\n",
    "      Email: ashishg@cs.stanford.edu<br>\n",
    "\n",
    "      Phone: (650)814-9999 [Cell], Fax: (650)723-9999<br>\n",
    "\n",
    "      Admin asst: Roz Morf, Terman 405, 650-723-9999, rozm@stanford.edu</p>\n",
    "\n",
    "The U.S.A. olympic teams have east-west training centers with up-to-date equipment. \n",
    "'''"
   ]
  },
  {
   "cell_type": "code",
   "execution_count": 5,
   "id": "cc754fc8",
   "metadata": {},
   "outputs": [],
   "source": [
    "# find URL \n",
    "#(http)s?://"
   ]
  },
  {
   "cell_type": "code",
   "execution_count": 6,
   "id": "7ef9ba4d",
   "metadata": {},
   "outputs": [],
   "source": [
    "# find phone number \n",
    "#[(]?[0-9]+[)]?[-]?[0-9]+[-][0-9]+\n"
   ]
  },
  {
   "cell_type": "code",
   "execution_count": 8,
   "id": "8e1a8229",
   "metadata": {},
   "outputs": [],
   "source": [
    "# find email \n",
    "# [a-z]+@[a-z]+.[a-z]+.?[a-z]+"
   ]
  },
  {
   "cell_type": "code",
   "execution_count": null,
   "id": "2fbadcfb",
   "metadata": {},
   "outputs": [],
   "source": [
    "# Match the (all) words \n"
   ]
  },
  {
   "cell_type": "code",
   "execution_count": null,
   "id": "60de9158",
   "metadata": {},
   "outputs": [],
   "source": [
    "# Match acronyms (there should be two results, with or without dots: CA and U.S.A.)\n",
    "# [A-Z]\\.?[A-Z]\\.?[A-Z]?\\.?\\s\n",
    "\n"
   ]
  }
 ],
 "metadata": {
  "kernelspec": {
   "display_name": "Python 3 (ipykernel)",
   "language": "python",
   "name": "python3"
  },
  "language_info": {
   "codemirror_mode": {
    "name": "ipython",
    "version": 3
   },
   "file_extension": ".py",
   "mimetype": "text/x-python",
   "name": "python",
   "nbconvert_exporter": "python",
   "pygments_lexer": "ipython3",
   "version": "3.9.7"
  }
 },
 "nbformat": 4,
 "nbformat_minor": 5
}
