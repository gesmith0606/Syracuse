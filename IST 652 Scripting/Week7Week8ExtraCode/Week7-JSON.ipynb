{
 "cells": [
  {
   "cell_type": "code",
   "execution_count": 1,
   "metadata": {},
   "outputs": [
    {
     "data": {
      "text/plain": [
       "dict"
      ]
     },
     "execution_count": 1,
     "metadata": {},
     "output_type": "execute_result"
    }
   ],
   "source": [
    "import urllib.request \n",
    "import json\n",
    "earthquake_url = \"http://earthquake.usgs.gov/earthquakes/feed/v1.0/summary/significant_month.geojson\" \n",
    "response = urllib.request.urlopen(earthquake_url)\n",
    "json_string = response.read().decode('utf-8')\n",
    "eq_parsed_json = json.loads(json_string) \n",
    "type(eq_parsed_json) "
   ]
  },
  {
   "cell_type": "code",
   "execution_count": 2,
   "metadata": {},
   "outputs": [
    {
     "data": {
      "text/plain": [
       "'USGS Significant Earthquakes, Past Month'"
      ]
     },
     "execution_count": 2,
     "metadata": {},
     "output_type": "execute_result"
    }
   ],
   "source": [
    "eq_parsed_json.keys() \n",
    "eq_parsed_json['metadata'] \n",
    "title = eq_parsed_json['metadata']['title']\n",
    "title\n"
   ]
  },
  {
   "cell_type": "code",
   "execution_count": 3,
   "metadata": {},
   "outputs": [
    {
     "data": {
      "text/plain": [
       "10"
      ]
     },
     "execution_count": 3,
     "metadata": {},
     "output_type": "execute_result"
    }
   ],
   "source": [
    "quakelist = eq_parsed_json['features']\n",
    "len(quakelist)"
   ]
  },
  {
   "cell_type": "code",
   "execution_count": 4,
   "metadata": {},
   "outputs": [
    {
     "name": "stdout",
     "output_type": "stream",
     "text": [
      "{\n",
      "  \"type\": \"Feature\",\n",
      "  \"properties\": {\n",
      "    \"mag\": 3.76,\n",
      "    \"place\": \"9km ENE of Gilroy, CA\",\n",
      "    \"time\": 1613957893840,\n",
      "    \"updated\": 1614104798901,\n",
      "    \"tz\": null,\n",
      "    \"url\": \"https://earthquake.usgs.gov/earthquakes/eventpage/nc73526151\",\n",
      "    \"detail\": \"https://earthquake.usgs.gov/earthquakes/feed/v1.0/detail/nc73526151.geojson\",\n",
      "    \"felt\": 1280,\n",
      "    \"cdi\": 3.9,\n",
      "    \"mmi\": 4.045,\n",
      "    \"alert\": null,\n",
      "    \"status\": \"reviewed\",\n",
      "    \"tsunami\": 0,\n",
      "    \"sig\": 608,\n",
      "    \"net\": \"nc\",\n",
      "    \"code\": \"73526151\",\n",
      "    \"ids\": \",ew1613957893,nc73526151,us6000djz4,\",\n",
      "    \"sources\": \",ew,nc,us,\",\n",
      "    \"types\": \",dyfi,focal-mechanism,moment-tensor,nearby-cities,origin,phase-data,scitech-link,shake-alert,shakemap,\",\n",
      "    \"nst\": 164,\n",
      "    \"dmin\": 0.02089,\n",
      "    \"rms\": 0.15,\n",
      "    \"gap\": 33,\n",
      "    \"magType\": \"mw\",\n",
      "    \"type\": \"earthquake\",\n",
      "    \"title\": \"M 3.8 - 9km ENE of Gilroy, CA\"\n",
      "  },\n",
      "  \"geometry\": {\n",
      "    \"type\": \"Point\",\n",
      "    \"coordinates\": [\n",
      "      -121.4781667,\n",
      "      37.0456667,\n",
      "      6.22\n",
      "    ]\n",
      "  },\n",
      "  \"id\": \"nc73526151\"\n",
      "}\n"
     ]
    }
   ],
   "source": [
    "quake1 = quakelist[0]\n",
    "quake1.keys()\n",
    "print(json.dumps(quake1, indent = 2))\n"
   ]
  },
  {
   "cell_type": "code",
   "execution_count": 5,
   "metadata": {},
   "outputs": [
    {
     "data": {
      "text/plain": [
       "dict"
      ]
     },
     "execution_count": 5,
     "metadata": {},
     "output_type": "execute_result"
    }
   ],
   "source": [
    "type(eq_parsed_json)"
   ]
  },
  {
   "cell_type": "code",
   "execution_count": 6,
   "metadata": {},
   "outputs": [
    {
     "data": {
      "text/plain": [
       "dict_keys(['type', 'metadata', 'features', 'bbox'])"
      ]
     },
     "execution_count": 6,
     "metadata": {},
     "output_type": "execute_result"
    }
   ],
   "source": [
    "eq_parsed_json.keys()"
   ]
  },
  {
   "cell_type": "code",
   "execution_count": 7,
   "metadata": {},
   "outputs": [
    {
     "data": {
      "text/plain": [
       "10"
      ]
     },
     "execution_count": 7,
     "metadata": {},
     "output_type": "execute_result"
    }
   ],
   "source": [
    "len(quakelist)"
   ]
  },
  {
   "cell_type": "code",
   "execution_count": 8,
   "metadata": {},
   "outputs": [
    {
     "data": {
      "text/plain": [
       "dict_keys(['type', 'properties', 'geometry', 'id'])"
      ]
     },
     "execution_count": 8,
     "metadata": {},
     "output_type": "execute_result"
    }
   ],
   "source": [
    "quake1.keys()"
   ]
  },
  {
   "cell_type": "code",
   "execution_count": 9,
   "metadata": {},
   "outputs": [
    {
     "name": "stdout",
     "output_type": "stream",
     "text": [
      "{\n",
      "  \"type\": \"Feature\",\n",
      "  \"properties\": {\n",
      "    \"mag\": 3.76,\n",
      "    \"place\": \"9km ENE of Gilroy, CA\",\n",
      "    \"time\": 1613957893840,\n",
      "    \"updated\": 1614104798901,\n",
      "    \"tz\": null,\n",
      "    \"url\": \"https://earthquake.usgs.gov/earthquakes/eventpage/nc73526151\",\n",
      "    \"detail\": \"https://earthquake.usgs.gov/earthquakes/feed/v1.0/detail/nc73526151.geojson\",\n",
      "    \"felt\": 1280,\n",
      "    \"cdi\": 3.9,\n",
      "    \"mmi\": 4.045,\n",
      "    \"alert\": null,\n",
      "    \"status\": \"reviewed\",\n",
      "    \"tsunami\": 0,\n",
      "    \"sig\": 608,\n",
      "    \"net\": \"nc\",\n",
      "    \"code\": \"73526151\",\n",
      "    \"ids\": \",ew1613957893,nc73526151,us6000djz4,\",\n",
      "    \"sources\": \",ew,nc,us,\",\n",
      "    \"types\": \",dyfi,focal-mechanism,moment-tensor,nearby-cities,origin,phase-data,scitech-link,shake-alert,shakemap,\",\n",
      "    \"nst\": 164,\n",
      "    \"dmin\": 0.02089,\n",
      "    \"rms\": 0.15,\n",
      "    \"gap\": 33,\n",
      "    \"magType\": \"mw\",\n",
      "    \"type\": \"earthquake\",\n",
      "    \"title\": \"M 3.8 - 9km ENE of Gilroy, CA\"\n",
      "  },\n",
      "  \"geometry\": {\n",
      "    \"type\": \"Point\",\n",
      "    \"coordinates\": [\n",
      "      -121.4781667,\n",
      "      37.0456667,\n",
      "      6.22\n",
      "    ]\n",
      "  },\n",
      "  \"id\": \"nc73526151\"\n",
      "}\n"
     ]
    }
   ],
   "source": [
    "print(json.dumps(quake1, indent = 2))"
   ]
  },
  {
   "cell_type": "code",
   "execution_count": null,
   "metadata": {},
   "outputs": [],
   "source": []
  }
 ],
 "metadata": {
  "kernelspec": {
   "display_name": "Python 3 (ipykernel)",
   "language": "python",
   "name": "python3"
  },
  "language_info": {
   "codemirror_mode": {
    "name": "ipython",
    "version": 3
   },
   "file_extension": ".py",
   "mimetype": "text/x-python",
   "name": "python",
   "nbconvert_exporter": "python",
   "pygments_lexer": "ipython3",
   "version": "3.9.7"
  }
 },
 "nbformat": 4,
 "nbformat_minor": 2
}
