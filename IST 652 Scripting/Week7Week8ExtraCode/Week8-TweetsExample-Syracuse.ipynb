{
 "cells": [
  {
   "cell_type": "code",
   "execution_count": 1,
   "metadata": {},
   "outputs": [
    {
     "data": {
      "text/plain": [
       "['admin',\n",
       " 'bball',\n",
       " 'bball2',\n",
       " 'bballnew',\n",
       " 'class20',\n",
       " 'covid',\n",
       " 'covid2',\n",
       " 'covidnew',\n",
       " 'disney',\n",
       " 'fbusers',\n",
       " 'gasprice',\n",
       " 'hw2',\n",
       " 'jordon',\n",
       " 'lax',\n",
       " 'local',\n",
       " 'mydatabase',\n",
       " 'newdatabase',\n",
       " 'peopledb',\n",
       " 'peopledvl',\n",
       " 'twit_users',\n",
       " 'usgs',\n",
       " 'usgsnew',\n",
       " 'usgsnewDVL',\n",
       " 'usgsnewDVL2']"
      ]
     },
     "execution_count": 1,
     "metadata": {},
     "output_type": "execute_result"
    }
   ],
   "source": [
    "import pymongo\n",
    "client = pymongo.MongoClient('localhost',27017)\n",
    "client.list_database_names()\n"
   ]
  },
  {
   "cell_type": "code",
   "execution_count": 2,
   "metadata": {},
   "outputs": [
    {
     "data": {
      "text/plain": [
       "['syracuselax']"
      ]
     },
     "execution_count": 2,
     "metadata": {},
     "output_type": "execute_result"
    }
   ],
   "source": [
    "db = client.lax\n",
    "db.list_collection_names()\n"
   ]
  },
  {
   "cell_type": "code",
   "execution_count": 3,
   "metadata": {},
   "outputs": [
    {
     "data": {
      "text/plain": [
       "10"
      ]
     },
     "execution_count": 3,
     "metadata": {},
     "output_type": "execute_result"
    }
   ],
   "source": [
    "coll = db.syracuselax\n",
    "docs = coll.find()\n",
    "doclist = [tweet for tweet in docs]\n",
    "len(doclist)\n"
   ]
  },
  {
   "cell_type": "code",
   "execution_count": 4,
   "metadata": {},
   "outputs": [
    {
     "name": "stdout",
     "output_type": "stream",
     "text": [
      "[{'_id': ObjectId('5acaaddc8f5b1630a4fc624c'), 'place': None, 'in_reply_to_status_id': None, 'in_reply_to_screen_name': None, 'id': 981513816646156290, 'in_reply_to_user_id': None, 'lang': 'en', 'id_str': '981513816646156290', 'geo': None, 'favorite_count': 0, 'entities': {'symbols': [], 'urls': [{'url': 'https://t.co/xg0hCUsuhg', 'expanded_url': 'https://www.instagram.com/p/BhJiqMbl4m4/', 'indices': [81, 104], 'display_url': 'instagram.com/p/BhJiqMbl4m4/'}], 'hashtags': [{'indices': [42, 52], 'text': 'laxgoalie'}, {'indices': [53, 61], 'text': 'cuselax'}, {'indices': [62, 80], 'text': 'ridgewoodlacrosse'}], 'user_mentions': []}, 'user': {'protected': False, 'following': None, 'contributors_enabled': False, 'profile_banner_url': 'https://pbs.twimg.com/profile_banners/830220182/1355799627', 'default_profile': False, 'utc_offset': -10800, 'description': '', 'profile_text_color': '333333', 'id_str': '830220182', 'followers_count': 106, 'listed_count': 0, 'profile_background_image_url': 'http://pbs.twimg.com/profile_background_images/568880314202611712/QFav-_Px.jpeg', 'verified': False, 'profile_use_background_image': True, 'url': 'http://t.co/FN6DKUljmD', 'favourites_count': 63, 'entities': {'url': {'urls': [{'url': 'http://t.co/FN6DKUljmD', 'expanded_url': 'http://www.Jockpage.com', 'indices': [0, 22], 'display_url': 'Jockpage.com'}]}, 'description': {'urls': []}}, 'geo_enabled': True, 'name': 'JockPage', 'profile_sidebar_fill_color': 'DDEEF6', 'time_zone': 'Atlantic Time (Canada)', 'notifications': None, 'default_profile_image': False, 'profile_sidebar_border_color': 'FFFFFF', 'created_at': 'Tue Sep 18 02:27:26 +0000 2012', 'friends_count': 265, 'is_translator': False, 'translator_type': 'none', 'profile_background_tile': True, 'id': 830220182, 'is_translation_enabled': False, 'screen_name': 'jockpage', 'profile_background_color': 'C0DEED', 'profile_image_url_https': 'https://pbs.twimg.com/profile_images/978857985865867271/CUSFze19_normal.jpg', 'has_extended_profile': False, 'follow_request_sent': None, 'lang': 'en', 'location': 'Ridgewood NJ', 'statuses_count': 1251, 'profile_image_url': 'http://pbs.twimg.com/profile_images/978857985865867271/CUSFze19_normal.jpg', 'profile_background_image_url_https': 'https://pbs.twimg.com/profile_background_images/568880314202611712/QFav-_Px.jpeg', 'profile_link_color': '4A913C'}, 'contributors': None, 'source': '<a href=\"http://instagram.com\" rel=\"nofollow\">Instagram</a>', 'created_at': 'Wed Apr 04 12:48:24 +0000 2018', 'favorited': False, 'metadata': {'iso_language_code': 'en', 'result_type': 'recent'}, 'in_reply_to_user_id_str': None, 'is_quote_status': False, 'retweet_count': 0, 'retweeted': False, 'text': 'New stringing.  Smells like ....Victory ! #laxgoalie #cuselax #ridgewoodlacrosse https://t.co/xg0hCUsuhg', 'possibly_sensitive': False, 'truncated': False, 'coordinates': None, 'in_reply_to_status_id_str': None}]\n"
     ]
    }
   ],
   "source": [
    "print(doclist[:1])"
   ]
  },
  {
   "cell_type": "code",
   "execution_count": 5,
   "metadata": {},
   "outputs": [],
   "source": [
    "def print_tweet_data(tweets):\n",
    "    for tweet in tweets:\n",
    "        print('\\nDate: ',tweet['created_at'])\n",
    "        print('Message: ',tweet['text'])\n",
    "        "
   ]
  },
  {
   "cell_type": "code",
   "execution_count": 6,
   "metadata": {},
   "outputs": [
    {
     "name": "stdout",
     "output_type": "stream",
     "text": [
      "\n",
      "Date:  Tue Apr 03 23:08:23 +0000 2018\n",
      "Message:  We are under way in the Carrier Dome\n",
      "\n",
      "#Cuse #cuselax #Syracuse #SyracuseLacrosse #Hobart #HobartLacrosse #ACCLAX… https://t.co/1DAT5PIagE\n",
      "\n",
      "Date:  Sun Apr 01 23:02:05 +0000 2018\n",
      "Message:  RT @CitrusTVSports: CitrusTV breaks down #CuseLax win over Notre Dame https://t.co/unAPDFdk2O\n",
      "\n",
      "Date:  Sun Apr 01 00:41:53 +0000 2018\n",
      "Message:  I was flipping out over this shot when I was at Buffalo Wild Wings! #lacrosse #tln #bww #GrowTheGame #ncaalax… https://t.co/33DtbC1V6J\n",
      "\n",
      "Date:  Sat Mar 31 23:08:58 +0000 2018\n",
      "Message:  Cuse was Man-Up for 9 seconds, Man-Down 8 times, and beat the 7th ranked team in the nation 10-6. Okay then. #CuseWins #CuseLax #LockDown\n",
      "\n",
      "Date:  Sat Mar 31 23:08:57 +0000 2018\n",
      "Message:  CitrusTV breaks down #CuseLax win over Notre Dame https://t.co/unAPDFdk2O\n"
     ]
    }
   ],
   "source": [
    " print_tweet_data(doclist[5:10])"
   ]
  },
  {
   "cell_type": "code",
   "execution_count": null,
   "metadata": {},
   "outputs": [],
   "source": []
  }
 ],
 "metadata": {
  "kernelspec": {
   "display_name": "Python 3 (ipykernel)",
   "language": "python",
   "name": "python3"
  },
  "language_info": {
   "codemirror_mode": {
    "name": "ipython",
    "version": 3
   },
   "file_extension": ".py",
   "mimetype": "text/x-python",
   "name": "python",
   "nbconvert_exporter": "python",
   "pygments_lexer": "ipython3",
   "version": "3.9.7"
  }
 },
 "nbformat": 4,
 "nbformat_minor": 2
}
