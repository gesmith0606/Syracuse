{
 "cells": [
  {
   "cell_type": "code",
   "execution_count": 1,
   "metadata": {},
   "outputs": [
    {
     "data": {
      "text/plain": [
       "['admin',\n",
       " 'bball',\n",
       " 'bbills',\n",
       " 'bikes',\n",
       " 'config',\n",
       " 'fbusers',\n",
       " 'local',\n",
       " 'newdatabase',\n",
       " 'peopledb',\n",
       " 'usgs',\n",
       " 'usgsnewDVL2']"
      ]
     },
     "execution_count": 1,
     "metadata": {},
     "output_type": "execute_result"
    }
   ],
   "source": [
    "# import pymongo\n",
    "import json\n",
    "import pymongo\n",
    "\n",
    "# Connecting to the database\n",
    "from pymongo import MongoClient\n",
    "client = MongoClient('localhost', 27017)\n",
    "\n",
    "# show existing databases\n",
    "client.list_database_names()\n"
   ]
  },
  {
   "cell_type": "code",
   "execution_count": 2,
   "metadata": {},
   "outputs": [
    {
     "name": "stdout",
     "output_type": "stream",
     "text": [
      "3\n"
     ]
    }
   ],
   "source": [
    "db = client.bikes\n",
    "ddcoll = db.freebikes\n",
    "\n",
    "with open('free-bike-status-1.json') as f:\n",
    "    file_data = json.load(f)\n",
    "print(len(file_data))\n",
    "if isinstance(file_data, list):\n",
    "    ddcoll.insert_many(file_data)  \n",
    "else:\n",
    "    ddcoll.insert_one(file_data)\n",
    "\n",
    "#client.close()"
   ]
  },
  {
   "cell_type": "code",
   "execution_count": 3,
   "metadata": {},
   "outputs": [
    {
     "name": "stdout",
     "output_type": "stream",
     "text": [
      "{'bikes': [{'bike_id': 'bike_12749', 'name': 'T723', 'lon': -111.94272, 'lat': 33.4315, 'is_reserved': 0, 'is_disabled': 0}, {'bike_id': 'bike_12881', 'name': 'T782', 'lon': -112.201445, 'lat': 33.52102, 'is_reserved': 0, 'is_disabled': 0}, {'bike_id': 'bike_1356', 'name': 'GRID 182', 'lon': -112.07163666666666, 'lat': 33.48441666666667, 'is_reserved': 0, 'is_disabled': 0}, {'bike_id': 'bike_13053', 'name': 'T986', 'lon': -111.904845, 'lat': 33.414966666666665, 'is_reserved': 0, 'is_disabled': 0}, {'bike_id': 'bike_10563', 'name': 'GRID 2007', 'lon': -112.09316, 'lat': 33.496715, 'is_reserved': 0, 'is_disabled': 0}, {'bike_id': 'bike_17318', 'name': 'GRID 2025', 'lon': -112.07365833333333, 'lat': 33.45101833333333, 'is_reserved': 0, 'is_disabled': 0}, {'bike_id': 'bike_12872', 'name': 'T833', 'lon': -111.93746, 'lat': 33.434736666666666, 'is_reserved': 0, 'is_disabled': 0}, {'bike_id': 'bike_5032', 'name': 'M 2264', 'lon': -112.10558833333333, 'lat': 33.452895, 'is_reserved': 0, 'is_disabled': 0}, {'bike_id': 'bike_12766', 'name': 'T756', 'lon': -111.94327833333334, 'lat': 33.435388333333336, 'is_reserved': 0, 'is_disabled': 0}, {'bike_id': 'bike_13103', 'name': 'T933', 'lon': -111.94156166666667, 'lat': 33.4352, 'is_reserved': 0, 'is_disabled': 0}, {'bike_id': 'bike_799', 'name': 'GRID 086 ', 'lon': -112.09318166666667, 'lat': 33.49670666666667, 'is_reserved': 0, 'is_disabled': 0}, {'bike_id': 'bike_13054', 'name': 'T987', 'lon': -111.95468833333334, 'lat': 33.394733333333335, 'is_reserved': 0, 'is_disabled': 0}, {'bike_id': 'bike_13095', 'name': 'T961', 'lon': -111.91803666666667, 'lat': 33.422135, 'is_reserved': 0, 'is_disabled': 0}, {'bike_id': 'bike_12786', 'name': 'T731', 'lon': -111.94013833333334, 'lat': 33.42771166666667, 'is_reserved': 0, 'is_disabled': 0}, {'bike_id': 'bike_12869', 'name': 'T839', 'lon': -111.93381333333333, 'lat': 33.41817666666667, 'is_reserved': 0, 'is_disabled': 0}, {'bike_id': 'bike_12763', 'name': 'T755', 'lon': -111.94112166666666, 'lat': 33.42339, 'is_reserved': 0, 'is_disabled': 0}, {'bike_id': 'bike_13069', 'name': 'T996', 'lon': -111.95074333333334, 'lat': 33.38436, 'is_reserved': 0, 'is_disabled': 0}, {'bike_id': 'bike_5046', 'name': 'GRID 402 FIRMWARE RESCUE', 'lon': -111.94224833333334, 'lat': 33.42559166666667, 'is_reserved': 0, 'is_disabled': 0}, {'bike_id': 'bike_12866', 'name': 'T837', 'lon': -111.90525833333334, 'lat': 33.41126333333333, 'is_reserved': 0, 'is_disabled': 0}, {'bike_id': 'bike_12845', 'name': 'T819', 'lon': -111.93747833333333, 'lat': 33.43475333333333, 'is_reserved': 0, 'is_disabled': 0}, {'bike_id': 'bike_13042', 'name': 'T939', 'lon': -111.881755, 'lat': 33.41675166666667, 'is_reserved': 0, 'is_disabled': 0}]}\n"
     ]
    }
   ],
   "source": [
    "print(file_data[\"data\"])"
   ]
  },
  {
   "cell_type": "code",
   "execution_count": null,
   "metadata": {},
   "outputs": [],
   "source": [
    "#content = json.loads(response.content)\n",
    "newJson = {\"data\": []}\n",
    "\n",
    "for entry in file_data[\"data\"][\"bikes\"]:\n",
    "    print(entry)\n",
    "    newentry = entry\n",
    "    newJson[\"data\"].append(entry)"
   ]
  },
  {
   "cell_type": "raw",
   "metadata": {},
   "source": [
    "print(newJson)"
   ]
  }
 ],
 "metadata": {
  "kernelspec": {
   "display_name": "Python 3 (ipykernel)",
   "language": "python",
   "name": "python3"
  },
  "language_info": {
   "codemirror_mode": {
    "name": "ipython",
    "version": 3
   },
   "file_extension": ".py",
   "mimetype": "text/x-python",
   "name": "python",
   "nbconvert_exporter": "python",
   "pygments_lexer": "ipython3",
   "version": "3.9.7"
  }
 },
 "nbformat": 4,
 "nbformat_minor": 4
}
